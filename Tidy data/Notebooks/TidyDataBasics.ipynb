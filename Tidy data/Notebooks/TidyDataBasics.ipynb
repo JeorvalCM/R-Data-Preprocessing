{
 "cells": [
  {
   "cell_type": "code",
   "execution_count": 11,
   "metadata": {},
   "outputs": [],
   "source": [
    "library(tidyverse)\n",
    "library(tidyr)"
   ]
  },
  {
   "cell_type": "markdown",
   "metadata": {},
   "source": [
    "# Baby Names"
   ]
  },
  {
   "cell_type": "code",
   "execution_count": 3,
   "metadata": {},
   "outputs": [
    {
     "name": "stderr",
     "output_type": "stream",
     "text": [
      "\n",
      "\u001b[36m--\u001b[39m \u001b[1m\u001b[1mColumn specification\u001b[1m\u001b[22m \u001b[36m------------------------------------------------------------------------------------------------\u001b[39m\n",
      "cols(\n",
      "  rank = \u001b[32mcol_double()\u001b[39m,\n",
      "  name = \u001b[31mcol_character()\u001b[39m,\n",
      "  frequency = \u001b[32mcol_double()\u001b[39m,\n",
      "  sex = \u001b[31mcol_character()\u001b[39m\n",
      ")\n",
      "\n",
      "\n"
     ]
    },
    {
     "data": {
      "text/html": [
       "<table>\n",
       "<caption>A tibble: 6 × 5</caption>\n",
       "<thead>\n",
       "\t<tr><th scope=col>rank</th><th scope=col>name</th><th scope=col>frequency</th><th scope=col>sex</th><th scope=col>Year</th></tr>\n",
       "\t<tr><th scope=col>&lt;dbl&gt;</th><th scope=col>&lt;chr&gt;</th><th scope=col>&lt;dbl&gt;</th><th scope=col>&lt;chr&gt;</th><th scope=col>&lt;dbl&gt;</th></tr>\n",
       "</thead>\n",
       "<tbody>\n",
       "\t<tr><td>1</td><td>Noah     </td><td>837</td><td>Male</td><td>2014</td></tr>\n",
       "\t<tr><td>2</td><td>Alexander</td><td>747</td><td>Male</td><td>2014</td></tr>\n",
       "\t<tr><td>3</td><td>William  </td><td>687</td><td>Male</td><td>2014</td></tr>\n",
       "\t<tr><td>4</td><td>Michael  </td><td>680</td><td>Male</td><td>2014</td></tr>\n",
       "\t<tr><td>5</td><td>Liam     </td><td>670</td><td>Male</td><td>2014</td></tr>\n",
       "\t<tr><td>6</td><td>Jacob    </td><td>654</td><td>Male</td><td>2014</td></tr>\n",
       "</tbody>\n",
       "</table>\n"
      ],
      "text/latex": [
       "A tibble: 6 × 5\n",
       "\\begin{tabular}{lllll}\n",
       " rank & name & frequency & sex & Year\\\\\n",
       " <dbl> & <chr> & <dbl> & <chr> & <dbl>\\\\\n",
       "\\hline\n",
       "\t 1 & Noah      & 837 & Male & 2014\\\\\n",
       "\t 2 & Alexander & 747 & Male & 2014\\\\\n",
       "\t 3 & William   & 687 & Male & 2014\\\\\n",
       "\t 4 & Michael   & 680 & Male & 2014\\\\\n",
       "\t 5 & Liam      & 670 & Male & 2014\\\\\n",
       "\t 6 & Jacob     & 654 & Male & 2014\\\\\n",
       "\\end{tabular}\n"
      ],
      "text/markdown": [
       "\n",
       "A tibble: 6 × 5\n",
       "\n",
       "| rank &lt;dbl&gt; | name &lt;chr&gt; | frequency &lt;dbl&gt; | sex &lt;chr&gt; | Year &lt;dbl&gt; |\n",
       "|---|---|---|---|---|\n",
       "| 1 | Noah      | 837 | Male | 2014 |\n",
       "| 2 | Alexander | 747 | Male | 2014 |\n",
       "| 3 | William   | 687 | Male | 2014 |\n",
       "| 4 | Michael   | 680 | Male | 2014 |\n",
       "| 5 | Liam      | 670 | Male | 2014 |\n",
       "| 6 | Jacob     | 654 | Male | 2014 |\n",
       "\n"
      ],
      "text/plain": [
       "  rank name      frequency sex  Year\n",
       "1 1    Noah      837       Male 2014\n",
       "2 2    Alexander 747       Male 2014\n",
       "3 3    William   687       Male 2014\n",
       "4 4    Michael   680       Male 2014\n",
       "5 5    Liam      670       Male 2014\n",
       "6 6    Jacob     654       Male 2014"
      ]
     },
     "metadata": {},
     "output_type": "display_data"
    }
   ],
   "source": [
    "baby2014 <- read_csv(\"../Datasets/2014-baby-names-illinois.csv\")\n",
    "baby2014$Year <- 2014\n",
    "baby2014 %>%\n",
    "    head()"
   ]
  },
  {
   "cell_type": "code",
   "execution_count": 4,
   "metadata": {},
   "outputs": [
    {
     "name": "stderr",
     "output_type": "stream",
     "text": [
      "\n",
      "\u001b[36m--\u001b[39m \u001b[1m\u001b[1mColumn specification\u001b[1m\u001b[22m \u001b[36m------------------------------------------------------------------------------------------------\u001b[39m\n",
      "cols(\n",
      "  rank = \u001b[32mcol_double()\u001b[39m,\n",
      "  name = \u001b[31mcol_character()\u001b[39m,\n",
      "  frequency = \u001b[32mcol_double()\u001b[39m,\n",
      "  sex = \u001b[31mcol_character()\u001b[39m\n",
      ")\n",
      "\n",
      "\n"
     ]
    },
    {
     "data": {
      "text/html": [
       "<table>\n",
       "<caption>A tibble: 6 × 5</caption>\n",
       "<thead>\n",
       "\t<tr><th scope=col>rank</th><th scope=col>name</th><th scope=col>frequency</th><th scope=col>sex</th><th scope=col>Year</th></tr>\n",
       "\t<tr><th scope=col>&lt;dbl&gt;</th><th scope=col>&lt;chr&gt;</th><th scope=col>&lt;dbl&gt;</th><th scope=col>&lt;chr&gt;</th><th scope=col>&lt;dbl&gt;</th></tr>\n",
       "</thead>\n",
       "<tbody>\n",
       "\t<tr><td>1</td><td>Noah     </td><td>863</td><td>Male</td><td>2015</td></tr>\n",
       "\t<tr><td>2</td><td>Liam     </td><td>709</td><td>Male</td><td>2015</td></tr>\n",
       "\t<tr><td>3</td><td>Alexander</td><td>703</td><td>Male</td><td>2015</td></tr>\n",
       "\t<tr><td>4</td><td>Jacob    </td><td>650</td><td>Male</td><td>2015</td></tr>\n",
       "\t<tr><td>5</td><td>William  </td><td>618</td><td>Male</td><td>2015</td></tr>\n",
       "\t<tr><td>6</td><td>Michael  </td><td>617</td><td>Male</td><td>2015</td></tr>\n",
       "</tbody>\n",
       "</table>\n"
      ],
      "text/latex": [
       "A tibble: 6 × 5\n",
       "\\begin{tabular}{lllll}\n",
       " rank & name & frequency & sex & Year\\\\\n",
       " <dbl> & <chr> & <dbl> & <chr> & <dbl>\\\\\n",
       "\\hline\n",
       "\t 1 & Noah      & 863 & Male & 2015\\\\\n",
       "\t 2 & Liam      & 709 & Male & 2015\\\\\n",
       "\t 3 & Alexander & 703 & Male & 2015\\\\\n",
       "\t 4 & Jacob     & 650 & Male & 2015\\\\\n",
       "\t 5 & William   & 618 & Male & 2015\\\\\n",
       "\t 6 & Michael   & 617 & Male & 2015\\\\\n",
       "\\end{tabular}\n"
      ],
      "text/markdown": [
       "\n",
       "A tibble: 6 × 5\n",
       "\n",
       "| rank &lt;dbl&gt; | name &lt;chr&gt; | frequency &lt;dbl&gt; | sex &lt;chr&gt; | Year &lt;dbl&gt; |\n",
       "|---|---|---|---|---|\n",
       "| 1 | Noah      | 863 | Male | 2015 |\n",
       "| 2 | Liam      | 709 | Male | 2015 |\n",
       "| 3 | Alexander | 703 | Male | 2015 |\n",
       "| 4 | Jacob     | 650 | Male | 2015 |\n",
       "| 5 | William   | 618 | Male | 2015 |\n",
       "| 6 | Michael   | 617 | Male | 2015 |\n",
       "\n"
      ],
      "text/plain": [
       "  rank name      frequency sex  Year\n",
       "1 1    Noah      863       Male 2015\n",
       "2 2    Liam      709       Male 2015\n",
       "3 3    Alexander 703       Male 2015\n",
       "4 4    Jacob     650       Male 2015\n",
       "5 5    William   618       Male 2015\n",
       "6 6    Michael   617       Male 2015"
      ]
     },
     "metadata": {},
     "output_type": "display_data"
    }
   ],
   "source": [
    "baby2015 <- read_csv(\"../Datasets/2015-baby-names-illinois.csv\")\n",
    "baby2015$Year <- 2015\n",
    "baby2015 %>%\n",
    "    head()"
   ]
  },
  {
   "cell_type": "markdown",
   "metadata": {},
   "source": [
    "## Error:\n",
    "\n",
    "One type of experimental unit stored in multiple tables"
   ]
  },
  {
   "cell_type": "code",
   "execution_count": 6,
   "metadata": {},
   "outputs": [
    {
     "data": {
      "text/html": [
       "<table>\n",
       "<caption>A tibble: 6 × 5</caption>\n",
       "<thead>\n",
       "\t<tr><th scope=col>rank</th><th scope=col>name</th><th scope=col>frequency</th><th scope=col>sex</th><th scope=col>Year</th></tr>\n",
       "\t<tr><th scope=col>&lt;dbl&gt;</th><th scope=col>&lt;chr&gt;</th><th scope=col>&lt;dbl&gt;</th><th scope=col>&lt;chr&gt;</th><th scope=col>&lt;dbl&gt;</th></tr>\n",
       "</thead>\n",
       "<tbody>\n",
       "\t<tr><td>1</td><td>Noah     </td><td>837</td><td>Male</td><td>2014</td></tr>\n",
       "\t<tr><td>2</td><td>Alexander</td><td>747</td><td>Male</td><td>2014</td></tr>\n",
       "\t<tr><td>3</td><td>William  </td><td>687</td><td>Male</td><td>2014</td></tr>\n",
       "\t<tr><td>4</td><td>Michael  </td><td>680</td><td>Male</td><td>2014</td></tr>\n",
       "\t<tr><td>5</td><td>Liam     </td><td>670</td><td>Male</td><td>2014</td></tr>\n",
       "\t<tr><td>6</td><td>Jacob    </td><td>654</td><td>Male</td><td>2014</td></tr>\n",
       "</tbody>\n",
       "</table>\n"
      ],
      "text/latex": [
       "A tibble: 6 × 5\n",
       "\\begin{tabular}{lllll}\n",
       " rank & name & frequency & sex & Year\\\\\n",
       " <dbl> & <chr> & <dbl> & <chr> & <dbl>\\\\\n",
       "\\hline\n",
       "\t 1 & Noah      & 837 & Male & 2014\\\\\n",
       "\t 2 & Alexander & 747 & Male & 2014\\\\\n",
       "\t 3 & William   & 687 & Male & 2014\\\\\n",
       "\t 4 & Michael   & 680 & Male & 2014\\\\\n",
       "\t 5 & Liam      & 670 & Male & 2014\\\\\n",
       "\t 6 & Jacob     & 654 & Male & 2014\\\\\n",
       "\\end{tabular}\n"
      ],
      "text/markdown": [
       "\n",
       "A tibble: 6 × 5\n",
       "\n",
       "| rank &lt;dbl&gt; | name &lt;chr&gt; | frequency &lt;dbl&gt; | sex &lt;chr&gt; | Year &lt;dbl&gt; |\n",
       "|---|---|---|---|---|\n",
       "| 1 | Noah      | 837 | Male | 2014 |\n",
       "| 2 | Alexander | 747 | Male | 2014 |\n",
       "| 3 | William   | 687 | Male | 2014 |\n",
       "| 4 | Michael   | 680 | Male | 2014 |\n",
       "| 5 | Liam      | 670 | Male | 2014 |\n",
       "| 6 | Jacob     | 654 | Male | 2014 |\n",
       "\n"
      ],
      "text/plain": [
       "  rank name      frequency sex  Year\n",
       "1 1    Noah      837       Male 2014\n",
       "2 2    Alexander 747       Male 2014\n",
       "3 3    William   687       Male 2014\n",
       "4 4    Michael   680       Male 2014\n",
       "5 5    Liam      670       Male 2014\n",
       "6 6    Jacob     654       Male 2014"
      ]
     },
     "metadata": {},
     "output_type": "display_data"
    }
   ],
   "source": [
    "babies <- rbind(baby2014, baby2015)\n",
    "babies %>%\n",
    "    head()"
   ]
  },
  {
   "cell_type": "markdown",
   "metadata": {},
   "source": [
    "# Pew Data"
   ]
  },
  {
   "cell_type": "code",
   "execution_count": 10,
   "metadata": {},
   "outputs": [
    {
     "name": "stderr",
     "output_type": "stream",
     "text": [
      "\n",
      "\u001b[36m--\u001b[39m \u001b[1m\u001b[1mColumn specification\u001b[1m\u001b[22m \u001b[36m------------------------------------------------------------------------------------------------\u001b[39m\n",
      "cols(\n",
      "  religion = \u001b[31mcol_character()\u001b[39m,\n",
      "  `<$10k` = \u001b[32mcol_double()\u001b[39m,\n",
      "  `$10-20k` = \u001b[32mcol_double()\u001b[39m,\n",
      "  `$20-30k` = \u001b[32mcol_double()\u001b[39m,\n",
      "  `$30-40k` = \u001b[32mcol_double()\u001b[39m,\n",
      "  `$40-50k` = \u001b[32mcol_double()\u001b[39m,\n",
      "  `$50-75k` = \u001b[32mcol_double()\u001b[39m,\n",
      "  `$75-100k` = \u001b[32mcol_double()\u001b[39m,\n",
      "  `$100-150k` = \u001b[32mcol_double()\u001b[39m,\n",
      "  `>150k` = \u001b[32mcol_double()\u001b[39m,\n",
      "  `Don't know/refused` = \u001b[32mcol_double()\u001b[39m\n",
      ")\n",
      "\n",
      "\n"
     ]
    },
    {
     "data": {
      "text/html": [
       "<table>\n",
       "<caption>A tibble: 6 × 11</caption>\n",
       "<thead>\n",
       "\t<tr><th scope=col>religion</th><th scope=col>&lt;$10k</th><th scope=col>$10-20k</th><th scope=col>$20-30k</th><th scope=col>$30-40k</th><th scope=col>$40-50k</th><th scope=col>$50-75k</th><th scope=col>$75-100k</th><th scope=col>$100-150k</th><th scope=col>&gt;150k</th><th scope=col>Don't know/refused</th></tr>\n",
       "\t<tr><th scope=col>&lt;chr&gt;</th><th scope=col>&lt;dbl&gt;</th><th scope=col>&lt;dbl&gt;</th><th scope=col>&lt;dbl&gt;</th><th scope=col>&lt;dbl&gt;</th><th scope=col>&lt;dbl&gt;</th><th scope=col>&lt;dbl&gt;</th><th scope=col>&lt;dbl&gt;</th><th scope=col>&lt;dbl&gt;</th><th scope=col>&lt;dbl&gt;</th><th scope=col>&lt;dbl&gt;</th></tr>\n",
       "</thead>\n",
       "<tbody>\n",
       "\t<tr><td>Agnostic          </td><td> 27</td><td> 34</td><td>  60</td><td> 81</td><td> 76</td><td> 137</td><td>122</td><td>109</td><td> 84</td><td>  96</td></tr>\n",
       "\t<tr><td>Atheist           </td><td> 12</td><td> 27</td><td>  37</td><td> 52</td><td> 35</td><td>  70</td><td> 73</td><td> 59</td><td> 74</td><td>  76</td></tr>\n",
       "\t<tr><td>Buddhist          </td><td> 27</td><td> 21</td><td>  30</td><td> 34</td><td> 33</td><td>  58</td><td> 62</td><td> 39</td><td> 53</td><td>  54</td></tr>\n",
       "\t<tr><td>Catholic          </td><td>418</td><td>617</td><td> 732</td><td>670</td><td>638</td><td>1116</td><td>949</td><td>792</td><td>633</td><td>1489</td></tr>\n",
       "\t<tr><td>Don’t know/refused</td><td> 15</td><td> 14</td><td>  15</td><td> 11</td><td> 10</td><td>  35</td><td> 21</td><td> 17</td><td> 18</td><td> 116</td></tr>\n",
       "\t<tr><td>Evangelical Prot  </td><td>575</td><td>869</td><td>1064</td><td>982</td><td>881</td><td>1486</td><td>949</td><td>723</td><td>414</td><td>1529</td></tr>\n",
       "</tbody>\n",
       "</table>\n"
      ],
      "text/latex": [
       "A tibble: 6 × 11\n",
       "\\begin{tabular}{lllllllllll}\n",
       " religion & <\\$10k & \\$10-20k & \\$20-30k & \\$30-40k & \\$40-50k & \\$50-75k & \\$75-100k & \\$100-150k & >150k & Don't know/refused\\\\\n",
       " <chr> & <dbl> & <dbl> & <dbl> & <dbl> & <dbl> & <dbl> & <dbl> & <dbl> & <dbl> & <dbl>\\\\\n",
       "\\hline\n",
       "\t Agnostic           &  27 &  34 &   60 &  81 &  76 &  137 & 122 & 109 &  84 &   96\\\\\n",
       "\t Atheist            &  12 &  27 &   37 &  52 &  35 &   70 &  73 &  59 &  74 &   76\\\\\n",
       "\t Buddhist           &  27 &  21 &   30 &  34 &  33 &   58 &  62 &  39 &  53 &   54\\\\\n",
       "\t Catholic           & 418 & 617 &  732 & 670 & 638 & 1116 & 949 & 792 & 633 & 1489\\\\\n",
       "\t Don’t know/refused &  15 &  14 &   15 &  11 &  10 &   35 &  21 &  17 &  18 &  116\\\\\n",
       "\t Evangelical Prot   & 575 & 869 & 1064 & 982 & 881 & 1486 & 949 & 723 & 414 & 1529\\\\\n",
       "\\end{tabular}\n"
      ],
      "text/markdown": [
       "\n",
       "A tibble: 6 × 11\n",
       "\n",
       "| religion &lt;chr&gt; | &lt;$10k &lt;dbl&gt; | $10-20k &lt;dbl&gt; | $20-30k &lt;dbl&gt; | $30-40k &lt;dbl&gt; | $40-50k &lt;dbl&gt; | $50-75k &lt;dbl&gt; | $75-100k &lt;dbl&gt; | $100-150k &lt;dbl&gt; | &gt;150k &lt;dbl&gt; | Don't know/refused &lt;dbl&gt; |\n",
       "|---|---|---|---|---|---|---|---|---|---|---|\n",
       "| Agnostic           |  27 |  34 |   60 |  81 |  76 |  137 | 122 | 109 |  84 |   96 |\n",
       "| Atheist            |  12 |  27 |   37 |  52 |  35 |   70 |  73 |  59 |  74 |   76 |\n",
       "| Buddhist           |  27 |  21 |   30 |  34 |  33 |   58 |  62 |  39 |  53 |   54 |\n",
       "| Catholic           | 418 | 617 |  732 | 670 | 638 | 1116 | 949 | 792 | 633 | 1489 |\n",
       "| Don’t know/refused |  15 |  14 |   15 |  11 |  10 |   35 |  21 |  17 |  18 |  116 |\n",
       "| Evangelical Prot   | 575 | 869 | 1064 | 982 | 881 | 1486 | 949 | 723 | 414 | 1529 |\n",
       "\n"
      ],
      "text/plain": [
       "  religion           <$10k $10-20k $20-30k $30-40k $40-50k $50-75k $75-100k\n",
       "1 Agnostic            27    34       60     81      76      137    122     \n",
       "2 Atheist             12    27       37     52      35       70     73     \n",
       "3 Buddhist            27    21       30     34      33       58     62     \n",
       "4 Catholic           418   617      732    670     638     1116    949     \n",
       "5 Don’t know/refused  15    14       15     11      10       35     21     \n",
       "6 Evangelical Prot   575   869     1064    982     881     1486    949     \n",
       "  $100-150k >150k Don't know/refused\n",
       "1 109        84     96              \n",
       "2  59        74     76              \n",
       "3  39        53     54              \n",
       "4 792       633   1489              \n",
       "5  17        18    116              \n",
       "6 723       414   1529              "
      ]
     },
     "metadata": {},
     "output_type": "display_data"
    }
   ],
   "source": [
    "pew <- read_tsv(\"../Datasets/pew.txt\")\n",
    "pew %>%\n",
    "    head()"
   ]
  },
  {
   "cell_type": "markdown",
   "metadata": {},
   "source": [
    "## Error:\n",
    "Column headers are values, not variable names, because are intervarl of money ears, therefore, it is useless to use it as variables"
   ]
  },
  {
   "cell_type": "code",
   "execution_count": 14,
   "metadata": {},
   "outputs": [
    {
     "data": {
      "text/html": [
       "<table>\n",
       "<caption>A tibble: 6 × 3</caption>\n",
       "<thead>\n",
       "\t<tr><th scope=col>religion</th><th scope=col>income</th><th scope=col>freq</th></tr>\n",
       "\t<tr><th scope=col>&lt;chr&gt;</th><th scope=col>&lt;chr&gt;</th><th scope=col>&lt;dbl&gt;</th></tr>\n",
       "</thead>\n",
       "<tbody>\n",
       "\t<tr><td>Agnostic</td><td><span style=white-space:pre-wrap>&lt;$10k  </span></td><td> 27</td></tr>\n",
       "\t<tr><td>Agnostic</td><td>$10-20k</td><td> 34</td></tr>\n",
       "\t<tr><td>Agnostic</td><td>$20-30k</td><td> 60</td></tr>\n",
       "\t<tr><td>Agnostic</td><td>$30-40k</td><td> 81</td></tr>\n",
       "\t<tr><td>Agnostic</td><td>$40-50k</td><td> 76</td></tr>\n",
       "\t<tr><td>Agnostic</td><td>$50-75k</td><td>137</td></tr>\n",
       "</tbody>\n",
       "</table>\n"
      ],
      "text/latex": [
       "A tibble: 6 × 3\n",
       "\\begin{tabular}{lll}\n",
       " religion & income & freq\\\\\n",
       " <chr> & <chr> & <dbl>\\\\\n",
       "\\hline\n",
       "\t Agnostic & <\\$10k   &  27\\\\\n",
       "\t Agnostic & \\$10-20k &  34\\\\\n",
       "\t Agnostic & \\$20-30k &  60\\\\\n",
       "\t Agnostic & \\$30-40k &  81\\\\\n",
       "\t Agnostic & \\$40-50k &  76\\\\\n",
       "\t Agnostic & \\$50-75k & 137\\\\\n",
       "\\end{tabular}\n"
      ],
      "text/markdown": [
       "\n",
       "A tibble: 6 × 3\n",
       "\n",
       "| religion &lt;chr&gt; | income &lt;chr&gt; | freq &lt;dbl&gt; |\n",
       "|---|---|---|\n",
       "| Agnostic | &lt;$10k   |  27 |\n",
       "| Agnostic | $10-20k |  34 |\n",
       "| Agnostic | $20-30k |  60 |\n",
       "| Agnostic | $30-40k |  81 |\n",
       "| Agnostic | $40-50k |  76 |\n",
       "| Agnostic | $50-75k | 137 |\n",
       "\n"
      ],
      "text/plain": [
       "  religion income  freq\n",
       "1 Agnostic <$10k    27 \n",
       "2 Agnostic $10-20k  34 \n",
       "3 Agnostic $20-30k  60 \n",
       "4 Agnostic $30-40k  81 \n",
       "5 Agnostic $40-50k  76 \n",
       "6 Agnostic $50-75k 137 "
      ]
     },
     "metadata": {},
     "output_type": "display_data"
    }
   ],
   "source": [
    "pew_tidy <- pew %>%\n",
    "                pivot_longer(-religion, names_to = \"income\", values_to = \"freq\")\n",
    "pew_tidy %>%\n",
    "    head()"
   ]
  },
  {
   "cell_type": "markdown",
   "metadata": {},
   "source": [
    "# Weather "
   ]
  },
  {
   "cell_type": "code",
   "execution_count": 35,
   "metadata": {},
   "outputs": [
    {
     "name": "stderr",
     "output_type": "stream",
     "text": [
      "\n",
      "\u001b[36m--\u001b[39m \u001b[1m\u001b[1mColumn specification\u001b[1m\u001b[22m \u001b[36m------------------------------------------------------------------------------------------------\u001b[39m\n",
      "cols(\n",
      "  .default = col_double(),\n",
      "  id = \u001b[31mcol_character()\u001b[39m,\n",
      "  element = \u001b[31mcol_character()\u001b[39m,\n",
      "  d9 = \u001b[33mcol_logical()\u001b[39m,\n",
      "  d12 = \u001b[33mcol_logical()\u001b[39m,\n",
      "  d18 = \u001b[33mcol_logical()\u001b[39m,\n",
      "  d19 = \u001b[33mcol_logical()\u001b[39m,\n",
      "  d20 = \u001b[33mcol_logical()\u001b[39m,\n",
      "  d21 = \u001b[33mcol_logical()\u001b[39m,\n",
      "  d22 = \u001b[33mcol_logical()\u001b[39m,\n",
      "  d24 = \u001b[33mcol_logical()\u001b[39m\n",
      ")\n",
      "\u001b[36mi\u001b[39m Use \u001b[30m\u001b[47m\u001b[30m\u001b[47m`spec()`\u001b[47m\u001b[30m\u001b[49m\u001b[39m for the full column specifications.\n",
      "\n",
      "\n"
     ]
    },
    {
     "data": {
      "text/html": [
       "<table>\n",
       "<caption>A tibble: 6 × 35</caption>\n",
       "<thead>\n",
       "\t<tr><th scope=col>id</th><th scope=col>year</th><th scope=col>month</th><th scope=col>element</th><th scope=col>d1</th><th scope=col>d2</th><th scope=col>d3</th><th scope=col>d4</th><th scope=col>d5</th><th scope=col>d6</th><th scope=col>...</th><th scope=col>d22</th><th scope=col>d23</th><th scope=col>d24</th><th scope=col>d25</th><th scope=col>d26</th><th scope=col>d27</th><th scope=col>d28</th><th scope=col>d29</th><th scope=col>d30</th><th scope=col>d31</th></tr>\n",
       "\t<tr><th scope=col>&lt;chr&gt;</th><th scope=col>&lt;dbl&gt;</th><th scope=col>&lt;dbl&gt;</th><th scope=col>&lt;chr&gt;</th><th scope=col>&lt;dbl&gt;</th><th scope=col>&lt;dbl&gt;</th><th scope=col>&lt;dbl&gt;</th><th scope=col>&lt;dbl&gt;</th><th scope=col>&lt;dbl&gt;</th><th scope=col>&lt;dbl&gt;</th><th scope=col>...</th><th scope=col>&lt;lgl&gt;</th><th scope=col>&lt;dbl&gt;</th><th scope=col>&lt;lgl&gt;</th><th scope=col>&lt;dbl&gt;</th><th scope=col>&lt;dbl&gt;</th><th scope=col>&lt;dbl&gt;</th><th scope=col>&lt;dbl&gt;</th><th scope=col>&lt;dbl&gt;</th><th scope=col>&lt;dbl&gt;</th><th scope=col>&lt;dbl&gt;</th></tr>\n",
       "</thead>\n",
       "<tbody>\n",
       "\t<tr><td>MX000017004</td><td>2010</td><td>1</td><td>TMAX</td><td>NA</td><td> NA</td><td> NA</td><td>NA</td><td> NA</td><td>NA</td><td>...</td><td>NA</td><td> NA</td><td>NA</td><td>NA</td><td>NA</td><td>NA</td><td>NA</td><td>NA</td><td>278</td><td>NA</td></tr>\n",
       "\t<tr><td>MX000017004</td><td>2010</td><td>1</td><td>TMIN</td><td>NA</td><td> NA</td><td> NA</td><td>NA</td><td> NA</td><td>NA</td><td>...</td><td>NA</td><td> NA</td><td>NA</td><td>NA</td><td>NA</td><td>NA</td><td>NA</td><td>NA</td><td>145</td><td>NA</td></tr>\n",
       "\t<tr><td>MX000017004</td><td>2010</td><td>2</td><td>TMAX</td><td>NA</td><td>273</td><td>241</td><td>NA</td><td> NA</td><td>NA</td><td>...</td><td>NA</td><td>299</td><td>NA</td><td>NA</td><td>NA</td><td>NA</td><td>NA</td><td>NA</td><td> NA</td><td>NA</td></tr>\n",
       "\t<tr><td>MX000017004</td><td>2010</td><td>2</td><td>TMIN</td><td>NA</td><td>144</td><td>144</td><td>NA</td><td> NA</td><td>NA</td><td>...</td><td>NA</td><td>107</td><td>NA</td><td>NA</td><td>NA</td><td>NA</td><td>NA</td><td>NA</td><td> NA</td><td>NA</td></tr>\n",
       "\t<tr><td>MX000017004</td><td>2010</td><td>3</td><td>TMAX</td><td>NA</td><td> NA</td><td> NA</td><td>NA</td><td>321</td><td>NA</td><td>...</td><td>NA</td><td> NA</td><td>NA</td><td>NA</td><td>NA</td><td>NA</td><td>NA</td><td>NA</td><td> NA</td><td>NA</td></tr>\n",
       "\t<tr><td>MX000017004</td><td>2010</td><td>3</td><td>TMIN</td><td>NA</td><td> NA</td><td> NA</td><td>NA</td><td>142</td><td>NA</td><td>...</td><td>NA</td><td> NA</td><td>NA</td><td>NA</td><td>NA</td><td>NA</td><td>NA</td><td>NA</td><td> NA</td><td>NA</td></tr>\n",
       "</tbody>\n",
       "</table>\n"
      ],
      "text/latex": [
       "A tibble: 6 × 35\n",
       "\\begin{tabular}{lllllllllllllllllllll}\n",
       " id & year & month & element & d1 & d2 & d3 & d4 & d5 & d6 & ... & d22 & d23 & d24 & d25 & d26 & d27 & d28 & d29 & d30 & d31\\\\\n",
       " <chr> & <dbl> & <dbl> & <chr> & <dbl> & <dbl> & <dbl> & <dbl> & <dbl> & <dbl> & ... & <lgl> & <dbl> & <lgl> & <dbl> & <dbl> & <dbl> & <dbl> & <dbl> & <dbl> & <dbl>\\\\\n",
       "\\hline\n",
       "\t MX000017004 & 2010 & 1 & TMAX & NA &  NA &  NA & NA &  NA & NA & ... & NA &  NA & NA & NA & NA & NA & NA & NA & 278 & NA\\\\\n",
       "\t MX000017004 & 2010 & 1 & TMIN & NA &  NA &  NA & NA &  NA & NA & ... & NA &  NA & NA & NA & NA & NA & NA & NA & 145 & NA\\\\\n",
       "\t MX000017004 & 2010 & 2 & TMAX & NA & 273 & 241 & NA &  NA & NA & ... & NA & 299 & NA & NA & NA & NA & NA & NA &  NA & NA\\\\\n",
       "\t MX000017004 & 2010 & 2 & TMIN & NA & 144 & 144 & NA &  NA & NA & ... & NA & 107 & NA & NA & NA & NA & NA & NA &  NA & NA\\\\\n",
       "\t MX000017004 & 2010 & 3 & TMAX & NA &  NA &  NA & NA & 321 & NA & ... & NA &  NA & NA & NA & NA & NA & NA & NA &  NA & NA\\\\\n",
       "\t MX000017004 & 2010 & 3 & TMIN & NA &  NA &  NA & NA & 142 & NA & ... & NA &  NA & NA & NA & NA & NA & NA & NA &  NA & NA\\\\\n",
       "\\end{tabular}\n"
      ],
      "text/markdown": [
       "\n",
       "A tibble: 6 × 35\n",
       "\n",
       "| id &lt;chr&gt; | year &lt;dbl&gt; | month &lt;dbl&gt; | element &lt;chr&gt; | d1 &lt;dbl&gt; | d2 &lt;dbl&gt; | d3 &lt;dbl&gt; | d4 &lt;dbl&gt; | d5 &lt;dbl&gt; | d6 &lt;dbl&gt; | ... ... | d22 &lt;lgl&gt; | d23 &lt;dbl&gt; | d24 &lt;lgl&gt; | d25 &lt;dbl&gt; | d26 &lt;dbl&gt; | d27 &lt;dbl&gt; | d28 &lt;dbl&gt; | d29 &lt;dbl&gt; | d30 &lt;dbl&gt; | d31 &lt;dbl&gt; |\n",
       "|---|---|---|---|---|---|---|---|---|---|---|---|---|---|---|---|---|---|---|---|---|\n",
       "| MX000017004 | 2010 | 1 | TMAX | NA |  NA |  NA | NA |  NA | NA | ... | NA |  NA | NA | NA | NA | NA | NA | NA | 278 | NA |\n",
       "| MX000017004 | 2010 | 1 | TMIN | NA |  NA |  NA | NA |  NA | NA | ... | NA |  NA | NA | NA | NA | NA | NA | NA | 145 | NA |\n",
       "| MX000017004 | 2010 | 2 | TMAX | NA | 273 | 241 | NA |  NA | NA | ... | NA | 299 | NA | NA | NA | NA | NA | NA |  NA | NA |\n",
       "| MX000017004 | 2010 | 2 | TMIN | NA | 144 | 144 | NA |  NA | NA | ... | NA | 107 | NA | NA | NA | NA | NA | NA |  NA | NA |\n",
       "| MX000017004 | 2010 | 3 | TMAX | NA |  NA |  NA | NA | 321 | NA | ... | NA |  NA | NA | NA | NA | NA | NA | NA |  NA | NA |\n",
       "| MX000017004 | 2010 | 3 | TMIN | NA |  NA |  NA | NA | 142 | NA | ... | NA |  NA | NA | NA | NA | NA | NA | NA |  NA | NA |\n",
       "\n"
      ],
      "text/plain": [
       "  id          year month element d1 d2  d3  d4 d5  d6 ... d22 d23 d24 d25 d26\n",
       "1 MX000017004 2010 1     TMAX    NA  NA  NA NA  NA NA ... NA   NA NA  NA  NA \n",
       "2 MX000017004 2010 1     TMIN    NA  NA  NA NA  NA NA ... NA   NA NA  NA  NA \n",
       "3 MX000017004 2010 2     TMAX    NA 273 241 NA  NA NA ... NA  299 NA  NA  NA \n",
       "4 MX000017004 2010 2     TMIN    NA 144 144 NA  NA NA ... NA  107 NA  NA  NA \n",
       "5 MX000017004 2010 3     TMAX    NA  NA  NA NA 321 NA ... NA   NA NA  NA  NA \n",
       "6 MX000017004 2010 3     TMIN    NA  NA  NA NA 142 NA ... NA   NA NA  NA  NA \n",
       "  d27 d28 d29 d30 d31\n",
       "1 NA  NA  NA  278 NA \n",
       "2 NA  NA  NA  145 NA \n",
       "3 NA  NA  NA   NA NA \n",
       "4 NA  NA  NA   NA NA \n",
       "5 NA  NA  NA   NA NA \n",
       "6 NA  NA  NA   NA NA "
      ]
     },
     "metadata": {},
     "output_type": "display_data"
    }
   ],
   "source": [
    "weather <- read_tsv(\"../Datasets/weather.txt\")\n",
    "weather %>%\n",
    "    head()"
   ]
  },
  {
   "cell_type": "markdown",
   "metadata": {},
   "source": [
    "## Error:\n",
    "Variables are stored in both rows and columns, this can be easy to see in the column element because contains variables that are TMAX and TMIN, should be columns. Additionally, id, year and month are variable columns by itself"
   ]
  },
  {
   "cell_type": "code",
   "execution_count": 48,
   "metadata": {},
   "outputs": [
    {
     "data": {
      "text/html": [
       "<table>\n",
       "<caption>A tibble: 6 × 6</caption>\n",
       "<thead>\n",
       "\t<tr><th scope=col>id</th><th scope=col>year</th><th scope=col>month</th><th scope=col>element</th><th scope=col>Day</th><th scope=col>Temperature</th></tr>\n",
       "\t<tr><th scope=col>&lt;chr&gt;</th><th scope=col>&lt;dbl&gt;</th><th scope=col>&lt;dbl&gt;</th><th scope=col>&lt;chr&gt;</th><th scope=col>&lt;chr&gt;</th><th scope=col>&lt;dbl&gt;</th></tr>\n",
       "</thead>\n",
       "<tbody>\n",
       "\t<tr><td>MX000017004</td><td>2010</td><td>1</td><td>TMAX</td><td>30</td><td>278</td></tr>\n",
       "\t<tr><td>MX000017004</td><td>2010</td><td>1</td><td>TMIN</td><td>30</td><td>145</td></tr>\n",
       "\t<tr><td>MX000017004</td><td>2010</td><td>2</td><td>TMAX</td><td>2 </td><td>273</td></tr>\n",
       "\t<tr><td>MX000017004</td><td>2010</td><td>2</td><td>TMAX</td><td>3 </td><td>241</td></tr>\n",
       "\t<tr><td>MX000017004</td><td>2010</td><td>2</td><td>TMAX</td><td>11</td><td>297</td></tr>\n",
       "\t<tr><td>MX000017004</td><td>2010</td><td>2</td><td>TMAX</td><td>23</td><td>299</td></tr>\n",
       "</tbody>\n",
       "</table>\n"
      ],
      "text/latex": [
       "A tibble: 6 × 6\n",
       "\\begin{tabular}{llllll}\n",
       " id & year & month & element & Day & Temperature\\\\\n",
       " <chr> & <dbl> & <dbl> & <chr> & <chr> & <dbl>\\\\\n",
       "\\hline\n",
       "\t MX000017004 & 2010 & 1 & TMAX & 30 & 278\\\\\n",
       "\t MX000017004 & 2010 & 1 & TMIN & 30 & 145\\\\\n",
       "\t MX000017004 & 2010 & 2 & TMAX & 2  & 273\\\\\n",
       "\t MX000017004 & 2010 & 2 & TMAX & 3  & 241\\\\\n",
       "\t MX000017004 & 2010 & 2 & TMAX & 11 & 297\\\\\n",
       "\t MX000017004 & 2010 & 2 & TMAX & 23 & 299\\\\\n",
       "\\end{tabular}\n"
      ],
      "text/markdown": [
       "\n",
       "A tibble: 6 × 6\n",
       "\n",
       "| id &lt;chr&gt; | year &lt;dbl&gt; | month &lt;dbl&gt; | element &lt;chr&gt; | Day &lt;chr&gt; | Temperature &lt;dbl&gt; |\n",
       "|---|---|---|---|---|---|\n",
       "| MX000017004 | 2010 | 1 | TMAX | 30 | 278 |\n",
       "| MX000017004 | 2010 | 1 | TMIN | 30 | 145 |\n",
       "| MX000017004 | 2010 | 2 | TMAX | 2  | 273 |\n",
       "| MX000017004 | 2010 | 2 | TMAX | 3  | 241 |\n",
       "| MX000017004 | 2010 | 2 | TMAX | 11 | 297 |\n",
       "| MX000017004 | 2010 | 2 | TMAX | 23 | 299 |\n",
       "\n"
      ],
      "text/plain": [
       "  id          year month element Day Temperature\n",
       "1 MX000017004 2010 1     TMAX    30  278        \n",
       "2 MX000017004 2010 1     TMIN    30  145        \n",
       "3 MX000017004 2010 2     TMAX    2   273        \n",
       "4 MX000017004 2010 2     TMAX    3   241        \n",
       "5 MX000017004 2010 2     TMAX    11  297        \n",
       "6 MX000017004 2010 2     TMAX    23  299        "
      ]
     },
     "metadata": {},
     "output_type": "display_data"
    }
   ],
   "source": [
    "\n",
    "# melting the csv to get the column element that contains TMAX and TMIN and each one its temperature, and another\n",
    "# columns that contains that day, the drop the row that have empty values\n",
    "\n",
    "\n",
    "weather_tidy <- weather %>%\n",
    "                    pivot_longer(\n",
    "                        cols = starts_with(\"d\"),\n",
    "                        names_to = \"Day\",\n",
    "                        values_to = \"Temperature\"\n",
    "                    )\n",
    "\n",
    "weather_tidy <- weather_tidy %>% \n",
    "                    drop_na()\n",
    "\n",
    "weather_tidy$Day <- stringr::str_replace_all(weather_tidy$Day, \"d\", \"\")\n",
    "\n",
    "weather_copy <- weather_tidy %>% data.frame()\n",
    "\n",
    "weather_tidy %>%    \n",
    "    head()"
   ]
  },
  {
   "cell_type": "code",
   "execution_count": 49,
   "metadata": {},
   "outputs": [
    {
     "data": {
      "text/html": [
       "<table>\n",
       "<caption>A tibble: 6 × 6</caption>\n",
       "<thead>\n",
       "\t<tr><th scope=col>id</th><th scope=col>year</th><th scope=col>month</th><th scope=col>Day</th><th scope=col>TMAX</th><th scope=col>TMIN</th></tr>\n",
       "\t<tr><th scope=col>&lt;chr&gt;</th><th scope=col>&lt;dbl&gt;</th><th scope=col>&lt;dbl&gt;</th><th scope=col>&lt;chr&gt;</th><th scope=col>&lt;dbl&gt;</th><th scope=col>&lt;dbl&gt;</th></tr>\n",
       "</thead>\n",
       "<tbody>\n",
       "\t<tr><td>MX000017004</td><td>2010</td><td>1</td><td>30</td><td>278</td><td>145</td></tr>\n",
       "\t<tr><td>MX000017004</td><td>2010</td><td>2</td><td>2 </td><td>273</td><td>144</td></tr>\n",
       "\t<tr><td>MX000017004</td><td>2010</td><td>2</td><td>3 </td><td>241</td><td>144</td></tr>\n",
       "\t<tr><td>MX000017004</td><td>2010</td><td>2</td><td>11</td><td>297</td><td>134</td></tr>\n",
       "\t<tr><td>MX000017004</td><td>2010</td><td>2</td><td>23</td><td>299</td><td>107</td></tr>\n",
       "\t<tr><td>MX000017004</td><td>2010</td><td>3</td><td>5 </td><td>321</td><td>142</td></tr>\n",
       "</tbody>\n",
       "</table>\n"
      ],
      "text/latex": [
       "A tibble: 6 × 6\n",
       "\\begin{tabular}{llllll}\n",
       " id & year & month & Day & TMAX & TMIN\\\\\n",
       " <chr> & <dbl> & <dbl> & <chr> & <dbl> & <dbl>\\\\\n",
       "\\hline\n",
       "\t MX000017004 & 2010 & 1 & 30 & 278 & 145\\\\\n",
       "\t MX000017004 & 2010 & 2 & 2  & 273 & 144\\\\\n",
       "\t MX000017004 & 2010 & 2 & 3  & 241 & 144\\\\\n",
       "\t MX000017004 & 2010 & 2 & 11 & 297 & 134\\\\\n",
       "\t MX000017004 & 2010 & 2 & 23 & 299 & 107\\\\\n",
       "\t MX000017004 & 2010 & 3 & 5  & 321 & 142\\\\\n",
       "\\end{tabular}\n"
      ],
      "text/markdown": [
       "\n",
       "A tibble: 6 × 6\n",
       "\n",
       "| id &lt;chr&gt; | year &lt;dbl&gt; | month &lt;dbl&gt; | Day &lt;chr&gt; | TMAX &lt;dbl&gt; | TMIN &lt;dbl&gt; |\n",
       "|---|---|---|---|---|---|\n",
       "| MX000017004 | 2010 | 1 | 30 | 278 | 145 |\n",
       "| MX000017004 | 2010 | 2 | 2  | 273 | 144 |\n",
       "| MX000017004 | 2010 | 2 | 3  | 241 | 144 |\n",
       "| MX000017004 | 2010 | 2 | 11 | 297 | 134 |\n",
       "| MX000017004 | 2010 | 2 | 23 | 299 | 107 |\n",
       "| MX000017004 | 2010 | 3 | 5  | 321 | 142 |\n",
       "\n"
      ],
      "text/plain": [
       "  id          year month Day TMAX TMIN\n",
       "1 MX000017004 2010 1     30  278  145 \n",
       "2 MX000017004 2010 2     2   273  144 \n",
       "3 MX000017004 2010 2     3   241  144 \n",
       "4 MX000017004 2010 2     11  297  134 \n",
       "5 MX000017004 2010 2     23  299  107 \n",
       "6 MX000017004 2010 3     5   321  142 "
      ]
     },
     "metadata": {},
     "output_type": "display_data"
    }
   ],
   "source": [
    "# Getting the tidy table applying a pivot table, where the index are id, year, month and day\n",
    "# the columns are TMAX and TMIN, and the values the temperature\n",
    "\n",
    "weather_tidy2 <- weather_copy %>%\n",
    "                    pivot_wider(\n",
    "                    names_from = \"element\",\n",
    "                    values_from = \"Temperature\"\n",
    "                    )\n",
    "\n",
    "weather_tidy2 %>%\n",
    "    head()"
   ]
  },
  {
   "cell_type": "markdown",
   "metadata": {},
   "source": [
    "# Bilboard Dataset "
   ]
  },
  {
   "cell_type": "code",
   "execution_count": 17,
   "metadata": {},
   "outputs": [
    {
     "name": "stderr",
     "output_type": "stream",
     "text": [
      "\n",
      "\u001b[36m--\u001b[39m \u001b[1m\u001b[1mColumn specification\u001b[1m\u001b[22m \u001b[36m------------------------------------------------------------------------------------------------\u001b[39m\n",
      "cols(\n",
      "  .default = col_double(),\n",
      "  artist.inverted = \u001b[31mcol_character()\u001b[39m,\n",
      "  track = \u001b[31mcol_character()\u001b[39m,\n",
      "  time = \u001b[34mcol_time(format = \"\")\u001b[39m,\n",
      "  genre = \u001b[31mcol_character()\u001b[39m,\n",
      "  date.entered = \u001b[34mcol_date(format = \"\")\u001b[39m,\n",
      "  date.peaked = \u001b[34mcol_date(format = \"\")\u001b[39m,\n",
      "  x66th.week = \u001b[33mcol_logical()\u001b[39m,\n",
      "  x67th.week = \u001b[33mcol_logical()\u001b[39m,\n",
      "  x68th.week = \u001b[33mcol_logical()\u001b[39m,\n",
      "  x69th.week = \u001b[33mcol_logical()\u001b[39m,\n",
      "  x70th.week = \u001b[33mcol_logical()\u001b[39m,\n",
      "  x71st.week = \u001b[33mcol_logical()\u001b[39m,\n",
      "  x72nd.week = \u001b[33mcol_logical()\u001b[39m,\n",
      "  x73rd.week = \u001b[33mcol_logical()\u001b[39m,\n",
      "  x74th.week = \u001b[33mcol_logical()\u001b[39m,\n",
      "  x75th.week = \u001b[33mcol_logical()\u001b[39m,\n",
      "  x76th.week = \u001b[33mcol_logical()\u001b[39m\n",
      ")\n",
      "\u001b[36mi\u001b[39m Use \u001b[30m\u001b[47m\u001b[30m\u001b[47m`spec()`\u001b[47m\u001b[30m\u001b[49m\u001b[39m for the full column specifications.\n",
      "\n",
      "\n"
     ]
    },
    {
     "data": {
      "text/html": [
       "<table>\n",
       "<caption>A tibble: 6 × 83</caption>\n",
       "<thead>\n",
       "\t<tr><th scope=col>year</th><th scope=col>artist.inverted</th><th scope=col>track</th><th scope=col>time</th><th scope=col>genre</th><th scope=col>date.entered</th><th scope=col>date.peaked</th><th scope=col>x1st.week</th><th scope=col>x2nd.week</th><th scope=col>x3rd.week</th><th scope=col>...</th><th scope=col>x67th.week</th><th scope=col>x68th.week</th><th scope=col>x69th.week</th><th scope=col>x70th.week</th><th scope=col>x71st.week</th><th scope=col>x72nd.week</th><th scope=col>x73rd.week</th><th scope=col>x74th.week</th><th scope=col>x75th.week</th><th scope=col>x76th.week</th></tr>\n",
       "\t<tr><th scope=col>&lt;dbl&gt;</th><th scope=col>&lt;chr&gt;</th><th scope=col>&lt;chr&gt;</th><th scope=col>&lt;time&gt;</th><th scope=col>&lt;chr&gt;</th><th scope=col>&lt;date&gt;</th><th scope=col>&lt;date&gt;</th><th scope=col>&lt;dbl&gt;</th><th scope=col>&lt;dbl&gt;</th><th scope=col>&lt;dbl&gt;</th><th scope=col>...</th><th scope=col>&lt;lgl&gt;</th><th scope=col>&lt;lgl&gt;</th><th scope=col>&lt;lgl&gt;</th><th scope=col>&lt;lgl&gt;</th><th scope=col>&lt;lgl&gt;</th><th scope=col>&lt;lgl&gt;</th><th scope=col>&lt;lgl&gt;</th><th scope=col>&lt;lgl&gt;</th><th scope=col>&lt;lgl&gt;</th><th scope=col>&lt;lgl&gt;</th></tr>\n",
       "</thead>\n",
       "<tbody>\n",
       "\t<tr><td>2000</td><td>Destiny's Child    </td><td>Independent Women Part I             </td><td>03:38:00</td><td>Rock</td><td>2000-09-23</td><td>2000-11-18</td><td>78</td><td>63</td><td>49</td><td>...</td><td>NA</td><td>NA</td><td>NA</td><td>NA</td><td>NA</td><td>NA</td><td>NA</td><td>NA</td><td>NA</td><td>NA</td></tr>\n",
       "\t<tr><td>2000</td><td>Santana            </td><td>Maria, Maria                         </td><td>04:18:00</td><td>Rock</td><td>2000-02-12</td><td>2000-04-08</td><td>15</td><td> 8</td><td> 6</td><td>...</td><td>NA</td><td>NA</td><td>NA</td><td>NA</td><td>NA</td><td>NA</td><td>NA</td><td>NA</td><td>NA</td><td>NA</td></tr>\n",
       "\t<tr><td>2000</td><td>Savage Garden      </td><td>I Knew I Loved You                   </td><td>04:07:00</td><td>Rock</td><td>1999-10-23</td><td>2000-01-29</td><td>71</td><td>48</td><td>43</td><td>...</td><td>NA</td><td>NA</td><td>NA</td><td>NA</td><td>NA</td><td>NA</td><td>NA</td><td>NA</td><td>NA</td><td>NA</td></tr>\n",
       "\t<tr><td>2000</td><td>Madonna            </td><td>Music                                </td><td>03:45:00</td><td>Rock</td><td>2000-08-12</td><td>2000-09-16</td><td>41</td><td>23</td><td>18</td><td>...</td><td>NA</td><td>NA</td><td>NA</td><td>NA</td><td>NA</td><td>NA</td><td>NA</td><td>NA</td><td>NA</td><td>NA</td></tr>\n",
       "\t<tr><td>2000</td><td>Aguilera, Christina</td><td>Come On Over Baby (All I Want Is You)</td><td>03:38:00</td><td>Rock</td><td>2000-08-05</td><td>2000-10-14</td><td>57</td><td>47</td><td>45</td><td>...</td><td>NA</td><td>NA</td><td>NA</td><td>NA</td><td>NA</td><td>NA</td><td>NA</td><td>NA</td><td>NA</td><td>NA</td></tr>\n",
       "\t<tr><td>2000</td><td>Janet              </td><td>Doesn't Really Matter                </td><td>04:17:00</td><td>Rock</td><td>2000-06-17</td><td>2000-08-26</td><td>59</td><td>52</td><td>43</td><td>...</td><td>NA</td><td>NA</td><td>NA</td><td>NA</td><td>NA</td><td>NA</td><td>NA</td><td>NA</td><td>NA</td><td>NA</td></tr>\n",
       "</tbody>\n",
       "</table>\n"
      ],
      "text/latex": [
       "A tibble: 6 × 83\n",
       "\\begin{tabular}{lllllllllllllllllllll}\n",
       " year & artist.inverted & track & time & genre & date.entered & date.peaked & x1st.week & x2nd.week & x3rd.week & ... & x67th.week & x68th.week & x69th.week & x70th.week & x71st.week & x72nd.week & x73rd.week & x74th.week & x75th.week & x76th.week\\\\\n",
       " <dbl> & <chr> & <chr> & <time> & <chr> & <date> & <date> & <dbl> & <dbl> & <dbl> & ... & <lgl> & <lgl> & <lgl> & <lgl> & <lgl> & <lgl> & <lgl> & <lgl> & <lgl> & <lgl>\\\\\n",
       "\\hline\n",
       "\t 2000 & Destiny's Child     & Independent Women Part I              & 03:38:00 & Rock & 2000-09-23 & 2000-11-18 & 78 & 63 & 49 & ... & NA & NA & NA & NA & NA & NA & NA & NA & NA & NA\\\\\n",
       "\t 2000 & Santana             & Maria, Maria                          & 04:18:00 & Rock & 2000-02-12 & 2000-04-08 & 15 &  8 &  6 & ... & NA & NA & NA & NA & NA & NA & NA & NA & NA & NA\\\\\n",
       "\t 2000 & Savage Garden       & I Knew I Loved You                    & 04:07:00 & Rock & 1999-10-23 & 2000-01-29 & 71 & 48 & 43 & ... & NA & NA & NA & NA & NA & NA & NA & NA & NA & NA\\\\\n",
       "\t 2000 & Madonna             & Music                                 & 03:45:00 & Rock & 2000-08-12 & 2000-09-16 & 41 & 23 & 18 & ... & NA & NA & NA & NA & NA & NA & NA & NA & NA & NA\\\\\n",
       "\t 2000 & Aguilera, Christina & Come On Over Baby (All I Want Is You) & 03:38:00 & Rock & 2000-08-05 & 2000-10-14 & 57 & 47 & 45 & ... & NA & NA & NA & NA & NA & NA & NA & NA & NA & NA\\\\\n",
       "\t 2000 & Janet               & Doesn't Really Matter                 & 04:17:00 & Rock & 2000-06-17 & 2000-08-26 & 59 & 52 & 43 & ... & NA & NA & NA & NA & NA & NA & NA & NA & NA & NA\\\\\n",
       "\\end{tabular}\n"
      ],
      "text/markdown": [
       "\n",
       "A tibble: 6 × 83\n",
       "\n",
       "| year &lt;dbl&gt; | artist.inverted &lt;chr&gt; | track &lt;chr&gt; | time &lt;time&gt; | genre &lt;chr&gt; | date.entered &lt;date&gt; | date.peaked &lt;date&gt; | x1st.week &lt;dbl&gt; | x2nd.week &lt;dbl&gt; | x3rd.week &lt;dbl&gt; | ... ... | x67th.week &lt;lgl&gt; | x68th.week &lt;lgl&gt; | x69th.week &lt;lgl&gt; | x70th.week &lt;lgl&gt; | x71st.week &lt;lgl&gt; | x72nd.week &lt;lgl&gt; | x73rd.week &lt;lgl&gt; | x74th.week &lt;lgl&gt; | x75th.week &lt;lgl&gt; | x76th.week &lt;lgl&gt; |\n",
       "|---|---|---|---|---|---|---|---|---|---|---|---|---|---|---|---|---|---|---|---|---|\n",
       "| 2000 | Destiny's Child     | Independent Women Part I              | 03:38:00 | Rock | 2000-09-23 | 2000-11-18 | 78 | 63 | 49 | ... | NA | NA | NA | NA | NA | NA | NA | NA | NA | NA |\n",
       "| 2000 | Santana             | Maria, Maria                          | 04:18:00 | Rock | 2000-02-12 | 2000-04-08 | 15 |  8 |  6 | ... | NA | NA | NA | NA | NA | NA | NA | NA | NA | NA |\n",
       "| 2000 | Savage Garden       | I Knew I Loved You                    | 04:07:00 | Rock | 1999-10-23 | 2000-01-29 | 71 | 48 | 43 | ... | NA | NA | NA | NA | NA | NA | NA | NA | NA | NA |\n",
       "| 2000 | Madonna             | Music                                 | 03:45:00 | Rock | 2000-08-12 | 2000-09-16 | 41 | 23 | 18 | ... | NA | NA | NA | NA | NA | NA | NA | NA | NA | NA |\n",
       "| 2000 | Aguilera, Christina | Come On Over Baby (All I Want Is You) | 03:38:00 | Rock | 2000-08-05 | 2000-10-14 | 57 | 47 | 45 | ... | NA | NA | NA | NA | NA | NA | NA | NA | NA | NA |\n",
       "| 2000 | Janet               | Doesn't Really Matter                 | 04:17:00 | Rock | 2000-06-17 | 2000-08-26 | 59 | 52 | 43 | ... | NA | NA | NA | NA | NA | NA | NA | NA | NA | NA |\n",
       "\n"
      ],
      "text/plain": [
       "  year artist.inverted     track                                 time     genre\n",
       "1 2000 Destiny's Child     Independent Women Part I              03:38:00 Rock \n",
       "2 2000 Santana             Maria, Maria                          04:18:00 Rock \n",
       "3 2000 Savage Garden       I Knew I Loved You                    04:07:00 Rock \n",
       "4 2000 Madonna             Music                                 03:45:00 Rock \n",
       "5 2000 Aguilera, Christina Come On Over Baby (All I Want Is You) 03:38:00 Rock \n",
       "6 2000 Janet               Doesn't Really Matter                 04:17:00 Rock \n",
       "  date.entered date.peaked x1st.week x2nd.week x3rd.week ... x67th.week\n",
       "1 2000-09-23   2000-11-18  78        63        49        ... NA        \n",
       "2 2000-02-12   2000-04-08  15         8         6        ... NA        \n",
       "3 1999-10-23   2000-01-29  71        48        43        ... NA        \n",
       "4 2000-08-12   2000-09-16  41        23        18        ... NA        \n",
       "5 2000-08-05   2000-10-14  57        47        45        ... NA        \n",
       "6 2000-06-17   2000-08-26  59        52        43        ... NA        \n",
       "  x68th.week x69th.week x70th.week x71st.week x72nd.week x73rd.week x74th.week\n",
       "1 NA         NA         NA         NA         NA         NA         NA        \n",
       "2 NA         NA         NA         NA         NA         NA         NA        \n",
       "3 NA         NA         NA         NA         NA         NA         NA        \n",
       "4 NA         NA         NA         NA         NA         NA         NA        \n",
       "5 NA         NA         NA         NA         NA         NA         NA        \n",
       "6 NA         NA         NA         NA         NA         NA         NA        \n",
       "  x75th.week x76th.week\n",
       "1 NA         NA        \n",
       "2 NA         NA        \n",
       "3 NA         NA        \n",
       "4 NA         NA        \n",
       "5 NA         NA        \n",
       "6 NA         NA        "
      ]
     },
     "metadata": {},
     "output_type": "display_data"
    }
   ],
   "source": [
    "billboard <- read_csv(\"../Datasets/billboard.csv\")\n",
    "billboard %>%\n",
    "        head()"
   ]
  },
  {
   "cell_type": "markdown",
   "metadata": {},
   "source": [
    "## Error:\n",
    "Multiple types in one table"
   ]
  },
  {
   "cell_type": "code",
   "execution_count": 33,
   "metadata": {},
   "outputs": [
    {
     "data": {
      "text/html": [
       "<table>\n",
       "<caption>A tibble: 6 × 9</caption>\n",
       "<thead>\n",
       "\t<tr><th scope=col>year</th><th scope=col>artist</th><th scope=col>track</th><th scope=col>time</th><th scope=col>genre</th><th scope=col>data entered</th><th scope=col>data peaked</th><th scope=col>week</th><th scope=col>rank</th></tr>\n",
       "\t<tr><th scope=col>&lt;dbl&gt;</th><th scope=col>&lt;chr&gt;</th><th scope=col>&lt;chr&gt;</th><th scope=col>&lt;time&gt;</th><th scope=col>&lt;chr&gt;</th><th scope=col>&lt;date&gt;</th><th scope=col>&lt;date&gt;</th><th scope=col>&lt;chr&gt;</th><th scope=col>&lt;dbl&gt;</th></tr>\n",
       "</thead>\n",
       "<tbody>\n",
       "\t<tr><td>2000</td><td>Destiny's Child</td><td>Independent Women Part I</td><td>03:38:00</td><td>Rock</td><td>2000-09-23</td><td>2000-11-18</td><td>x1st.week</td><td>78</td></tr>\n",
       "\t<tr><td>2000</td><td>Destiny's Child</td><td>Independent Women Part I</td><td>03:38:00</td><td>Rock</td><td>2000-09-23</td><td>2000-11-18</td><td>x2nd.week</td><td>63</td></tr>\n",
       "\t<tr><td>2000</td><td>Destiny's Child</td><td>Independent Women Part I</td><td>03:38:00</td><td>Rock</td><td>2000-09-23</td><td>2000-11-18</td><td>x3rd.week</td><td>49</td></tr>\n",
       "\t<tr><td>2000</td><td>Destiny's Child</td><td>Independent Women Part I</td><td>03:38:00</td><td>Rock</td><td>2000-09-23</td><td>2000-11-18</td><td>x4th.week</td><td>33</td></tr>\n",
       "\t<tr><td>2000</td><td>Destiny's Child</td><td>Independent Women Part I</td><td>03:38:00</td><td>Rock</td><td>2000-09-23</td><td>2000-11-18</td><td>x5th.week</td><td>23</td></tr>\n",
       "\t<tr><td>2000</td><td>Destiny's Child</td><td>Independent Women Part I</td><td>03:38:00</td><td>Rock</td><td>2000-09-23</td><td>2000-11-18</td><td>x6th.week</td><td>15</td></tr>\n",
       "</tbody>\n",
       "</table>\n"
      ],
      "text/latex": [
       "A tibble: 6 × 9\n",
       "\\begin{tabular}{lllllllll}\n",
       " year & artist & track & time & genre & data entered & data peaked & week & rank\\\\\n",
       " <dbl> & <chr> & <chr> & <time> & <chr> & <date> & <date> & <chr> & <dbl>\\\\\n",
       "\\hline\n",
       "\t 2000 & Destiny's Child & Independent Women Part I & 03:38:00 & Rock & 2000-09-23 & 2000-11-18 & x1st.week & 78\\\\\n",
       "\t 2000 & Destiny's Child & Independent Women Part I & 03:38:00 & Rock & 2000-09-23 & 2000-11-18 & x2nd.week & 63\\\\\n",
       "\t 2000 & Destiny's Child & Independent Women Part I & 03:38:00 & Rock & 2000-09-23 & 2000-11-18 & x3rd.week & 49\\\\\n",
       "\t 2000 & Destiny's Child & Independent Women Part I & 03:38:00 & Rock & 2000-09-23 & 2000-11-18 & x4th.week & 33\\\\\n",
       "\t 2000 & Destiny's Child & Independent Women Part I & 03:38:00 & Rock & 2000-09-23 & 2000-11-18 & x5th.week & 23\\\\\n",
       "\t 2000 & Destiny's Child & Independent Women Part I & 03:38:00 & Rock & 2000-09-23 & 2000-11-18 & x6th.week & 15\\\\\n",
       "\\end{tabular}\n"
      ],
      "text/markdown": [
       "\n",
       "A tibble: 6 × 9\n",
       "\n",
       "| year &lt;dbl&gt; | artist &lt;chr&gt; | track &lt;chr&gt; | time &lt;time&gt; | genre &lt;chr&gt; | data entered &lt;date&gt; | data peaked &lt;date&gt; | week &lt;chr&gt; | rank &lt;dbl&gt; |\n",
       "|---|---|---|---|---|---|---|---|---|\n",
       "| 2000 | Destiny's Child | Independent Women Part I | 03:38:00 | Rock | 2000-09-23 | 2000-11-18 | x1st.week | 78 |\n",
       "| 2000 | Destiny's Child | Independent Women Part I | 03:38:00 | Rock | 2000-09-23 | 2000-11-18 | x2nd.week | 63 |\n",
       "| 2000 | Destiny's Child | Independent Women Part I | 03:38:00 | Rock | 2000-09-23 | 2000-11-18 | x3rd.week | 49 |\n",
       "| 2000 | Destiny's Child | Independent Women Part I | 03:38:00 | Rock | 2000-09-23 | 2000-11-18 | x4th.week | 33 |\n",
       "| 2000 | Destiny's Child | Independent Women Part I | 03:38:00 | Rock | 2000-09-23 | 2000-11-18 | x5th.week | 23 |\n",
       "| 2000 | Destiny's Child | Independent Women Part I | 03:38:00 | Rock | 2000-09-23 | 2000-11-18 | x6th.week | 15 |\n",
       "\n"
      ],
      "text/plain": [
       "  year artist          track                    time     genre data entered\n",
       "1 2000 Destiny's Child Independent Women Part I 03:38:00 Rock  2000-09-23  \n",
       "2 2000 Destiny's Child Independent Women Part I 03:38:00 Rock  2000-09-23  \n",
       "3 2000 Destiny's Child Independent Women Part I 03:38:00 Rock  2000-09-23  \n",
       "4 2000 Destiny's Child Independent Women Part I 03:38:00 Rock  2000-09-23  \n",
       "5 2000 Destiny's Child Independent Women Part I 03:38:00 Rock  2000-09-23  \n",
       "6 2000 Destiny's Child Independent Women Part I 03:38:00 Rock  2000-09-23  \n",
       "  data peaked week      rank\n",
       "1 2000-11-18  x1st.week 78  \n",
       "2 2000-11-18  x2nd.week 63  \n",
       "3 2000-11-18  x3rd.week 49  \n",
       "4 2000-11-18  x4th.week 33  \n",
       "5 2000-11-18  x5th.week 23  \n",
       "6 2000-11-18  x6th.week 15  "
      ]
     },
     "metadata": {},
     "output_type": "display_data"
    }
   ],
   "source": [
    "billboard_tidy <- billboard %>%\n",
    "                    pivot_longer(\n",
    "                    cols = ends_with(\"week\"),\n",
    "                    names_to = \"week\",\n",
    "                    values_to = \"rank\"\n",
    "                    )\n",
    "billboard_tidy <-billboard_tidy %>% \n",
    "                    dplyr::rename(artist = artist.inverted, \"data entered\" = date.entered , \"data peaked\" = date.peaked)\n",
    "billboard_tidy %>%\n",
    "    head()"
   ]
  },
  {
   "cell_type": "code",
   "execution_count": null,
   "metadata": {},
   "outputs": [],
   "source": []
  }
 ],
 "metadata": {
  "kernelspec": {
   "display_name": "R",
   "language": "R",
   "name": "ir"
  },
  "language_info": {
   "codemirror_mode": "r",
   "file_extension": ".r",
   "mimetype": "text/x-r-source",
   "name": "R",
   "pygments_lexer": "r",
   "version": "4.0.3"
  }
 },
 "nbformat": 4,
 "nbformat_minor": 4
}
