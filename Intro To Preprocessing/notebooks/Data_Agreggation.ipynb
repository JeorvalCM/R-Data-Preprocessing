{
 "cells": [
  {
   "cell_type": "markdown",
   "metadata": {},
   "source": [
    "# Data Agreggation"
   ]
  },
  {
   "cell_type": "code",
   "execution_count": 17,
   "metadata": {},
   "outputs": [],
   "source": [
    "library(tidyverse)\n",
    "library(dplyr)\n",
    "library(comprehenr)"
   ]
  },
  {
   "cell_type": "code",
   "execution_count": 2,
   "metadata": {},
   "outputs": [
    {
     "name": "stderr",
     "output_type": "stream",
     "text": [
      "\n",
      "\u001b[36m--\u001b[39m \u001b[1m\u001b[1mColumn specification\u001b[1m\u001b[22m \u001b[36m------------------------------------------------------------------------------------------------\u001b[39m\n",
      "cols(\n",
      "  date = \u001b[34mcol_date(format = \"\")\u001b[39m,\n",
      "  home_team = \u001b[31mcol_character()\u001b[39m,\n",
      "  away_team = \u001b[31mcol_character()\u001b[39m,\n",
      "  home_score = \u001b[32mcol_double()\u001b[39m,\n",
      "  away_score = \u001b[32mcol_double()\u001b[39m,\n",
      "  tournament = \u001b[31mcol_character()\u001b[39m,\n",
      "  city = \u001b[31mcol_character()\u001b[39m,\n",
      "  country = \u001b[31mcol_character()\u001b[39m,\n",
      "  neutral = \u001b[33mcol_logical()\u001b[39m\n",
      ")\n",
      "\n",
      "\n"
     ]
    },
    {
     "data": {
      "text/html": [
       "<table>\n",
       "<caption>A tibble: 6 × 9</caption>\n",
       "<thead>\n",
       "\t<tr><th scope=col>date</th><th scope=col>home_team</th><th scope=col>away_team</th><th scope=col>home_score</th><th scope=col>away_score</th><th scope=col>tournament</th><th scope=col>city</th><th scope=col>country</th><th scope=col>neutral</th></tr>\n",
       "\t<tr><th scope=col>&lt;date&gt;</th><th scope=col>&lt;chr&gt;</th><th scope=col>&lt;chr&gt;</th><th scope=col>&lt;dbl&gt;</th><th scope=col>&lt;dbl&gt;</th><th scope=col>&lt;chr&gt;</th><th scope=col>&lt;chr&gt;</th><th scope=col>&lt;chr&gt;</th><th scope=col>&lt;lgl&gt;</th></tr>\n",
       "</thead>\n",
       "<tbody>\n",
       "\t<tr><td>1872-11-30</td><td>Scotland</td><td>England </td><td>0</td><td>0</td><td>Friendly</td><td>Glasgow</td><td>Scotland</td><td>FALSE</td></tr>\n",
       "\t<tr><td>1873-03-08</td><td>England </td><td>Scotland</td><td>4</td><td>2</td><td>Friendly</td><td>London </td><td>England </td><td>FALSE</td></tr>\n",
       "\t<tr><td>1874-03-07</td><td>Scotland</td><td>England </td><td>2</td><td>1</td><td>Friendly</td><td>Glasgow</td><td>Scotland</td><td>FALSE</td></tr>\n",
       "\t<tr><td>1875-03-06</td><td>England </td><td>Scotland</td><td>2</td><td>2</td><td>Friendly</td><td>London </td><td>England </td><td>FALSE</td></tr>\n",
       "\t<tr><td>1876-03-04</td><td>Scotland</td><td>England </td><td>3</td><td>0</td><td>Friendly</td><td>Glasgow</td><td>Scotland</td><td>FALSE</td></tr>\n",
       "\t<tr><td>1876-03-25</td><td>Scotland</td><td>Wales   </td><td>4</td><td>0</td><td>Friendly</td><td>Glasgow</td><td>Scotland</td><td>FALSE</td></tr>\n",
       "</tbody>\n",
       "</table>\n"
      ],
      "text/latex": [
       "A tibble: 6 × 9\n",
       "\\begin{tabular}{lllllllll}\n",
       " date & home\\_team & away\\_team & home\\_score & away\\_score & tournament & city & country & neutral\\\\\n",
       " <date> & <chr> & <chr> & <dbl> & <dbl> & <chr> & <chr> & <chr> & <lgl>\\\\\n",
       "\\hline\n",
       "\t 1872-11-30 & Scotland & England  & 0 & 0 & Friendly & Glasgow & Scotland & FALSE\\\\\n",
       "\t 1873-03-08 & England  & Scotland & 4 & 2 & Friendly & London  & England  & FALSE\\\\\n",
       "\t 1874-03-07 & Scotland & England  & 2 & 1 & Friendly & Glasgow & Scotland & FALSE\\\\\n",
       "\t 1875-03-06 & England  & Scotland & 2 & 2 & Friendly & London  & England  & FALSE\\\\\n",
       "\t 1876-03-04 & Scotland & England  & 3 & 0 & Friendly & Glasgow & Scotland & FALSE\\\\\n",
       "\t 1876-03-25 & Scotland & Wales    & 4 & 0 & Friendly & Glasgow & Scotland & FALSE\\\\\n",
       "\\end{tabular}\n"
      ],
      "text/markdown": [
       "\n",
       "A tibble: 6 × 9\n",
       "\n",
       "| date &lt;date&gt; | home_team &lt;chr&gt; | away_team &lt;chr&gt; | home_score &lt;dbl&gt; | away_score &lt;dbl&gt; | tournament &lt;chr&gt; | city &lt;chr&gt; | country &lt;chr&gt; | neutral &lt;lgl&gt; |\n",
       "|---|---|---|---|---|---|---|---|---|\n",
       "| 1872-11-30 | Scotland | England  | 0 | 0 | Friendly | Glasgow | Scotland | FALSE |\n",
       "| 1873-03-08 | England  | Scotland | 4 | 2 | Friendly | London  | England  | FALSE |\n",
       "| 1874-03-07 | Scotland | England  | 2 | 1 | Friendly | Glasgow | Scotland | FALSE |\n",
       "| 1875-03-06 | England  | Scotland | 2 | 2 | Friendly | London  | England  | FALSE |\n",
       "| 1876-03-04 | Scotland | England  | 3 | 0 | Friendly | Glasgow | Scotland | FALSE |\n",
       "| 1876-03-25 | Scotland | Wales    | 4 | 0 | Friendly | Glasgow | Scotland | FALSE |\n",
       "\n"
      ],
      "text/plain": [
       "  date       home_team away_team home_score away_score tournament city   \n",
       "1 1872-11-30 Scotland  England   0          0          Friendly   Glasgow\n",
       "2 1873-03-08 England   Scotland  4          2          Friendly   London \n",
       "3 1874-03-07 Scotland  England   2          1          Friendly   Glasgow\n",
       "4 1875-03-06 England   Scotland  2          2          Friendly   London \n",
       "5 1876-03-04 Scotland  England   3          0          Friendly   Glasgow\n",
       "6 1876-03-25 Scotland  Wales     4          0          Friendly   Glasgow\n",
       "  country  neutral\n",
       "1 Scotland FALSE  \n",
       "2 England  FALSE  \n",
       "3 Scotland FALSE  \n",
       "4 England  FALSE  \n",
       "5 Scotland FALSE  \n",
       "6 Scotland FALSE  "
      ]
     },
     "metadata": {},
     "output_type": "display_data"
    }
   ],
   "source": [
    "data_soccer <- read_csv(\"../datasets/results.csv\")\n",
    "data_copy <- data.frame(data_soccer)\n",
    "head(data_soccer)"
   ]
  },
  {
   "cell_type": "markdown",
   "metadata": {},
   "source": [
    "##### General info of the dataset"
   ]
  },
  {
   "cell_type": "code",
   "execution_count": 3,
   "metadata": {},
   "outputs": [
    {
     "name": "stdout",
     "output_type": "stream",
     "text": [
      "-- Data Summary ------------------------\n",
      "                           Values     \n",
      "Name                       data_soccer\n",
      "Number of rows             40945      \n",
      "Number of columns          9          \n",
      "_______________________               \n",
      "Column type frequency:                \n",
      "  character                5          \n",
      "  Date                     1          \n",
      "  logical                  1          \n",
      "  numeric                  2          \n",
      "________________________              \n",
      "Group variables            None       \n",
      "\n",
      "-- Variable type: character ----------------------------------------------------\n",
      "# A tibble: 5 x 8\n",
      "  skim_variable n_missing complete_rate   min   max empty n_unique whitespace\n",
      "* <chr>             <int>         <dbl> <int> <int> <int>    <int>      <int>\n",
      "1 home_team             0             1     4    32     0      311          0\n",
      "2 away_team             0             1     4    32     0      307          0\n",
      "3 tournament            0             1     6    42     0      109          0\n",
      "4 city                  0             1     2    28     0     1965          0\n",
      "5 country               0             1     4    32     0      266          0\n",
      "\n",
      "-- Variable type: Date ---------------------------------------------------------\n",
      "# A tibble: 1 x 7\n",
      "  skim_variable n_missing complete_rate min        max        median    \n",
      "* <chr>             <int>         <dbl> <date>     <date>     <date>    \n",
      "1 date                  0             1 1872-11-30 2019-09-30 1997-05-24\n",
      "  n_unique\n",
      "*    <int>\n",
      "1    15133\n",
      "\n",
      "-- Variable type: logical ------------------------------------------------------\n",
      "# A tibble: 1 x 5\n",
      "  skim_variable n_missing complete_rate  mean count                 \n",
      "* <chr>             <int>         <dbl> <dbl> <chr>                 \n",
      "1 neutral               0             1 0.249 FAL: 30756, TRU: 10189\n",
      "\n",
      "-- Variable type: numeric ------------------------------------------------------\n",
      "# A tibble: 2 x 11\n",
      "  skim_variable n_missing complete_rate  mean    sd    p0   p25   p50   p75\n",
      "* <chr>             <int>         <dbl> <dbl> <dbl> <dbl> <dbl> <dbl> <dbl>\n",
      "1 home_score            0             1  1.75  1.75     0     1     1     2\n",
      "2 away_score            0             1  1.19  1.41     0     0     1     2\n",
      "   p100 hist \n",
      "* <dbl> <chr>\n",
      "1    31 <U+2587><U+2581><U+2581><U+2581><U+2581>\n",
      "2    21 <U+2587><U+2581><U+2581><U+2581><U+2581>\n"
     ]
    }
   ],
   "source": [
    "skimr::skim(data_soccer)"
   ]
  },
  {
   "cell_type": "code",
   "execution_count": 4,
   "metadata": {},
   "outputs": [
    {
     "data": {
      "text/plain": [
       "      date             home_team          away_team           home_score    \n",
       " Min.   :1872-11-30   Length:40945       Length:40945       Min.   : 0.000  \n",
       " 1st Qu.:1977-09-14   Class :character   Class :character   1st Qu.: 1.000  \n",
       " Median :1997-05-24   Mode  :character   Mode  :character   Median : 1.000  \n",
       " Mean   :1990-07-17                                         Mean   : 1.745  \n",
       " 3rd Qu.:2008-10-11                                         3rd Qu.: 2.000  \n",
       " Max.   :2019-09-30                                         Max.   :31.000  \n",
       "   away_score      tournament            city             country         \n",
       " Min.   : 0.000   Length:40945       Length:40945       Length:40945      \n",
       " 1st Qu.: 0.000   Class :character   Class :character   Class :character  \n",
       " Median : 1.000   Mode  :character   Mode  :character   Mode  :character  \n",
       " Mean   : 1.189                                                           \n",
       " 3rd Qu.: 2.000                                                           \n",
       " Max.   :21.000                                                           \n",
       "  neutral       \n",
       " Mode :logical  \n",
       " FALSE:30756    \n",
       " TRUE :10189    \n",
       "                \n",
       "                \n",
       "                "
      ]
     },
     "metadata": {},
     "output_type": "display_data"
    }
   ],
   "source": [
    "summary(data_soccer)"
   ]
  },
  {
   "cell_type": "markdown",
   "metadata": {},
   "source": [
    "Checking NA values per column"
   ]
  },
  {
   "cell_type": "code",
   "execution_count": 5,
   "metadata": {},
   "outputs": [
    {
     "data": {
      "text/html": [
       "<style>\n",
       ".dl-inline {width: auto; margin:0; padding: 0}\n",
       ".dl-inline>dt, .dl-inline>dd {float: none; width: auto; display: inline-block}\n",
       ".dl-inline>dt::after {content: \":\\0020\"; padding-right: .5ex}\n",
       ".dl-inline>dt:not(:first-of-type) {padding-left: .5ex}\n",
       "</style><dl class=dl-inline><dt>date</dt><dd>0</dd><dt>home_team</dt><dd>0</dd><dt>away_team</dt><dd>0</dd><dt>home_score</dt><dd>0</dd><dt>away_score</dt><dd>0</dd><dt>tournament</dt><dd>0</dd><dt>city</dt><dd>0</dd><dt>country</dt><dd>0</dd><dt>neutral</dt><dd>0</dd></dl>\n"
      ],
      "text/latex": [
       "\\begin{description*}\n",
       "\\item[date] 0\n",
       "\\item[home\\textbackslash{}\\_team] 0\n",
       "\\item[away\\textbackslash{}\\_team] 0\n",
       "\\item[home\\textbackslash{}\\_score] 0\n",
       "\\item[away\\textbackslash{}\\_score] 0\n",
       "\\item[tournament] 0\n",
       "\\item[city] 0\n",
       "\\item[country] 0\n",
       "\\item[neutral] 0\n",
       "\\end{description*}\n"
      ],
      "text/markdown": [
       "date\n",
       ":   0home_team\n",
       ":   0away_team\n",
       ":   0home_score\n",
       ":   0away_score\n",
       ":   0tournament\n",
       ":   0city\n",
       ":   0country\n",
       ":   0neutral\n",
       ":   0\n",
       "\n"
      ],
      "text/plain": [
       "      date  home_team  away_team home_score away_score tournament       city \n",
       "         0          0          0          0          0          0          0 \n",
       "   country    neutral \n",
       "         0          0 "
      ]
     },
     "metadata": {},
     "output_type": "display_data"
    }
   ],
   "source": [
    "colSums(is.na(data_soccer))"
   ]
  },
  {
   "cell_type": "markdown",
   "metadata": {},
   "source": [
    "Making a new colunm for total number of goals"
   ]
  },
  {
   "cell_type": "code",
   "execution_count": 6,
   "metadata": {},
   "outputs": [
    {
     "data": {
      "text/html": [
       "<table>\n",
       "<caption>A tibble: 6 × 10</caption>\n",
       "<thead>\n",
       "\t<tr><th scope=col>date</th><th scope=col>home_team</th><th scope=col>away_team</th><th scope=col>home_score</th><th scope=col>away_score</th><th scope=col>tournament</th><th scope=col>city</th><th scope=col>country</th><th scope=col>neutral</th><th scope=col>total_goals</th></tr>\n",
       "\t<tr><th scope=col>&lt;date&gt;</th><th scope=col>&lt;chr&gt;</th><th scope=col>&lt;chr&gt;</th><th scope=col>&lt;dbl&gt;</th><th scope=col>&lt;dbl&gt;</th><th scope=col>&lt;chr&gt;</th><th scope=col>&lt;chr&gt;</th><th scope=col>&lt;chr&gt;</th><th scope=col>&lt;lgl&gt;</th><th scope=col>&lt;dbl&gt;</th></tr>\n",
       "</thead>\n",
       "<tbody>\n",
       "\t<tr><td>1872-11-30</td><td>Scotland</td><td>England </td><td>0</td><td>0</td><td>Friendly</td><td>Glasgow</td><td>Scotland</td><td>FALSE</td><td>0</td></tr>\n",
       "\t<tr><td>1873-03-08</td><td>England </td><td>Scotland</td><td>4</td><td>2</td><td>Friendly</td><td>London </td><td>England </td><td>FALSE</td><td>6</td></tr>\n",
       "\t<tr><td>1874-03-07</td><td>Scotland</td><td>England </td><td>2</td><td>1</td><td>Friendly</td><td>Glasgow</td><td>Scotland</td><td>FALSE</td><td>3</td></tr>\n",
       "\t<tr><td>1875-03-06</td><td>England </td><td>Scotland</td><td>2</td><td>2</td><td>Friendly</td><td>London </td><td>England </td><td>FALSE</td><td>4</td></tr>\n",
       "\t<tr><td>1876-03-04</td><td>Scotland</td><td>England </td><td>3</td><td>0</td><td>Friendly</td><td>Glasgow</td><td>Scotland</td><td>FALSE</td><td>3</td></tr>\n",
       "\t<tr><td>1876-03-25</td><td>Scotland</td><td>Wales   </td><td>4</td><td>0</td><td>Friendly</td><td>Glasgow</td><td>Scotland</td><td>FALSE</td><td>4</td></tr>\n",
       "</tbody>\n",
       "</table>\n"
      ],
      "text/latex": [
       "A tibble: 6 × 10\n",
       "\\begin{tabular}{llllllllll}\n",
       " date & home\\_team & away\\_team & home\\_score & away\\_score & tournament & city & country & neutral & total\\_goals\\\\\n",
       " <date> & <chr> & <chr> & <dbl> & <dbl> & <chr> & <chr> & <chr> & <lgl> & <dbl>\\\\\n",
       "\\hline\n",
       "\t 1872-11-30 & Scotland & England  & 0 & 0 & Friendly & Glasgow & Scotland & FALSE & 0\\\\\n",
       "\t 1873-03-08 & England  & Scotland & 4 & 2 & Friendly & London  & England  & FALSE & 6\\\\\n",
       "\t 1874-03-07 & Scotland & England  & 2 & 1 & Friendly & Glasgow & Scotland & FALSE & 3\\\\\n",
       "\t 1875-03-06 & England  & Scotland & 2 & 2 & Friendly & London  & England  & FALSE & 4\\\\\n",
       "\t 1876-03-04 & Scotland & England  & 3 & 0 & Friendly & Glasgow & Scotland & FALSE & 3\\\\\n",
       "\t 1876-03-25 & Scotland & Wales    & 4 & 0 & Friendly & Glasgow & Scotland & FALSE & 4\\\\\n",
       "\\end{tabular}\n"
      ],
      "text/markdown": [
       "\n",
       "A tibble: 6 × 10\n",
       "\n",
       "| date &lt;date&gt; | home_team &lt;chr&gt; | away_team &lt;chr&gt; | home_score &lt;dbl&gt; | away_score &lt;dbl&gt; | tournament &lt;chr&gt; | city &lt;chr&gt; | country &lt;chr&gt; | neutral &lt;lgl&gt; | total_goals &lt;dbl&gt; |\n",
       "|---|---|---|---|---|---|---|---|---|---|\n",
       "| 1872-11-30 | Scotland | England  | 0 | 0 | Friendly | Glasgow | Scotland | FALSE | 0 |\n",
       "| 1873-03-08 | England  | Scotland | 4 | 2 | Friendly | London  | England  | FALSE | 6 |\n",
       "| 1874-03-07 | Scotland | England  | 2 | 1 | Friendly | Glasgow | Scotland | FALSE | 3 |\n",
       "| 1875-03-06 | England  | Scotland | 2 | 2 | Friendly | London  | England  | FALSE | 4 |\n",
       "| 1876-03-04 | Scotland | England  | 3 | 0 | Friendly | Glasgow | Scotland | FALSE | 3 |\n",
       "| 1876-03-25 | Scotland | Wales    | 4 | 0 | Friendly | Glasgow | Scotland | FALSE | 4 |\n",
       "\n"
      ],
      "text/plain": [
       "  date       home_team away_team home_score away_score tournament city   \n",
       "1 1872-11-30 Scotland  England   0          0          Friendly   Glasgow\n",
       "2 1873-03-08 England   Scotland  4          2          Friendly   London \n",
       "3 1874-03-07 Scotland  England   2          1          Friendly   Glasgow\n",
       "4 1875-03-06 England   Scotland  2          2          Friendly   London \n",
       "5 1876-03-04 Scotland  England   3          0          Friendly   Glasgow\n",
       "6 1876-03-25 Scotland  Wales     4          0          Friendly   Glasgow\n",
       "  country  neutral total_goals\n",
       "1 Scotland FALSE   0          \n",
       "2 England  FALSE   6          \n",
       "3 Scotland FALSE   3          \n",
       "4 England  FALSE   4          \n",
       "5 Scotland FALSE   3          \n",
       "6 Scotland FALSE   4          "
      ]
     },
     "metadata": {},
     "output_type": "display_data"
    }
   ],
   "source": [
    "data_soccer$total_goals <- data_soccer$home_score + data_soccer$away_score\n",
    "head(data_soccer)"
   ]
  },
  {
   "cell_type": "markdown",
   "metadata": {},
   "source": [
    "## Principal Aggregations\n",
    "\n",
    "Aggregation Description\n",
    "\n",
    "* count() -> Total number of items\n",
    "* first(), last() -> First and last item\n",
    "* mean(), median() -> Mean and median\n",
    "* min(), max() -> Minimum and maximum\n",
    "* sd(), var() -> Standard deviation and variance\n",
    "* mad() -> Mean absolute deviation\n",
    "* prod() -> Product of all items\n",
    "* sum() -> Sum of all items"
   ]
  },
  {
   "cell_type": "markdown",
   "metadata": {},
   "source": [
    "#### Count"
   ]
  },
  {
   "cell_type": "code",
   "execution_count": 7,
   "metadata": {},
   "outputs": [
    {
     "data": {
      "text/html": [
       "<table>\n",
       "<caption>A spec_tbl_df: 1 × 1</caption>\n",
       "<thead>\n",
       "\t<tr><th scope=col>n</th></tr>\n",
       "\t<tr><th scope=col>&lt;int&gt;</th></tr>\n",
       "</thead>\n",
       "<tbody>\n",
       "\t<tr><td>40945</td></tr>\n",
       "</tbody>\n",
       "</table>\n"
      ],
      "text/latex": [
       "A spec\\_tbl\\_df: 1 × 1\n",
       "\\begin{tabular}{l}\n",
       " n\\\\\n",
       " <int>\\\\\n",
       "\\hline\n",
       "\t 40945\\\\\n",
       "\\end{tabular}\n"
      ],
      "text/markdown": [
       "\n",
       "A spec_tbl_df: 1 × 1\n",
       "\n",
       "| n &lt;int&gt; |\n",
       "|---|\n",
       "| 40945 |\n",
       "\n"
      ],
      "text/plain": [
       "  n    \n",
       "1 40945"
      ]
     },
     "metadata": {},
     "output_type": "display_data"
    }
   ],
   "source": [
    "count(data_soccer)"
   ]
  },
  {
   "cell_type": "markdown",
   "metadata": {},
   "source": [
    "#### MIN and MAX"
   ]
  },
  {
   "cell_type": "code",
   "execution_count": 8,
   "metadata": {},
   "outputs": [
    {
     "name": "stdout",
     "output_type": "stream",
     "text": [
      "[1] \"maximum number of goals: 31\"\n",
      "[1] \"minimum number of goals: 0\"\n"
     ]
    }
   ],
   "source": [
    "print(paste0(\"maximum number of goals: \",max(data_soccer$total_goals)))\n",
    "print(paste0(\"minimum number of goals: \",min(data_soccer$total_goals)))"
   ]
  },
  {
   "cell_type": "markdown",
   "metadata": {},
   "source": [
    "#### SD and VAR "
   ]
  },
  {
   "cell_type": "code",
   "execution_count": 9,
   "metadata": {},
   "outputs": [
    {
     "name": "stdout",
     "output_type": "stream",
     "text": [
      "[1] \"Standar deviation of total_goals column: 2.09172339721926\"\n",
      "[1] \"Variance of total_goals column: 4.37530677047447\"\n"
     ]
    }
   ],
   "source": [
    "print(paste0(\"Standar deviation of total_goals column: \",sd(data_soccer$total_goals)))\n",
    "print(paste0(\"Variance of total_goals column: \",var(data_soccer$total_goals)))"
   ]
  },
  {
   "cell_type": "markdown",
   "metadata": {},
   "source": [
    "#### MAD"
   ]
  },
  {
   "cell_type": "code",
   "execution_count": 10,
   "metadata": {},
   "outputs": [
    {
     "name": "stdout",
     "output_type": "stream",
     "text": [
      "[1] \"Mean absolute deviarion: 1.4826\"\n"
     ]
    }
   ],
   "source": [
    "print(paste0(\"Mean absolute deviarion: \",mad(data_soccer$total_goals)))"
   ]
  },
  {
   "cell_type": "markdown",
   "metadata": {},
   "source": [
    "#### PROD"
   ]
  },
  {
   "cell_type": "code",
   "execution_count": 11,
   "metadata": {},
   "outputs": [
    {
     "name": "stdout",
     "output_type": "stream",
     "text": [
      "[1] \"Total product of total_goals column: 0\"\n"
     ]
    }
   ],
   "source": [
    "print(paste0(\"Total product of total_goals column: \",prod(data_soccer$total_goals)))"
   ]
  },
  {
   "cell_type": "markdown",
   "metadata": {},
   "source": [
    "#### SUM"
   ]
  },
  {
   "cell_type": "code",
   "execution_count": 12,
   "metadata": {},
   "outputs": [
    {
     "name": "stdout",
     "output_type": "stream",
     "text": [
      "[1] \"Total sum of total_goals column: 120132\"\n"
     ]
    }
   ],
   "source": [
    "print(paste0(\"Total sum of total_goals column: \",sum(data_soccer$total_goals)))"
   ]
  },
  {
   "cell_type": "markdown",
   "metadata": {},
   "source": [
    "## Group_by\n",
    "This function is used to split the data into groups based on some criteria. The abstract definition of grouping is to provide a mapping of labels to group names.\n",
    "\n",
    "Also, operations can be done based on these aggregations such as the calculation of sums, means, typical deviations, etc."
   ]
  },
  {
   "cell_type": "markdown",
   "metadata": {},
   "source": [
    "Simple grouping"
   ]
  },
  {
   "cell_type": "code",
   "execution_count": 13,
   "metadata": {},
   "outputs": [
    {
     "data": {
      "text/html": [
       "<table>\n",
       "<caption>A data.frame: 6 × 4</caption>\n",
       "<thead>\n",
       "\t<tr><th></th><th scope=col>Group.1</th><th scope=col>home_score</th><th scope=col>away_score</th><th scope=col>total_goals</th></tr>\n",
       "\t<tr><th></th><th scope=col>&lt;dbl&gt;</th><th scope=col>&lt;dbl&gt;</th><th scope=col>&lt;dbl&gt;</th><th scope=col>&lt;dbl&gt;</th></tr>\n",
       "</thead>\n",
       "<tbody>\n",
       "\t<tr><th scope=row>1</th><td>0</td><td>0.0000000</td><td>0.0000000</td><td>0</td></tr>\n",
       "\t<tr><th scope=row>2</th><td>1</td><td>0.5943947</td><td>0.4056053</td><td>1</td></tr>\n",
       "\t<tr><th scope=row>3</th><td>2</td><td>1.1511971</td><td>0.8488029</td><td>2</td></tr>\n",
       "\t<tr><th scope=row>4</th><td>3</td><td>1.7549373</td><td>1.2450627</td><td>3</td></tr>\n",
       "\t<tr><th scope=row>5</th><td>4</td><td>2.3406458</td><td>1.6593542</td><td>4</td></tr>\n",
       "\t<tr><th scope=row>6</th><td>5</td><td>2.9885518</td><td>2.0114482</td><td>5</td></tr>\n",
       "</tbody>\n",
       "</table>\n"
      ],
      "text/latex": [
       "A data.frame: 6 × 4\n",
       "\\begin{tabular}{r|llll}\n",
       "  & Group.1 & home\\_score & away\\_score & total\\_goals\\\\\n",
       "  & <dbl> & <dbl> & <dbl> & <dbl>\\\\\n",
       "\\hline\n",
       "\t1 & 0 & 0.0000000 & 0.0000000 & 0\\\\\n",
       "\t2 & 1 & 0.5943947 & 0.4056053 & 1\\\\\n",
       "\t3 & 2 & 1.1511971 & 0.8488029 & 2\\\\\n",
       "\t4 & 3 & 1.7549373 & 1.2450627 & 3\\\\\n",
       "\t5 & 4 & 2.3406458 & 1.6593542 & 4\\\\\n",
       "\t6 & 5 & 2.9885518 & 2.0114482 & 5\\\\\n",
       "\\end{tabular}\n"
      ],
      "text/markdown": [
       "\n",
       "A data.frame: 6 × 4\n",
       "\n",
       "| <!--/--> | Group.1 &lt;dbl&gt; | home_score &lt;dbl&gt; | away_score &lt;dbl&gt; | total_goals &lt;dbl&gt; |\n",
       "|---|---|---|---|---|\n",
       "| 1 | 0 | 0.0000000 | 0.0000000 | 0 |\n",
       "| 2 | 1 | 0.5943947 | 0.4056053 | 1 |\n",
       "| 3 | 2 | 1.1511971 | 0.8488029 | 2 |\n",
       "| 4 | 3 | 1.7549373 | 1.2450627 | 3 |\n",
       "| 5 | 4 | 2.3406458 | 1.6593542 | 4 |\n",
       "| 6 | 5 | 2.9885518 | 2.0114482 | 5 |\n",
       "\n"
      ],
      "text/plain": [
       "  Group.1 home_score away_score total_goals\n",
       "1 0       0.0000000  0.0000000  0          \n",
       "2 1       0.5943947  0.4056053  1          \n",
       "3 2       1.1511971  0.8488029  2          \n",
       "4 3       1.7549373  1.2450627  3          \n",
       "5 4       2.3406458  1.6593542  4          \n",
       "6 5       2.9885518  2.0114482  5          "
      ]
     },
     "metadata": {},
     "output_type": "display_data"
    }
   ],
   "source": [
    "data_soccer_simple_group_mean <- data_soccer %>%\n",
    "                                    select_if(is.numeric) %>%\n",
    "                                    aggregate(list(data_soccer$total_goals), mean)\n",
    "data_soccer_simple_group_mean %>%\n",
    "    head()"
   ]
  },
  {
   "cell_type": "markdown",
   "metadata": {},
   "source": [
    "Multiple grouping"
   ]
  },
  {
   "cell_type": "code",
   "execution_count": 15,
   "metadata": {},
   "outputs": [
    {
     "data": {
      "text/html": [
       "<table>\n",
       "<caption>A grouped_df: 6 × 4</caption>\n",
       "<thead>\n",
       "\t<tr><th scope=col>country</th><th scope=col>total_goals</th><th scope=col>home_score</th><th scope=col>away_score</th></tr>\n",
       "\t<tr><th scope=col>&lt;chr&gt;</th><th scope=col>&lt;dbl&gt;</th><th scope=col>&lt;dbl&gt;</th><th scope=col>&lt;dbl&gt;</th></tr>\n",
       "</thead>\n",
       "<tbody>\n",
       "\t<tr><td>Afghanistan</td><td>1</td><td>0.5000000</td><td>0.5000000</td></tr>\n",
       "\t<tr><td>Afghanistan</td><td>2</td><td>0.6666667</td><td>1.3333333</td></tr>\n",
       "\t<tr><td>Afghanistan</td><td>3</td><td>1.5000000</td><td>1.5000000</td></tr>\n",
       "\t<tr><td>Afghanistan</td><td>4</td><td>1.0000000</td><td>3.0000000</td></tr>\n",
       "\t<tr><td>Albania    </td><td>0</td><td>0.0000000</td><td>0.0000000</td></tr>\n",
       "\t<tr><td>Albania    </td><td>1</td><td>0.4705882</td><td>0.5294118</td></tr>\n",
       "</tbody>\n",
       "</table>\n"
      ],
      "text/latex": [
       "A grouped\\_df: 6 × 4\n",
       "\\begin{tabular}{llll}\n",
       " country & total\\_goals & home\\_score & away\\_score\\\\\n",
       " <chr> & <dbl> & <dbl> & <dbl>\\\\\n",
       "\\hline\n",
       "\t Afghanistan & 1 & 0.5000000 & 0.5000000\\\\\n",
       "\t Afghanistan & 2 & 0.6666667 & 1.3333333\\\\\n",
       "\t Afghanistan & 3 & 1.5000000 & 1.5000000\\\\\n",
       "\t Afghanistan & 4 & 1.0000000 & 3.0000000\\\\\n",
       "\t Albania     & 0 & 0.0000000 & 0.0000000\\\\\n",
       "\t Albania     & 1 & 0.4705882 & 0.5294118\\\\\n",
       "\\end{tabular}\n"
      ],
      "text/markdown": [
       "\n",
       "A grouped_df: 6 × 4\n",
       "\n",
       "| country &lt;chr&gt; | total_goals &lt;dbl&gt; | home_score &lt;dbl&gt; | away_score &lt;dbl&gt; |\n",
       "|---|---|---|---|\n",
       "| Afghanistan | 1 | 0.5000000 | 0.5000000 |\n",
       "| Afghanistan | 2 | 0.6666667 | 1.3333333 |\n",
       "| Afghanistan | 3 | 1.5000000 | 1.5000000 |\n",
       "| Afghanistan | 4 | 1.0000000 | 3.0000000 |\n",
       "| Albania     | 0 | 0.0000000 | 0.0000000 |\n",
       "| Albania     | 1 | 0.4705882 | 0.5294118 |\n",
       "\n"
      ],
      "text/plain": [
       "  country     total_goals home_score away_score\n",
       "1 Afghanistan 1           0.5000000  0.5000000 \n",
       "2 Afghanistan 2           0.6666667  1.3333333 \n",
       "3 Afghanistan 3           1.5000000  1.5000000 \n",
       "4 Afghanistan 4           1.0000000  3.0000000 \n",
       "5 Albania     0           0.0000000  0.0000000 \n",
       "6 Albania     1           0.4705882  0.5294118 "
      ]
     },
     "metadata": {},
     "output_type": "display_data"
    }
   ],
   "source": [
    "data_soccer_multiple_group_mean <- data_soccer %>%\n",
    "                                    group_by(country, total_goals) %>%\n",
    "                                    summarise_at(vars(\"home_score\", \"away_score\"), mean)\n",
    "data_soccer_multiple_group_mean %>%\n",
    "    head()"
   ]
  },
  {
   "cell_type": "markdown",
   "metadata": {},
   "source": [
    "## lapply"
   ]
  },
  {
   "cell_type": "code",
   "execution_count": 32,
   "metadata": {},
   "outputs": [],
   "source": [
    "tipo_de_juego <- to_vec(for( i in 0:2) \"pocos_goles\")\n",
    "tipo_de_juego <- c(tipo_de_juego, to_vec(for( i in 3:6) \"normal\"))\n",
    "tipo_de_juego <- c(tipo_de_juego, to_vec(for( i in 7:10) \"mas_de_lo_normal\"))\n",
    "tipo_de_juego <- c(tipo_de_juego, to_vec(for( i in 11:40) \"muchos_goles\"))"
   ]
  },
  {
   "cell_type": "code",
   "execution_count": 35,
   "metadata": {},
   "outputs": [],
   "source": [
    "tipo_juego <- function(x) tipo_de_juego[x]"
   ]
  },
  {
   "cell_type": "code",
   "execution_count": 40,
   "metadata": {},
   "outputs": [
    {
     "data": {
      "text/html": [
       "<table>\n",
       "<caption>A tibble: 6 × 11</caption>\n",
       "<thead>\n",
       "\t<tr><th scope=col>date</th><th scope=col>home_team</th><th scope=col>away_team</th><th scope=col>home_score</th><th scope=col>away_score</th><th scope=col>tournament</th><th scope=col>city</th><th scope=col>country</th><th scope=col>neutral</th><th scope=col>total_goals</th><th scope=col>Resultados</th></tr>\n",
       "\t<tr><th scope=col>&lt;date&gt;</th><th scope=col>&lt;chr&gt;</th><th scope=col>&lt;chr&gt;</th><th scope=col>&lt;dbl&gt;</th><th scope=col>&lt;dbl&gt;</th><th scope=col>&lt;chr&gt;</th><th scope=col>&lt;chr&gt;</th><th scope=col>&lt;chr&gt;</th><th scope=col>&lt;lgl&gt;</th><th scope=col>&lt;dbl&gt;</th><th scope=col>&lt;list&gt;</th></tr>\n",
       "</thead>\n",
       "<tbody>\n",
       "\t<tr><td>1872-11-30</td><td>Scotland</td><td>England </td><td>0</td><td>0</td><td>Friendly</td><td>Glasgow</td><td>Scotland</td><td>FALSE</td><td>0</td><td>pocos_goles</td></tr>\n",
       "\t<tr><td>1873-03-08</td><td>England </td><td>Scotland</td><td>4</td><td>2</td><td>Friendly</td><td>London </td><td>England </td><td>FALSE</td><td>6</td><td>normal</td></tr>\n",
       "\t<tr><td>1874-03-07</td><td>Scotland</td><td>England </td><td>2</td><td>1</td><td>Friendly</td><td>Glasgow</td><td>Scotland</td><td>FALSE</td><td>3</td><td>normal</td></tr>\n",
       "\t<tr><td>1875-03-06</td><td>England </td><td>Scotland</td><td>2</td><td>2</td><td>Friendly</td><td>London </td><td>England </td><td>FALSE</td><td>4</td><td>normal</td></tr>\n",
       "\t<tr><td>1876-03-04</td><td>Scotland</td><td>England </td><td>3</td><td>0</td><td>Friendly</td><td>Glasgow</td><td>Scotland</td><td>FALSE</td><td>3</td><td>normal</td></tr>\n",
       "\t<tr><td>1876-03-25</td><td>Scotland</td><td>Wales   </td><td>4</td><td>0</td><td>Friendly</td><td>Glasgow</td><td>Scotland</td><td>FALSE</td><td>4</td><td>normal</td></tr>\n",
       "</tbody>\n",
       "</table>\n"
      ],
      "text/latex": [
       "A tibble: 6 × 11\n",
       "\\begin{tabular}{lllllllllll}\n",
       " date & home\\_team & away\\_team & home\\_score & away\\_score & tournament & city & country & neutral & total\\_goals & Resultados\\\\\n",
       " <date> & <chr> & <chr> & <dbl> & <dbl> & <chr> & <chr> & <chr> & <lgl> & <dbl> & <list>\\\\\n",
       "\\hline\n",
       "\t 1872-11-30 & Scotland & England  & 0 & 0 & Friendly & Glasgow & Scotland & FALSE & 0 & pocos\\_goles\\\\\n",
       "\t 1873-03-08 & England  & Scotland & 4 & 2 & Friendly & London  & England  & FALSE & 6 & normal\\\\\n",
       "\t 1874-03-07 & Scotland & England  & 2 & 1 & Friendly & Glasgow & Scotland & FALSE & 3 & normal\\\\\n",
       "\t 1875-03-06 & England  & Scotland & 2 & 2 & Friendly & London  & England  & FALSE & 4 & normal\\\\\n",
       "\t 1876-03-04 & Scotland & England  & 3 & 0 & Friendly & Glasgow & Scotland & FALSE & 3 & normal\\\\\n",
       "\t 1876-03-25 & Scotland & Wales    & 4 & 0 & Friendly & Glasgow & Scotland & FALSE & 4 & normal\\\\\n",
       "\\end{tabular}\n"
      ],
      "text/markdown": [
       "\n",
       "A tibble: 6 × 11\n",
       "\n",
       "| date &lt;date&gt; | home_team &lt;chr&gt; | away_team &lt;chr&gt; | home_score &lt;dbl&gt; | away_score &lt;dbl&gt; | tournament &lt;chr&gt; | city &lt;chr&gt; | country &lt;chr&gt; | neutral &lt;lgl&gt; | total_goals &lt;dbl&gt; | Resultados &lt;list&gt; |\n",
       "|---|---|---|---|---|---|---|---|---|---|---|\n",
       "| 1872-11-30 | Scotland | England  | 0 | 0 | Friendly | Glasgow | Scotland | FALSE | 0 | pocos_goles |\n",
       "| 1873-03-08 | England  | Scotland | 4 | 2 | Friendly | London  | England  | FALSE | 6 | normal |\n",
       "| 1874-03-07 | Scotland | England  | 2 | 1 | Friendly | Glasgow | Scotland | FALSE | 3 | normal |\n",
       "| 1875-03-06 | England  | Scotland | 2 | 2 | Friendly | London  | England  | FALSE | 4 | normal |\n",
       "| 1876-03-04 | Scotland | England  | 3 | 0 | Friendly | Glasgow | Scotland | FALSE | 3 | normal |\n",
       "| 1876-03-25 | Scotland | Wales    | 4 | 0 | Friendly | Glasgow | Scotland | FALSE | 4 | normal |\n",
       "\n"
      ],
      "text/plain": [
       "  date       home_team away_team home_score away_score tournament city   \n",
       "1 1872-11-30 Scotland  England   0          0          Friendly   Glasgow\n",
       "2 1873-03-08 England   Scotland  4          2          Friendly   London \n",
       "3 1874-03-07 Scotland  England   2          1          Friendly   Glasgow\n",
       "4 1875-03-06 England   Scotland  2          2          Friendly   London \n",
       "5 1876-03-04 Scotland  England   3          0          Friendly   Glasgow\n",
       "6 1876-03-25 Scotland  Wales     4          0          Friendly   Glasgow\n",
       "  country  neutral total_goals Resultados \n",
       "1 Scotland FALSE   0           pocos_goles\n",
       "2 England  FALSE   6           normal     \n",
       "3 Scotland FALSE   3           normal     \n",
       "4 England  FALSE   4           normal     \n",
       "5 Scotland FALSE   3           normal     \n",
       "6 Scotland FALSE   4           normal     "
      ]
     },
     "metadata": {},
     "output_type": "display_data"
    }
   ],
   "source": [
    "data_soccer$Resultados <- (data_soccer$total_goals + 1) %>%\n",
    "                            lapply( tipo_juego)\n",
    "data_soccer %>%\n",
    "    head()"
   ]
  },
  {
   "cell_type": "code",
   "execution_count": null,
   "metadata": {},
   "outputs": [],
   "source": []
  }
 ],
 "metadata": {
  "kernelspec": {
   "display_name": "R",
   "language": "R",
   "name": "ir"
  },
  "language_info": {
   "codemirror_mode": "r",
   "file_extension": ".r",
   "mimetype": "text/x-r-source",
   "name": "R",
   "pygments_lexer": "r",
   "version": "4.0.3"
  }
 },
 "nbformat": 4,
 "nbformat_minor": 4
}
