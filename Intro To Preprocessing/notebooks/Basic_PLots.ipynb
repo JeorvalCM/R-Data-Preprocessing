{
 "cells": [
  {
   "cell_type": "markdown",
   "metadata": {},
   "source": [
    "# Plotting with ggplot2"
   ]
  },
  {
   "cell_type": "code",
   "execution_count": 1,
   "metadata": {},
   "outputs": [
    {
     "name": "stderr",
     "output_type": "stream",
     "text": [
      "-- \u001b[1mAttaching packages\u001b[22m ------------------------------------------------------------------------------- tidyverse 1.3.0 --\n",
      "\n",
      "\u001b[32mv\u001b[39m \u001b[34mtibble \u001b[39m 3.0.4     \u001b[32mv\u001b[39m \u001b[34mdplyr  \u001b[39m 1.0.2\n",
      "\u001b[32mv\u001b[39m \u001b[34mtidyr  \u001b[39m 1.1.2     \u001b[32mv\u001b[39m \u001b[34mstringr\u001b[39m 1.4.0\n",
      "\u001b[32mv\u001b[39m \u001b[34mreadr  \u001b[39m 1.4.0     \u001b[32mv\u001b[39m \u001b[34mforcats\u001b[39m 0.5.0\n",
      "\u001b[32mv\u001b[39m \u001b[34mpurrr  \u001b[39m 0.3.4     \n",
      "\n",
      "-- \u001b[1mConflicts\u001b[22m ---------------------------------------------------------------------------------- tidyverse_conflicts() --\n",
      "\u001b[31mx\u001b[39m \u001b[34mdplyr\u001b[39m::\u001b[32mfilter()\u001b[39m masks \u001b[34mstats\u001b[39m::filter()\n",
      "\u001b[31mx\u001b[39m \u001b[34mdplyr\u001b[39m::\u001b[32mlag()\u001b[39m    masks \u001b[34mstats\u001b[39m::lag()\n",
      "\n",
      "\n",
      "Attaching package: 'lubridate'\n",
      "\n",
      "\n",
      "The following objects are masked from 'package:base':\n",
      "\n",
      "    date, intersect, setdiff, union\n",
      "\n",
      "\n"
     ]
    }
   ],
   "source": [
    "library(ggplot2)\n",
    "library(tidyverse)\n",
    "library(lubridate)"
   ]
  },
  {
   "cell_type": "code",
   "execution_count": 2,
   "metadata": {},
   "outputs": [
    {
     "name": "stderr",
     "output_type": "stream",
     "text": [
      "\n",
      "\u001b[36m--\u001b[39m \u001b[1m\u001b[1mColumn specification\u001b[1m\u001b[22m \u001b[36m------------------------------------------------------------------------------------------------\u001b[39m\n",
      "cols(\n",
      "  YEARMODA = \u001b[32mcol_double()\u001b[39m,\n",
      "  TEMP = \u001b[32mcol_double()\u001b[39m,\n",
      "  MAX = \u001b[32mcol_double()\u001b[39m,\n",
      "  MIN = \u001b[32mcol_double()\u001b[39m\n",
      ")\n",
      "\n",
      "\n"
     ]
    },
    {
     "data": {
      "text/html": [
       "<table>\n",
       "<caption>A spec_tbl_df: 30 × 4</caption>\n",
       "<thead>\n",
       "\t<tr><th scope=col>YEARMODA</th><th scope=col>TEMP</th><th scope=col>MAX</th><th scope=col>MIN</th></tr>\n",
       "\t<tr><th scope=col>&lt;dbl&gt;</th><th scope=col>&lt;dbl&gt;</th><th scope=col>&lt;dbl&gt;</th><th scope=col>&lt;dbl&gt;</th></tr>\n",
       "</thead>\n",
       "<tbody>\n",
       "\t<tr><td>20160601</td><td>65.5</td><td>73.6</td><td>54.7</td></tr>\n",
       "\t<tr><td>20160602</td><td>65.8</td><td>80.8</td><td>55.0</td></tr>\n",
       "\t<tr><td>20160603</td><td>68.4</td><td>77.9</td><td>55.6</td></tr>\n",
       "\t<tr><td>20160604</td><td>57.5</td><td>70.9</td><td>47.3</td></tr>\n",
       "\t<tr><td>20160605</td><td>51.4</td><td>58.3</td><td>43.2</td></tr>\n",
       "\t<tr><td>20160606</td><td>52.2</td><td>59.7</td><td>42.8</td></tr>\n",
       "\t<tr><td>20160607</td><td>56.9</td><td>65.1</td><td>45.9</td></tr>\n",
       "\t<tr><td>20160608</td><td>54.2</td><td>60.4</td><td>47.5</td></tr>\n",
       "\t<tr><td>20160609</td><td>49.4</td><td>54.1</td><td>45.7</td></tr>\n",
       "\t<tr><td>20160610</td><td>49.5</td><td>55.9</td><td>43.0</td></tr>\n",
       "\t<tr><td>20160611</td><td>54.0</td><td>62.1</td><td>41.7</td></tr>\n",
       "\t<tr><td>20160612</td><td>55.4</td><td>64.2</td><td>46.0</td></tr>\n",
       "\t<tr><td>20160613</td><td>58.3</td><td>68.2</td><td>47.3</td></tr>\n",
       "\t<tr><td>20160614</td><td>59.7</td><td>67.8</td><td>47.8</td></tr>\n",
       "\t<tr><td>20160615</td><td>63.4</td><td>70.3</td><td>49.3</td></tr>\n",
       "\t<tr><td>20160616</td><td>57.8</td><td>67.5</td><td>55.6</td></tr>\n",
       "\t<tr><td>20160617</td><td>60.4</td><td>70.7</td><td>55.9</td></tr>\n",
       "\t<tr><td>20160618</td><td>57.3</td><td>62.8</td><td>54.0</td></tr>\n",
       "\t<tr><td>20160619</td><td>56.3</td><td>59.2</td><td>54.1</td></tr>\n",
       "\t<tr><td>20160620</td><td>59.3</td><td>69.1</td><td>52.2</td></tr>\n",
       "\t<tr><td>20160621</td><td>62.6</td><td>71.4</td><td>50.4</td></tr>\n",
       "\t<tr><td>20160622</td><td>61.7</td><td>70.2</td><td>55.4</td></tr>\n",
       "\t<tr><td>20160623</td><td>60.9</td><td>67.1</td><td>54.9</td></tr>\n",
       "\t<tr><td>20160624</td><td>61.1</td><td>68.9</td><td>56.7</td></tr>\n",
       "\t<tr><td>20160625</td><td>65.7</td><td>75.4</td><td>57.9</td></tr>\n",
       "\t<tr><td>20160626</td><td>69.6</td><td>77.7</td><td>60.3</td></tr>\n",
       "\t<tr><td>20160627</td><td>60.7</td><td>70.0</td><td>57.6</td></tr>\n",
       "\t<tr><td>20160628</td><td>65.4</td><td>73.0</td><td>55.8</td></tr>\n",
       "\t<tr><td>20160629</td><td>65.8</td><td>73.2</td><td>59.7</td></tr>\n",
       "\t<tr><td>20160630</td><td>65.7</td><td>72.7</td><td>59.2</td></tr>\n",
       "</tbody>\n",
       "</table>\n"
      ],
      "text/latex": [
       "A spec\\_tbl\\_df: 30 × 4\n",
       "\\begin{tabular}{llll}\n",
       " YEARMODA & TEMP & MAX & MIN\\\\\n",
       " <dbl> & <dbl> & <dbl> & <dbl>\\\\\n",
       "\\hline\n",
       "\t 20160601 & 65.5 & 73.6 & 54.7\\\\\n",
       "\t 20160602 & 65.8 & 80.8 & 55.0\\\\\n",
       "\t 20160603 & 68.4 & 77.9 & 55.6\\\\\n",
       "\t 20160604 & 57.5 & 70.9 & 47.3\\\\\n",
       "\t 20160605 & 51.4 & 58.3 & 43.2\\\\\n",
       "\t 20160606 & 52.2 & 59.7 & 42.8\\\\\n",
       "\t 20160607 & 56.9 & 65.1 & 45.9\\\\\n",
       "\t 20160608 & 54.2 & 60.4 & 47.5\\\\\n",
       "\t 20160609 & 49.4 & 54.1 & 45.7\\\\\n",
       "\t 20160610 & 49.5 & 55.9 & 43.0\\\\\n",
       "\t 20160611 & 54.0 & 62.1 & 41.7\\\\\n",
       "\t 20160612 & 55.4 & 64.2 & 46.0\\\\\n",
       "\t 20160613 & 58.3 & 68.2 & 47.3\\\\\n",
       "\t 20160614 & 59.7 & 67.8 & 47.8\\\\\n",
       "\t 20160615 & 63.4 & 70.3 & 49.3\\\\\n",
       "\t 20160616 & 57.8 & 67.5 & 55.6\\\\\n",
       "\t 20160617 & 60.4 & 70.7 & 55.9\\\\\n",
       "\t 20160618 & 57.3 & 62.8 & 54.0\\\\\n",
       "\t 20160619 & 56.3 & 59.2 & 54.1\\\\\n",
       "\t 20160620 & 59.3 & 69.1 & 52.2\\\\\n",
       "\t 20160621 & 62.6 & 71.4 & 50.4\\\\\n",
       "\t 20160622 & 61.7 & 70.2 & 55.4\\\\\n",
       "\t 20160623 & 60.9 & 67.1 & 54.9\\\\\n",
       "\t 20160624 & 61.1 & 68.9 & 56.7\\\\\n",
       "\t 20160625 & 65.7 & 75.4 & 57.9\\\\\n",
       "\t 20160626 & 69.6 & 77.7 & 60.3\\\\\n",
       "\t 20160627 & 60.7 & 70.0 & 57.6\\\\\n",
       "\t 20160628 & 65.4 & 73.0 & 55.8\\\\\n",
       "\t 20160629 & 65.8 & 73.2 & 59.7\\\\\n",
       "\t 20160630 & 65.7 & 72.7 & 59.2\\\\\n",
       "\\end{tabular}\n"
      ],
      "text/markdown": [
       "\n",
       "A spec_tbl_df: 30 × 4\n",
       "\n",
       "| YEARMODA &lt;dbl&gt; | TEMP &lt;dbl&gt; | MAX &lt;dbl&gt; | MIN &lt;dbl&gt; |\n",
       "|---|---|---|---|\n",
       "| 20160601 | 65.5 | 73.6 | 54.7 |\n",
       "| 20160602 | 65.8 | 80.8 | 55.0 |\n",
       "| 20160603 | 68.4 | 77.9 | 55.6 |\n",
       "| 20160604 | 57.5 | 70.9 | 47.3 |\n",
       "| 20160605 | 51.4 | 58.3 | 43.2 |\n",
       "| 20160606 | 52.2 | 59.7 | 42.8 |\n",
       "| 20160607 | 56.9 | 65.1 | 45.9 |\n",
       "| 20160608 | 54.2 | 60.4 | 47.5 |\n",
       "| 20160609 | 49.4 | 54.1 | 45.7 |\n",
       "| 20160610 | 49.5 | 55.9 | 43.0 |\n",
       "| 20160611 | 54.0 | 62.1 | 41.7 |\n",
       "| 20160612 | 55.4 | 64.2 | 46.0 |\n",
       "| 20160613 | 58.3 | 68.2 | 47.3 |\n",
       "| 20160614 | 59.7 | 67.8 | 47.8 |\n",
       "| 20160615 | 63.4 | 70.3 | 49.3 |\n",
       "| 20160616 | 57.8 | 67.5 | 55.6 |\n",
       "| 20160617 | 60.4 | 70.7 | 55.9 |\n",
       "| 20160618 | 57.3 | 62.8 | 54.0 |\n",
       "| 20160619 | 56.3 | 59.2 | 54.1 |\n",
       "| 20160620 | 59.3 | 69.1 | 52.2 |\n",
       "| 20160621 | 62.6 | 71.4 | 50.4 |\n",
       "| 20160622 | 61.7 | 70.2 | 55.4 |\n",
       "| 20160623 | 60.9 | 67.1 | 54.9 |\n",
       "| 20160624 | 61.1 | 68.9 | 56.7 |\n",
       "| 20160625 | 65.7 | 75.4 | 57.9 |\n",
       "| 20160626 | 69.6 | 77.7 | 60.3 |\n",
       "| 20160627 | 60.7 | 70.0 | 57.6 |\n",
       "| 20160628 | 65.4 | 73.0 | 55.8 |\n",
       "| 20160629 | 65.8 | 73.2 | 59.7 |\n",
       "| 20160630 | 65.7 | 72.7 | 59.2 |\n",
       "\n"
      ],
      "text/plain": [
       "   YEARMODA TEMP MAX  MIN \n",
       "1  20160601 65.5 73.6 54.7\n",
       "2  20160602 65.8 80.8 55.0\n",
       "3  20160603 68.4 77.9 55.6\n",
       "4  20160604 57.5 70.9 47.3\n",
       "5  20160605 51.4 58.3 43.2\n",
       "6  20160606 52.2 59.7 42.8\n",
       "7  20160607 56.9 65.1 45.9\n",
       "8  20160608 54.2 60.4 47.5\n",
       "9  20160609 49.4 54.1 45.7\n",
       "10 20160610 49.5 55.9 43.0\n",
       "11 20160611 54.0 62.1 41.7\n",
       "12 20160612 55.4 64.2 46.0\n",
       "13 20160613 58.3 68.2 47.3\n",
       "14 20160614 59.7 67.8 47.8\n",
       "15 20160615 63.4 70.3 49.3\n",
       "16 20160616 57.8 67.5 55.6\n",
       "17 20160617 60.4 70.7 55.9\n",
       "18 20160618 57.3 62.8 54.0\n",
       "19 20160619 56.3 59.2 54.1\n",
       "20 20160620 59.3 69.1 52.2\n",
       "21 20160621 62.6 71.4 50.4\n",
       "22 20160622 61.7 70.2 55.4\n",
       "23 20160623 60.9 67.1 54.9\n",
       "24 20160624 61.1 68.9 56.7\n",
       "25 20160625 65.7 75.4 57.9\n",
       "26 20160626 69.6 77.7 60.3\n",
       "27 20160627 60.7 70.0 57.6\n",
       "28 20160628 65.4 73.0 55.8\n",
       "29 20160629 65.8 73.2 59.7\n",
       "30 20160630 65.7 72.7 59.2"
      ]
     },
     "metadata": {},
     "output_type": "display_data"
    }
   ],
   "source": [
    "data <- read_csv(\"../datasets/Kumpula-June-2016-w-metadata.txt\", skip = 8)\n",
    "data"
   ]
  },
  {
   "cell_type": "markdown",
   "metadata": {},
   "source": [
    "### Making the YEARMODA column into a datetime column"
   ]
  },
  {
   "cell_type": "code",
   "execution_count": 3,
   "metadata": {},
   "outputs": [
    {
     "data": {
      "text/html": [
       "<table>\n",
       "<caption>A spec_tbl_df: 30 × 4</caption>\n",
       "<thead>\n",
       "\t<tr><th scope=col>YEARMODA</th><th scope=col>TEMP</th><th scope=col>MAX</th><th scope=col>MIN</th></tr>\n",
       "\t<tr><th scope=col>&lt;date&gt;</th><th scope=col>&lt;dbl&gt;</th><th scope=col>&lt;dbl&gt;</th><th scope=col>&lt;dbl&gt;</th></tr>\n",
       "</thead>\n",
       "<tbody>\n",
       "\t<tr><td>2016-06-01</td><td>65.5</td><td>73.6</td><td>54.7</td></tr>\n",
       "\t<tr><td>2016-06-02</td><td>65.8</td><td>80.8</td><td>55.0</td></tr>\n",
       "\t<tr><td>2016-06-03</td><td>68.4</td><td>77.9</td><td>55.6</td></tr>\n",
       "\t<tr><td>2016-06-04</td><td>57.5</td><td>70.9</td><td>47.3</td></tr>\n",
       "\t<tr><td>2016-06-05</td><td>51.4</td><td>58.3</td><td>43.2</td></tr>\n",
       "\t<tr><td>2016-06-06</td><td>52.2</td><td>59.7</td><td>42.8</td></tr>\n",
       "\t<tr><td>2016-06-07</td><td>56.9</td><td>65.1</td><td>45.9</td></tr>\n",
       "\t<tr><td>2016-06-08</td><td>54.2</td><td>60.4</td><td>47.5</td></tr>\n",
       "\t<tr><td>2016-06-09</td><td>49.4</td><td>54.1</td><td>45.7</td></tr>\n",
       "\t<tr><td>2016-06-10</td><td>49.5</td><td>55.9</td><td>43.0</td></tr>\n",
       "\t<tr><td>2016-06-11</td><td>54.0</td><td>62.1</td><td>41.7</td></tr>\n",
       "\t<tr><td>2016-06-12</td><td>55.4</td><td>64.2</td><td>46.0</td></tr>\n",
       "\t<tr><td>2016-06-13</td><td>58.3</td><td>68.2</td><td>47.3</td></tr>\n",
       "\t<tr><td>2016-06-14</td><td>59.7</td><td>67.8</td><td>47.8</td></tr>\n",
       "\t<tr><td>2016-06-15</td><td>63.4</td><td>70.3</td><td>49.3</td></tr>\n",
       "\t<tr><td>2016-06-16</td><td>57.8</td><td>67.5</td><td>55.6</td></tr>\n",
       "\t<tr><td>2016-06-17</td><td>60.4</td><td>70.7</td><td>55.9</td></tr>\n",
       "\t<tr><td>2016-06-18</td><td>57.3</td><td>62.8</td><td>54.0</td></tr>\n",
       "\t<tr><td>2016-06-19</td><td>56.3</td><td>59.2</td><td>54.1</td></tr>\n",
       "\t<tr><td>2016-06-20</td><td>59.3</td><td>69.1</td><td>52.2</td></tr>\n",
       "\t<tr><td>2016-06-21</td><td>62.6</td><td>71.4</td><td>50.4</td></tr>\n",
       "\t<tr><td>2016-06-22</td><td>61.7</td><td>70.2</td><td>55.4</td></tr>\n",
       "\t<tr><td>2016-06-23</td><td>60.9</td><td>67.1</td><td>54.9</td></tr>\n",
       "\t<tr><td>2016-06-24</td><td>61.1</td><td>68.9</td><td>56.7</td></tr>\n",
       "\t<tr><td>2016-06-25</td><td>65.7</td><td>75.4</td><td>57.9</td></tr>\n",
       "\t<tr><td>2016-06-26</td><td>69.6</td><td>77.7</td><td>60.3</td></tr>\n",
       "\t<tr><td>2016-06-27</td><td>60.7</td><td>70.0</td><td>57.6</td></tr>\n",
       "\t<tr><td>2016-06-28</td><td>65.4</td><td>73.0</td><td>55.8</td></tr>\n",
       "\t<tr><td>2016-06-29</td><td>65.8</td><td>73.2</td><td>59.7</td></tr>\n",
       "\t<tr><td>2016-06-30</td><td>65.7</td><td>72.7</td><td>59.2</td></tr>\n",
       "</tbody>\n",
       "</table>\n"
      ],
      "text/latex": [
       "A spec\\_tbl\\_df: 30 × 4\n",
       "\\begin{tabular}{llll}\n",
       " YEARMODA & TEMP & MAX & MIN\\\\\n",
       " <date> & <dbl> & <dbl> & <dbl>\\\\\n",
       "\\hline\n",
       "\t 2016-06-01 & 65.5 & 73.6 & 54.7\\\\\n",
       "\t 2016-06-02 & 65.8 & 80.8 & 55.0\\\\\n",
       "\t 2016-06-03 & 68.4 & 77.9 & 55.6\\\\\n",
       "\t 2016-06-04 & 57.5 & 70.9 & 47.3\\\\\n",
       "\t 2016-06-05 & 51.4 & 58.3 & 43.2\\\\\n",
       "\t 2016-06-06 & 52.2 & 59.7 & 42.8\\\\\n",
       "\t 2016-06-07 & 56.9 & 65.1 & 45.9\\\\\n",
       "\t 2016-06-08 & 54.2 & 60.4 & 47.5\\\\\n",
       "\t 2016-06-09 & 49.4 & 54.1 & 45.7\\\\\n",
       "\t 2016-06-10 & 49.5 & 55.9 & 43.0\\\\\n",
       "\t 2016-06-11 & 54.0 & 62.1 & 41.7\\\\\n",
       "\t 2016-06-12 & 55.4 & 64.2 & 46.0\\\\\n",
       "\t 2016-06-13 & 58.3 & 68.2 & 47.3\\\\\n",
       "\t 2016-06-14 & 59.7 & 67.8 & 47.8\\\\\n",
       "\t 2016-06-15 & 63.4 & 70.3 & 49.3\\\\\n",
       "\t 2016-06-16 & 57.8 & 67.5 & 55.6\\\\\n",
       "\t 2016-06-17 & 60.4 & 70.7 & 55.9\\\\\n",
       "\t 2016-06-18 & 57.3 & 62.8 & 54.0\\\\\n",
       "\t 2016-06-19 & 56.3 & 59.2 & 54.1\\\\\n",
       "\t 2016-06-20 & 59.3 & 69.1 & 52.2\\\\\n",
       "\t 2016-06-21 & 62.6 & 71.4 & 50.4\\\\\n",
       "\t 2016-06-22 & 61.7 & 70.2 & 55.4\\\\\n",
       "\t 2016-06-23 & 60.9 & 67.1 & 54.9\\\\\n",
       "\t 2016-06-24 & 61.1 & 68.9 & 56.7\\\\\n",
       "\t 2016-06-25 & 65.7 & 75.4 & 57.9\\\\\n",
       "\t 2016-06-26 & 69.6 & 77.7 & 60.3\\\\\n",
       "\t 2016-06-27 & 60.7 & 70.0 & 57.6\\\\\n",
       "\t 2016-06-28 & 65.4 & 73.0 & 55.8\\\\\n",
       "\t 2016-06-29 & 65.8 & 73.2 & 59.7\\\\\n",
       "\t 2016-06-30 & 65.7 & 72.7 & 59.2\\\\\n",
       "\\end{tabular}\n"
      ],
      "text/markdown": [
       "\n",
       "A spec_tbl_df: 30 × 4\n",
       "\n",
       "| YEARMODA &lt;date&gt; | TEMP &lt;dbl&gt; | MAX &lt;dbl&gt; | MIN &lt;dbl&gt; |\n",
       "|---|---|---|---|\n",
       "| 2016-06-01 | 65.5 | 73.6 | 54.7 |\n",
       "| 2016-06-02 | 65.8 | 80.8 | 55.0 |\n",
       "| 2016-06-03 | 68.4 | 77.9 | 55.6 |\n",
       "| 2016-06-04 | 57.5 | 70.9 | 47.3 |\n",
       "| 2016-06-05 | 51.4 | 58.3 | 43.2 |\n",
       "| 2016-06-06 | 52.2 | 59.7 | 42.8 |\n",
       "| 2016-06-07 | 56.9 | 65.1 | 45.9 |\n",
       "| 2016-06-08 | 54.2 | 60.4 | 47.5 |\n",
       "| 2016-06-09 | 49.4 | 54.1 | 45.7 |\n",
       "| 2016-06-10 | 49.5 | 55.9 | 43.0 |\n",
       "| 2016-06-11 | 54.0 | 62.1 | 41.7 |\n",
       "| 2016-06-12 | 55.4 | 64.2 | 46.0 |\n",
       "| 2016-06-13 | 58.3 | 68.2 | 47.3 |\n",
       "| 2016-06-14 | 59.7 | 67.8 | 47.8 |\n",
       "| 2016-06-15 | 63.4 | 70.3 | 49.3 |\n",
       "| 2016-06-16 | 57.8 | 67.5 | 55.6 |\n",
       "| 2016-06-17 | 60.4 | 70.7 | 55.9 |\n",
       "| 2016-06-18 | 57.3 | 62.8 | 54.0 |\n",
       "| 2016-06-19 | 56.3 | 59.2 | 54.1 |\n",
       "| 2016-06-20 | 59.3 | 69.1 | 52.2 |\n",
       "| 2016-06-21 | 62.6 | 71.4 | 50.4 |\n",
       "| 2016-06-22 | 61.7 | 70.2 | 55.4 |\n",
       "| 2016-06-23 | 60.9 | 67.1 | 54.9 |\n",
       "| 2016-06-24 | 61.1 | 68.9 | 56.7 |\n",
       "| 2016-06-25 | 65.7 | 75.4 | 57.9 |\n",
       "| 2016-06-26 | 69.6 | 77.7 | 60.3 |\n",
       "| 2016-06-27 | 60.7 | 70.0 | 57.6 |\n",
       "| 2016-06-28 | 65.4 | 73.0 | 55.8 |\n",
       "| 2016-06-29 | 65.8 | 73.2 | 59.7 |\n",
       "| 2016-06-30 | 65.7 | 72.7 | 59.2 |\n",
       "\n"
      ],
      "text/plain": [
       "   YEARMODA   TEMP MAX  MIN \n",
       "1  2016-06-01 65.5 73.6 54.7\n",
       "2  2016-06-02 65.8 80.8 55.0\n",
       "3  2016-06-03 68.4 77.9 55.6\n",
       "4  2016-06-04 57.5 70.9 47.3\n",
       "5  2016-06-05 51.4 58.3 43.2\n",
       "6  2016-06-06 52.2 59.7 42.8\n",
       "7  2016-06-07 56.9 65.1 45.9\n",
       "8  2016-06-08 54.2 60.4 47.5\n",
       "9  2016-06-09 49.4 54.1 45.7\n",
       "10 2016-06-10 49.5 55.9 43.0\n",
       "11 2016-06-11 54.0 62.1 41.7\n",
       "12 2016-06-12 55.4 64.2 46.0\n",
       "13 2016-06-13 58.3 68.2 47.3\n",
       "14 2016-06-14 59.7 67.8 47.8\n",
       "15 2016-06-15 63.4 70.3 49.3\n",
       "16 2016-06-16 57.8 67.5 55.6\n",
       "17 2016-06-17 60.4 70.7 55.9\n",
       "18 2016-06-18 57.3 62.8 54.0\n",
       "19 2016-06-19 56.3 59.2 54.1\n",
       "20 2016-06-20 59.3 69.1 52.2\n",
       "21 2016-06-21 62.6 71.4 50.4\n",
       "22 2016-06-22 61.7 70.2 55.4\n",
       "23 2016-06-23 60.9 67.1 54.9\n",
       "24 2016-06-24 61.1 68.9 56.7\n",
       "25 2016-06-25 65.7 75.4 57.9\n",
       "26 2016-06-26 69.6 77.7 60.3\n",
       "27 2016-06-27 60.7 70.0 57.6\n",
       "28 2016-06-28 65.4 73.0 55.8\n",
       "29 2016-06-29 65.8 73.2 59.7\n",
       "30 2016-06-30 65.7 72.7 59.2"
      ]
     },
     "metadata": {},
     "output_type": "display_data"
    }
   ],
   "source": [
    "data$YEARMODA = ymd(data$YEARMODA)\n",
    "data"
   ]
  },
  {
   "cell_type": "markdown",
   "metadata": {},
   "source": [
    "### Changing the general size of the plots"
   ]
  },
  {
   "cell_type": "code",
   "execution_count": 4,
   "metadata": {},
   "outputs": [],
   "source": [
    "options(repr.plot.width = 14, repr.plot.height = 8)"
   ]
  },
  {
   "cell_type": "markdown",
   "metadata": {},
   "source": [
    "### Simple plot"
   ]
  },
  {
   "cell_type": "code",
   "execution_count": 5,
   "metadata": {},
   "outputs": [
    {
     "data": {
      "image/png": "[encoded data removed]",
      "text/plain": [
       "plot without title"
      ]
     },
     "metadata": {
      "image/png": {
       "height": 480,
       "width": 840
      }
     },
     "output_type": "display_data"
    }
   ],
   "source": [
    "data %>%\n",
    "    ggplot(aes(x = YEARMODA,y = TEMP)) + \n",
    "    geom_line()"
   ]
  },
  {
   "cell_type": "markdown",
   "metadata": {},
   "source": [
    "### Basic plot formatting"
   ]
  },
  {
   "cell_type": "code",
   "execution_count": 6,
   "metadata": {},
   "outputs": [
    {
     "data": {
      "image/png": "[encoded data removed]",
      "text/plain": [
       "plot without title"
      ]
     },
     "metadata": {
      "image/png": {
       "height": 480,
       "width": 840
      }
     },
     "output_type": "display_data"
    }
   ],
   "source": [
    "data %>%\n",
    "    ggplot(aes(x = YEARMODA,y = TEMP)) + \n",
    "    geom_line(color = \"red\") + \n",
    "    geom_point(color = \"red\") + \n",
    "    labs(x = \"Date\", y = \"Temperature[°F]\") +\n",
    "    ggtitle(\"Kumpula temperatures in June 2016\")"
   ]
  },
  {
   "cell_type": "markdown",
   "metadata": {},
   "source": [
    "#### setting axis limits"
   ]
  },
  {
   "cell_type": "code",
   "execution_count": 7,
   "metadata": {},
   "outputs": [
    {
     "ename": "ERROR",
     "evalue": "Error in labs(x = \"Date\", y = \"Temperature[°F]\") + ggtitle(\"Kumpula temperatures in June 2016\"): argumento no-numérico para operador binario\n",
     "output_type": "error",
     "traceback": [
      "Error in labs(x = \"Date\", y = \"Temperature[°F]\") + ggtitle(\"Kumpula temperatures in June 2016\"): argumento no-numérico para operador binario\nTraceback:\n"
     ]
    },
    {
     "data": {
      "image/png": "[encoded data removed]",
      "text/plain": [
       "plot without title"
      ]
     },
     "metadata": {
      "image/png": {
       "height": 480,
       "width": 840
      }
     },
     "output_type": "display_data"
    }
   ],
   "source": [
    "data %>%\n",
    "    ggplot(aes(x = YEARMODA,y = TEMP)) + \n",
    "    geom_line(color = \"red\") + \n",
    "    geom_point(color = \"red\") + \n",
    "    ylim(40,80) \n",
    "    labs(x = \"Date\", y = \"Temperature[°F]\") +\n",
    "    ggtitle(\"Kumpula temperatures in June 2016\") "
   ]
  },
  {
   "cell_type": "code",
   "execution_count": null,
   "metadata": {},
   "outputs": [],
   "source": []
  }
 ],
 "metadata": {
  "kernelspec": {
   "display_name": "R",
   "language": "R",
   "name": "ir"
  },
  "language_info": {
   "codemirror_mode": "r",
   "file_extension": ".r",
   "mimetype": "text/x-r-source",
   "name": "R",
   "pygments_lexer": "r",
   "version": "4.0.3"
  }
 },
 "nbformat": 4,
 "nbformat_minor": 4
}
