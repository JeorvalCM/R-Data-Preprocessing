{
 "cells": [
  {
   "cell_type": "code",
   "execution_count": 4,
   "metadata": {},
   "outputs": [
    {
     "name": "stderr",
     "output_type": "stream",
     "text": [
      "-- \u001b[1mAttaching packages\u001b[22m ------------------------------------------------------------------------------- tidyverse 1.3.0 --\n",
      "\n",
      "\u001b[32mv\u001b[39m \u001b[34mggplot2\u001b[39m 3.3.2     \u001b[32mv\u001b[39m \u001b[34mpurrr  \u001b[39m 0.3.4\n",
      "\u001b[32mv\u001b[39m \u001b[34mtibble \u001b[39m 3.0.4     \u001b[32mv\u001b[39m \u001b[34mdplyr  \u001b[39m 1.0.2\n",
      "\u001b[32mv\u001b[39m \u001b[34mtidyr  \u001b[39m 1.1.2     \u001b[32mv\u001b[39m \u001b[34mstringr\u001b[39m 1.4.0\n",
      "\u001b[32mv\u001b[39m \u001b[34mreadr  \u001b[39m 1.4.0     \u001b[32mv\u001b[39m \u001b[34mforcats\u001b[39m 0.5.0\n",
      "\n",
      "-- \u001b[1mConflicts\u001b[22m ---------------------------------------------------------------------------------- tidyverse_conflicts() --\n",
      "\u001b[31mx\u001b[39m \u001b[34mdplyr\u001b[39m::\u001b[32mfilter()\u001b[39m masks \u001b[34mstats\u001b[39m::filter()\n",
      "\u001b[31mx\u001b[39m \u001b[34mdplyr\u001b[39m::\u001b[32mlag()\u001b[39m    masks \u001b[34mstats\u001b[39m::lag()\n",
      "\n"
     ]
    }
   ],
   "source": [
    "library(tidyverse)"
   ]
  },
  {
   "cell_type": "markdown",
   "metadata": {},
   "source": [
    "# Checking common mistakes with read csv\n",
    "\n",
    "In some cases we must need to specify in which row the csv initiate"
   ]
  },
  {
   "cell_type": "code",
   "execution_count": 5,
   "metadata": {},
   "outputs": [
    {
     "name": "stderr",
     "output_type": "stream",
     "text": [
      "\n",
      "\u001b[36m--\u001b[39m \u001b[1m\u001b[1mColumn specification\u001b[1m\u001b[22m \u001b[36m------------------------------------------------------------------------------------------------\u001b[39m\n",
      "cols(\n",
      "  `# Data file contents: Daily temperatures (mean` = \u001b[31mcol_character()\u001b[39m,\n",
      "  min = \u001b[31mcol_character()\u001b[39m,\n",
      "  `max) for Kumpula` = \u001b[31mcol_character()\u001b[39m,\n",
      "  Helsinki = \u001b[31mcol_character()\u001b[39m\n",
      ")\n",
      "\n",
      "\n",
      "Warning message:\n",
      "\"6 parsing failures.\n",
      "row col  expected    actual                                           file\n",
      "  1  -- 4 columns 2 columns '../datasets/Kumpula-June-2016-w-metadata.txt'\n",
      "  2  -- 4 columns 1 columns '../datasets/Kumpula-June-2016-w-metadata.txt'\n",
      "  3  -- 4 columns 2 columns '../datasets/Kumpula-June-2016-w-metadata.txt'\n",
      "  4  -- 4 columns 1 columns '../datasets/Kumpula-June-2016-w-metadata.txt'\n",
      "  5  -- 4 columns 1 columns '../datasets/Kumpula-June-2016-w-metadata.txt'\n",
      "... ... ......... ......... ..............................................\n",
      "See problems(...) for more details.\n",
      "\"\n"
     ]
    },
    {
     "data": {
      "text/html": [
       "<table>\n",
       "<caption>A spec_tbl_df: 37 × 4</caption>\n",
       "<thead>\n",
       "\t<tr><th scope=col># Data file contents: Daily temperatures (mean</th><th scope=col>min</th><th scope=col>max) for Kumpula</th><th scope=col>Helsinki</th></tr>\n",
       "\t<tr><th scope=col>&lt;chr&gt;</th><th scope=col>&lt;chr&gt;</th><th scope=col>&lt;chr&gt;</th><th scope=col>&lt;chr&gt;</th></tr>\n",
       "</thead>\n",
       "<tbody>\n",
       "\t<tr><td>#                     for June 1-30                                    </td><td>2016        </td><td>NA  </td><td>NA  </td></tr>\n",
       "\t<tr><td># Data source: https://www.ncdc.noaa.gov/cdo-web/search?datasetid=GHCND</td><td>NA          </td><td>NA  </td><td>NA  </td></tr>\n",
       "\t<tr><td># Data processing: Extracted temperatures from raw data file           </td><td>converted to</td><td>NA  </td><td>NA  </td></tr>\n",
       "\t<tr><td>#                  comma-separated format                              </td><td>NA          </td><td>NA  </td><td>NA  </td></tr>\n",
       "\t<tr><td>#                                                                      </td><td>NA          </td><td>NA  </td><td>NA  </td></tr>\n",
       "\t<tr><td># David Whipp - 02.10.2017                                             </td><td>NA          </td><td>NA  </td><td>NA  </td></tr>\n",
       "\t<tr><td>YEARMODA                                                               </td><td>TEMP        </td><td>MAX </td><td>MIN </td></tr>\n",
       "\t<tr><td>20160601                                                               </td><td>65.5        </td><td>73.6</td><td>54.7</td></tr>\n",
       "\t<tr><td>20160602                                                               </td><td>65.8        </td><td>80.8</td><td>55.0</td></tr>\n",
       "\t<tr><td>20160603                                                               </td><td>68.4        </td><td>77.9</td><td>55.6</td></tr>\n",
       "\t<tr><td>20160604                                                               </td><td>57.5        </td><td>70.9</td><td>47.3</td></tr>\n",
       "\t<tr><td>20160605                                                               </td><td>51.4        </td><td>58.3</td><td>43.2</td></tr>\n",
       "\t<tr><td>20160606                                                               </td><td>52.2        </td><td>59.7</td><td>42.8</td></tr>\n",
       "\t<tr><td>20160607                                                               </td><td>56.9        </td><td>65.1</td><td>45.9</td></tr>\n",
       "\t<tr><td>20160608                                                               </td><td>54.2        </td><td>60.4</td><td>47.5</td></tr>\n",
       "\t<tr><td>20160609                                                               </td><td>49.4        </td><td>54.1</td><td>45.7</td></tr>\n",
       "\t<tr><td>20160610                                                               </td><td>49.5        </td><td>55.9</td><td>43.0</td></tr>\n",
       "\t<tr><td>20160611                                                               </td><td>54.0        </td><td>62.1</td><td>41.7</td></tr>\n",
       "\t<tr><td>20160612                                                               </td><td>55.4        </td><td>64.2</td><td>46.0</td></tr>\n",
       "\t<tr><td>20160613                                                               </td><td>58.3        </td><td>68.2</td><td>47.3</td></tr>\n",
       "\t<tr><td>20160614                                                               </td><td>59.7        </td><td>67.8</td><td>47.8</td></tr>\n",
       "\t<tr><td>20160615                                                               </td><td>63.4        </td><td>70.3</td><td>49.3</td></tr>\n",
       "\t<tr><td>20160616                                                               </td><td>57.8        </td><td>67.5</td><td>55.6</td></tr>\n",
       "\t<tr><td>20160617                                                               </td><td>60.4        </td><td>70.7</td><td>55.9</td></tr>\n",
       "\t<tr><td>20160618                                                               </td><td>57.3        </td><td>62.8</td><td>54.0</td></tr>\n",
       "\t<tr><td>20160619                                                               </td><td>56.3        </td><td>59.2</td><td>54.1</td></tr>\n",
       "\t<tr><td>20160620                                                               </td><td>59.3        </td><td>69.1</td><td>52.2</td></tr>\n",
       "\t<tr><td>20160621                                                               </td><td>62.6        </td><td>71.4</td><td>50.4</td></tr>\n",
       "\t<tr><td>20160622                                                               </td><td>61.7        </td><td>70.2</td><td>55.4</td></tr>\n",
       "\t<tr><td>20160623                                                               </td><td>60.9        </td><td>67.1</td><td>54.9</td></tr>\n",
       "\t<tr><td>20160624                                                               </td><td>61.1        </td><td>68.9</td><td>56.7</td></tr>\n",
       "\t<tr><td>20160625                                                               </td><td>65.7        </td><td>75.4</td><td>57.9</td></tr>\n",
       "\t<tr><td>20160626                                                               </td><td>69.6        </td><td>77.7</td><td>60.3</td></tr>\n",
       "\t<tr><td>20160627                                                               </td><td>60.7        </td><td>70.0</td><td>57.6</td></tr>\n",
       "\t<tr><td>20160628                                                               </td><td>65.4        </td><td>73.0</td><td>55.8</td></tr>\n",
       "\t<tr><td>20160629                                                               </td><td>65.8        </td><td>73.2</td><td>59.7</td></tr>\n",
       "\t<tr><td>20160630                                                               </td><td>65.7        </td><td>72.7</td><td>59.2</td></tr>\n",
       "</tbody>\n",
       "</table>\n"
      ],
      "text/latex": [
       "A spec\\_tbl\\_df: 37 × 4\n",
       "\\begin{tabular}{llll}\n",
       " \\# Data file contents: Daily temperatures (mean & min & max) for Kumpula & Helsinki\\\\\n",
       " <chr> & <chr> & <chr> & <chr>\\\\\n",
       "\\hline\n",
       "\t \\#                     for June 1-30                                     & 2016         & NA   & NA  \\\\\n",
       "\t \\# Data source: https://www.ncdc.noaa.gov/cdo-web/search?datasetid=GHCND & NA           & NA   & NA  \\\\\n",
       "\t \\# Data processing: Extracted temperatures from raw data file            & converted to & NA   & NA  \\\\\n",
       "\t \\#                  comma-separated format                               & NA           & NA   & NA  \\\\\n",
       "\t \\#                                                                       & NA           & NA   & NA  \\\\\n",
       "\t \\# David Whipp - 02.10.2017                                              & NA           & NA   & NA  \\\\\n",
       "\t YEARMODA                                                                & TEMP         & MAX  & MIN \\\\\n",
       "\t 20160601                                                                & 65.5         & 73.6 & 54.7\\\\\n",
       "\t 20160602                                                                & 65.8         & 80.8 & 55.0\\\\\n",
       "\t 20160603                                                                & 68.4         & 77.9 & 55.6\\\\\n",
       "\t 20160604                                                                & 57.5         & 70.9 & 47.3\\\\\n",
       "\t 20160605                                                                & 51.4         & 58.3 & 43.2\\\\\n",
       "\t 20160606                                                                & 52.2         & 59.7 & 42.8\\\\\n",
       "\t 20160607                                                                & 56.9         & 65.1 & 45.9\\\\\n",
       "\t 20160608                                                                & 54.2         & 60.4 & 47.5\\\\\n",
       "\t 20160609                                                                & 49.4         & 54.1 & 45.7\\\\\n",
       "\t 20160610                                                                & 49.5         & 55.9 & 43.0\\\\\n",
       "\t 20160611                                                                & 54.0         & 62.1 & 41.7\\\\\n",
       "\t 20160612                                                                & 55.4         & 64.2 & 46.0\\\\\n",
       "\t 20160613                                                                & 58.3         & 68.2 & 47.3\\\\\n",
       "\t 20160614                                                                & 59.7         & 67.8 & 47.8\\\\\n",
       "\t 20160615                                                                & 63.4         & 70.3 & 49.3\\\\\n",
       "\t 20160616                                                                & 57.8         & 67.5 & 55.6\\\\\n",
       "\t 20160617                                                                & 60.4         & 70.7 & 55.9\\\\\n",
       "\t 20160618                                                                & 57.3         & 62.8 & 54.0\\\\\n",
       "\t 20160619                                                                & 56.3         & 59.2 & 54.1\\\\\n",
       "\t 20160620                                                                & 59.3         & 69.1 & 52.2\\\\\n",
       "\t 20160621                                                                & 62.6         & 71.4 & 50.4\\\\\n",
       "\t 20160622                                                                & 61.7         & 70.2 & 55.4\\\\\n",
       "\t 20160623                                                                & 60.9         & 67.1 & 54.9\\\\\n",
       "\t 20160624                                                                & 61.1         & 68.9 & 56.7\\\\\n",
       "\t 20160625                                                                & 65.7         & 75.4 & 57.9\\\\\n",
       "\t 20160626                                                                & 69.6         & 77.7 & 60.3\\\\\n",
       "\t 20160627                                                                & 60.7         & 70.0 & 57.6\\\\\n",
       "\t 20160628                                                                & 65.4         & 73.0 & 55.8\\\\\n",
       "\t 20160629                                                                & 65.8         & 73.2 & 59.7\\\\\n",
       "\t 20160630                                                                & 65.7         & 72.7 & 59.2\\\\\n",
       "\\end{tabular}\n"
      ],
      "text/markdown": [
       "\n",
       "A spec_tbl_df: 37 × 4\n",
       "\n",
       "| # Data file contents: Daily temperatures (mean &lt;chr&gt; | min &lt;chr&gt; | max) for Kumpula &lt;chr&gt; | Helsinki &lt;chr&gt; |\n",
       "|---|---|---|---|\n",
       "| #                     for June 1-30                                     | 2016         | NA   | NA   |\n",
       "| # Data source: https://www.ncdc.noaa.gov/cdo-web/search?datasetid=GHCND | NA           | NA   | NA   |\n",
       "| # Data processing: Extracted temperatures from raw data file            | converted to | NA   | NA   |\n",
       "| #                  comma-separated format                               | NA           | NA   | NA   |\n",
       "| #                                                                       | NA           | NA   | NA   |\n",
       "| # David Whipp - 02.10.2017                                              | NA           | NA   | NA   |\n",
       "| YEARMODA                                                                | TEMP         | MAX  | MIN  |\n",
       "| 20160601                                                                | 65.5         | 73.6 | 54.7 |\n",
       "| 20160602                                                                | 65.8         | 80.8 | 55.0 |\n",
       "| 20160603                                                                | 68.4         | 77.9 | 55.6 |\n",
       "| 20160604                                                                | 57.5         | 70.9 | 47.3 |\n",
       "| 20160605                                                                | 51.4         | 58.3 | 43.2 |\n",
       "| 20160606                                                                | 52.2         | 59.7 | 42.8 |\n",
       "| 20160607                                                                | 56.9         | 65.1 | 45.9 |\n",
       "| 20160608                                                                | 54.2         | 60.4 | 47.5 |\n",
       "| 20160609                                                                | 49.4         | 54.1 | 45.7 |\n",
       "| 20160610                                                                | 49.5         | 55.9 | 43.0 |\n",
       "| 20160611                                                                | 54.0         | 62.1 | 41.7 |\n",
       "| 20160612                                                                | 55.4         | 64.2 | 46.0 |\n",
       "| 20160613                                                                | 58.3         | 68.2 | 47.3 |\n",
       "| 20160614                                                                | 59.7         | 67.8 | 47.8 |\n",
       "| 20160615                                                                | 63.4         | 70.3 | 49.3 |\n",
       "| 20160616                                                                | 57.8         | 67.5 | 55.6 |\n",
       "| 20160617                                                                | 60.4         | 70.7 | 55.9 |\n",
       "| 20160618                                                                | 57.3         | 62.8 | 54.0 |\n",
       "| 20160619                                                                | 56.3         | 59.2 | 54.1 |\n",
       "| 20160620                                                                | 59.3         | 69.1 | 52.2 |\n",
       "| 20160621                                                                | 62.6         | 71.4 | 50.4 |\n",
       "| 20160622                                                                | 61.7         | 70.2 | 55.4 |\n",
       "| 20160623                                                                | 60.9         | 67.1 | 54.9 |\n",
       "| 20160624                                                                | 61.1         | 68.9 | 56.7 |\n",
       "| 20160625                                                                | 65.7         | 75.4 | 57.9 |\n",
       "| 20160626                                                                | 69.6         | 77.7 | 60.3 |\n",
       "| 20160627                                                                | 60.7         | 70.0 | 57.6 |\n",
       "| 20160628                                                                | 65.4         | 73.0 | 55.8 |\n",
       "| 20160629                                                                | 65.8         | 73.2 | 59.7 |\n",
       "| 20160630                                                                | 65.7         | 72.7 | 59.2 |\n",
       "\n"
      ],
      "text/plain": [
       "   # Data file contents: Daily temperatures (mean                         \n",
       "1  #                     for June 1-30                                    \n",
       "2  # Data source: https://www.ncdc.noaa.gov/cdo-web/search?datasetid=GHCND\n",
       "3  # Data processing: Extracted temperatures from raw data file           \n",
       "4  #                  comma-separated format                              \n",
       "5  #                                                                      \n",
       "6  # David Whipp - 02.10.2017                                             \n",
       "7  YEARMODA                                                               \n",
       "8  20160601                                                               \n",
       "9  20160602                                                               \n",
       "10 20160603                                                               \n",
       "11 20160604                                                               \n",
       "12 20160605                                                               \n",
       "13 20160606                                                               \n",
       "14 20160607                                                               \n",
       "15 20160608                                                               \n",
       "16 20160609                                                               \n",
       "17 20160610                                                               \n",
       "18 20160611                                                               \n",
       "19 20160612                                                               \n",
       "20 20160613                                                               \n",
       "21 20160614                                                               \n",
       "22 20160615                                                               \n",
       "23 20160616                                                               \n",
       "24 20160617                                                               \n",
       "25 20160618                                                               \n",
       "26 20160619                                                               \n",
       "27 20160620                                                               \n",
       "28 20160621                                                               \n",
       "29 20160622                                                               \n",
       "30 20160623                                                               \n",
       "31 20160624                                                               \n",
       "32 20160625                                                               \n",
       "33 20160626                                                               \n",
       "34 20160627                                                               \n",
       "35 20160628                                                               \n",
       "36 20160629                                                               \n",
       "37 20160630                                                               \n",
       "   min          max) for Kumpula Helsinki\n",
       "1  2016         NA               NA      \n",
       "2  NA           NA               NA      \n",
       "3  converted to NA               NA      \n",
       "4  NA           NA               NA      \n",
       "5  NA           NA               NA      \n",
       "6  NA           NA               NA      \n",
       "7  TEMP         MAX              MIN     \n",
       "8  65.5         73.6             54.7    \n",
       "9  65.8         80.8             55.0    \n",
       "10 68.4         77.9             55.6    \n",
       "11 57.5         70.9             47.3    \n",
       "12 51.4         58.3             43.2    \n",
       "13 52.2         59.7             42.8    \n",
       "14 56.9         65.1             45.9    \n",
       "15 54.2         60.4             47.5    \n",
       "16 49.4         54.1             45.7    \n",
       "17 49.5         55.9             43.0    \n",
       "18 54.0         62.1             41.7    \n",
       "19 55.4         64.2             46.0    \n",
       "20 58.3         68.2             47.3    \n",
       "21 59.7         67.8             47.8    \n",
       "22 63.4         70.3             49.3    \n",
       "23 57.8         67.5             55.6    \n",
       "24 60.4         70.7             55.9    \n",
       "25 57.3         62.8             54.0    \n",
       "26 56.3         59.2             54.1    \n",
       "27 59.3         69.1             52.2    \n",
       "28 62.6         71.4             50.4    \n",
       "29 61.7         70.2             55.4    \n",
       "30 60.9         67.1             54.9    \n",
       "31 61.1         68.9             56.7    \n",
       "32 65.7         75.4             57.9    \n",
       "33 69.6         77.7             60.3    \n",
       "34 60.7         70.0             57.6    \n",
       "35 65.4         73.0             55.8    \n",
       "36 65.8         73.2             59.7    \n",
       "37 65.7         72.7             59.2    "
      ]
     },
     "metadata": {},
     "output_type": "display_data"
    }
   ],
   "source": [
    "read_csv(\"../datasets/Kumpula-June-2016-w-metadata.txt\")"
   ]
  },
  {
   "cell_type": "code",
   "execution_count": 7,
   "metadata": {},
   "outputs": [
    {
     "name": "stderr",
     "output_type": "stream",
     "text": [
      "\n",
      "\u001b[36m--\u001b[39m \u001b[1m\u001b[1mColumn specification\u001b[1m\u001b[22m \u001b[36m------------------------------------------------------------------------------------------------\u001b[39m\n",
      "cols(\n",
      "  YEARMODA = \u001b[32mcol_double()\u001b[39m,\n",
      "  TEMP = \u001b[32mcol_double()\u001b[39m,\n",
      "  MAX = \u001b[32mcol_double()\u001b[39m,\n",
      "  MIN = \u001b[32mcol_double()\u001b[39m\n",
      ")\n",
      "\n",
      "\n"
     ]
    },
    {
     "data": {
      "text/html": [
       "<table>\n",
       "<caption>A spec_tbl_df: 30 × 4</caption>\n",
       "<thead>\n",
       "\t<tr><th scope=col>YEARMODA</th><th scope=col>TEMP</th><th scope=col>MAX</th><th scope=col>MIN</th></tr>\n",
       "\t<tr><th scope=col>&lt;dbl&gt;</th><th scope=col>&lt;dbl&gt;</th><th scope=col>&lt;dbl&gt;</th><th scope=col>&lt;dbl&gt;</th></tr>\n",
       "</thead>\n",
       "<tbody>\n",
       "\t<tr><td>20160601</td><td>65.5</td><td>73.6</td><td>54.7</td></tr>\n",
       "\t<tr><td>20160602</td><td>65.8</td><td>80.8</td><td>55.0</td></tr>\n",
       "\t<tr><td>20160603</td><td>68.4</td><td>77.9</td><td>55.6</td></tr>\n",
       "\t<tr><td>20160604</td><td>57.5</td><td>70.9</td><td>47.3</td></tr>\n",
       "\t<tr><td>20160605</td><td>51.4</td><td>58.3</td><td>43.2</td></tr>\n",
       "\t<tr><td>20160606</td><td>52.2</td><td>59.7</td><td>42.8</td></tr>\n",
       "\t<tr><td>20160607</td><td>56.9</td><td>65.1</td><td>45.9</td></tr>\n",
       "\t<tr><td>20160608</td><td>54.2</td><td>60.4</td><td>47.5</td></tr>\n",
       "\t<tr><td>20160609</td><td>49.4</td><td>54.1</td><td>45.7</td></tr>\n",
       "\t<tr><td>20160610</td><td>49.5</td><td>55.9</td><td>43.0</td></tr>\n",
       "\t<tr><td>20160611</td><td>54.0</td><td>62.1</td><td>41.7</td></tr>\n",
       "\t<tr><td>20160612</td><td>55.4</td><td>64.2</td><td>46.0</td></tr>\n",
       "\t<tr><td>20160613</td><td>58.3</td><td>68.2</td><td>47.3</td></tr>\n",
       "\t<tr><td>20160614</td><td>59.7</td><td>67.8</td><td>47.8</td></tr>\n",
       "\t<tr><td>20160615</td><td>63.4</td><td>70.3</td><td>49.3</td></tr>\n",
       "\t<tr><td>20160616</td><td>57.8</td><td>67.5</td><td>55.6</td></tr>\n",
       "\t<tr><td>20160617</td><td>60.4</td><td>70.7</td><td>55.9</td></tr>\n",
       "\t<tr><td>20160618</td><td>57.3</td><td>62.8</td><td>54.0</td></tr>\n",
       "\t<tr><td>20160619</td><td>56.3</td><td>59.2</td><td>54.1</td></tr>\n",
       "\t<tr><td>20160620</td><td>59.3</td><td>69.1</td><td>52.2</td></tr>\n",
       "\t<tr><td>20160621</td><td>62.6</td><td>71.4</td><td>50.4</td></tr>\n",
       "\t<tr><td>20160622</td><td>61.7</td><td>70.2</td><td>55.4</td></tr>\n",
       "\t<tr><td>20160623</td><td>60.9</td><td>67.1</td><td>54.9</td></tr>\n",
       "\t<tr><td>20160624</td><td>61.1</td><td>68.9</td><td>56.7</td></tr>\n",
       "\t<tr><td>20160625</td><td>65.7</td><td>75.4</td><td>57.9</td></tr>\n",
       "\t<tr><td>20160626</td><td>69.6</td><td>77.7</td><td>60.3</td></tr>\n",
       "\t<tr><td>20160627</td><td>60.7</td><td>70.0</td><td>57.6</td></tr>\n",
       "\t<tr><td>20160628</td><td>65.4</td><td>73.0</td><td>55.8</td></tr>\n",
       "\t<tr><td>20160629</td><td>65.8</td><td>73.2</td><td>59.7</td></tr>\n",
       "\t<tr><td>20160630</td><td>65.7</td><td>72.7</td><td>59.2</td></tr>\n",
       "</tbody>\n",
       "</table>\n"
      ],
      "text/latex": [
       "A spec\\_tbl\\_df: 30 × 4\n",
       "\\begin{tabular}{llll}\n",
       " YEARMODA & TEMP & MAX & MIN\\\\\n",
       " <dbl> & <dbl> & <dbl> & <dbl>\\\\\n",
       "\\hline\n",
       "\t 20160601 & 65.5 & 73.6 & 54.7\\\\\n",
       "\t 20160602 & 65.8 & 80.8 & 55.0\\\\\n",
       "\t 20160603 & 68.4 & 77.9 & 55.6\\\\\n",
       "\t 20160604 & 57.5 & 70.9 & 47.3\\\\\n",
       "\t 20160605 & 51.4 & 58.3 & 43.2\\\\\n",
       "\t 20160606 & 52.2 & 59.7 & 42.8\\\\\n",
       "\t 20160607 & 56.9 & 65.1 & 45.9\\\\\n",
       "\t 20160608 & 54.2 & 60.4 & 47.5\\\\\n",
       "\t 20160609 & 49.4 & 54.1 & 45.7\\\\\n",
       "\t 20160610 & 49.5 & 55.9 & 43.0\\\\\n",
       "\t 20160611 & 54.0 & 62.1 & 41.7\\\\\n",
       "\t 20160612 & 55.4 & 64.2 & 46.0\\\\\n",
       "\t 20160613 & 58.3 & 68.2 & 47.3\\\\\n",
       "\t 20160614 & 59.7 & 67.8 & 47.8\\\\\n",
       "\t 20160615 & 63.4 & 70.3 & 49.3\\\\\n",
       "\t 20160616 & 57.8 & 67.5 & 55.6\\\\\n",
       "\t 20160617 & 60.4 & 70.7 & 55.9\\\\\n",
       "\t 20160618 & 57.3 & 62.8 & 54.0\\\\\n",
       "\t 20160619 & 56.3 & 59.2 & 54.1\\\\\n",
       "\t 20160620 & 59.3 & 69.1 & 52.2\\\\\n",
       "\t 20160621 & 62.6 & 71.4 & 50.4\\\\\n",
       "\t 20160622 & 61.7 & 70.2 & 55.4\\\\\n",
       "\t 20160623 & 60.9 & 67.1 & 54.9\\\\\n",
       "\t 20160624 & 61.1 & 68.9 & 56.7\\\\\n",
       "\t 20160625 & 65.7 & 75.4 & 57.9\\\\\n",
       "\t 20160626 & 69.6 & 77.7 & 60.3\\\\\n",
       "\t 20160627 & 60.7 & 70.0 & 57.6\\\\\n",
       "\t 20160628 & 65.4 & 73.0 & 55.8\\\\\n",
       "\t 20160629 & 65.8 & 73.2 & 59.7\\\\\n",
       "\t 20160630 & 65.7 & 72.7 & 59.2\\\\\n",
       "\\end{tabular}\n"
      ],
      "text/markdown": [
       "\n",
       "A spec_tbl_df: 30 × 4\n",
       "\n",
       "| YEARMODA &lt;dbl&gt; | TEMP &lt;dbl&gt; | MAX &lt;dbl&gt; | MIN &lt;dbl&gt; |\n",
       "|---|---|---|---|\n",
       "| 20160601 | 65.5 | 73.6 | 54.7 |\n",
       "| 20160602 | 65.8 | 80.8 | 55.0 |\n",
       "| 20160603 | 68.4 | 77.9 | 55.6 |\n",
       "| 20160604 | 57.5 | 70.9 | 47.3 |\n",
       "| 20160605 | 51.4 | 58.3 | 43.2 |\n",
       "| 20160606 | 52.2 | 59.7 | 42.8 |\n",
       "| 20160607 | 56.9 | 65.1 | 45.9 |\n",
       "| 20160608 | 54.2 | 60.4 | 47.5 |\n",
       "| 20160609 | 49.4 | 54.1 | 45.7 |\n",
       "| 20160610 | 49.5 | 55.9 | 43.0 |\n",
       "| 20160611 | 54.0 | 62.1 | 41.7 |\n",
       "| 20160612 | 55.4 | 64.2 | 46.0 |\n",
       "| 20160613 | 58.3 | 68.2 | 47.3 |\n",
       "| 20160614 | 59.7 | 67.8 | 47.8 |\n",
       "| 20160615 | 63.4 | 70.3 | 49.3 |\n",
       "| 20160616 | 57.8 | 67.5 | 55.6 |\n",
       "| 20160617 | 60.4 | 70.7 | 55.9 |\n",
       "| 20160618 | 57.3 | 62.8 | 54.0 |\n",
       "| 20160619 | 56.3 | 59.2 | 54.1 |\n",
       "| 20160620 | 59.3 | 69.1 | 52.2 |\n",
       "| 20160621 | 62.6 | 71.4 | 50.4 |\n",
       "| 20160622 | 61.7 | 70.2 | 55.4 |\n",
       "| 20160623 | 60.9 | 67.1 | 54.9 |\n",
       "| 20160624 | 61.1 | 68.9 | 56.7 |\n",
       "| 20160625 | 65.7 | 75.4 | 57.9 |\n",
       "| 20160626 | 69.6 | 77.7 | 60.3 |\n",
       "| 20160627 | 60.7 | 70.0 | 57.6 |\n",
       "| 20160628 | 65.4 | 73.0 | 55.8 |\n",
       "| 20160629 | 65.8 | 73.2 | 59.7 |\n",
       "| 20160630 | 65.7 | 72.7 | 59.2 |\n",
       "\n"
      ],
      "text/plain": [
       "   YEARMODA TEMP MAX  MIN \n",
       "1  20160601 65.5 73.6 54.7\n",
       "2  20160602 65.8 80.8 55.0\n",
       "3  20160603 68.4 77.9 55.6\n",
       "4  20160604 57.5 70.9 47.3\n",
       "5  20160605 51.4 58.3 43.2\n",
       "6  20160606 52.2 59.7 42.8\n",
       "7  20160607 56.9 65.1 45.9\n",
       "8  20160608 54.2 60.4 47.5\n",
       "9  20160609 49.4 54.1 45.7\n",
       "10 20160610 49.5 55.9 43.0\n",
       "11 20160611 54.0 62.1 41.7\n",
       "12 20160612 55.4 64.2 46.0\n",
       "13 20160613 58.3 68.2 47.3\n",
       "14 20160614 59.7 67.8 47.8\n",
       "15 20160615 63.4 70.3 49.3\n",
       "16 20160616 57.8 67.5 55.6\n",
       "17 20160617 60.4 70.7 55.9\n",
       "18 20160618 57.3 62.8 54.0\n",
       "19 20160619 56.3 59.2 54.1\n",
       "20 20160620 59.3 69.1 52.2\n",
       "21 20160621 62.6 71.4 50.4\n",
       "22 20160622 61.7 70.2 55.4\n",
       "23 20160623 60.9 67.1 54.9\n",
       "24 20160624 61.1 68.9 56.7\n",
       "25 20160625 65.7 75.4 57.9\n",
       "26 20160626 69.6 77.7 60.3\n",
       "27 20160627 60.7 70.0 57.6\n",
       "28 20160628 65.4 73.0 55.8\n",
       "29 20160629 65.8 73.2 59.7\n",
       "30 20160630 65.7 72.7 59.2"
      ]
     },
     "metadata": {},
     "output_type": "display_data"
    }
   ],
   "source": [
    "data <- read_csv(\"../datasets/Kumpula-June-2016-w-metadata.txt\", skip = 8)\n",
    "data"
   ]
  },
  {
   "cell_type": "markdown",
   "metadata": {},
   "source": [
    "### Column names"
   ]
  },
  {
   "cell_type": "code",
   "execution_count": 10,
   "metadata": {},
   "outputs": [
    {
     "data": {
      "text/html": [
       "<style>\n",
       ".list-inline {list-style: none; margin:0; padding: 0}\n",
       ".list-inline>li {display: inline-block}\n",
       ".list-inline>li:not(:last-child)::after {content: \"\\00b7\"; padding: 0 .5ex}\n",
       "</style>\n",
       "<ol class=list-inline><li>'YEARMODA'</li><li>'TEMP'</li><li>'MAX'</li><li>'MIN'</li></ol>\n"
      ],
      "text/latex": [
       "\\begin{enumerate*}\n",
       "\\item 'YEARMODA'\n",
       "\\item 'TEMP'\n",
       "\\item 'MAX'\n",
       "\\item 'MIN'\n",
       "\\end{enumerate*}\n"
      ],
      "text/markdown": [
       "1. 'YEARMODA'\n",
       "2. 'TEMP'\n",
       "3. 'MAX'\n",
       "4. 'MIN'\n",
       "\n",
       "\n"
      ],
      "text/plain": [
       "[1] \"YEARMODA\" \"TEMP\"     \"MAX\"      \"MIN\"     "
      ]
     },
     "metadata": {},
     "output_type": "display_data"
    }
   ],
   "source": [
    "data %>%\n",
    "names()"
   ]
  },
  {
   "cell_type": "markdown",
   "metadata": {},
   "source": [
    "### Row names"
   ]
  },
  {
   "cell_type": "code",
   "execution_count": 12,
   "metadata": {},
   "outputs": [
    {
     "data": {
      "text/html": [
       "<style>\n",
       ".list-inline {list-style: none; margin:0; padding: 0}\n",
       ".list-inline>li {display: inline-block}\n",
       ".list-inline>li:not(:last-child)::after {content: \"\\00b7\"; padding: 0 .5ex}\n",
       "</style>\n",
       "<ol class=list-inline><li>'1'</li><li>'2'</li><li>'3'</li><li>'4'</li><li>'5'</li><li>'6'</li><li>'7'</li><li>'8'</li><li>'9'</li><li>'10'</li><li>'11'</li><li>'12'</li><li>'13'</li><li>'14'</li><li>'15'</li><li>'16'</li><li>'17'</li><li>'18'</li><li>'19'</li><li>'20'</li><li>'21'</li><li>'22'</li><li>'23'</li><li>'24'</li><li>'25'</li><li>'26'</li><li>'27'</li><li>'28'</li><li>'29'</li><li>'30'</li></ol>\n"
      ],
      "text/latex": [
       "\\begin{enumerate*}\n",
       "\\item '1'\n",
       "\\item '2'\n",
       "\\item '3'\n",
       "\\item '4'\n",
       "\\item '5'\n",
       "\\item '6'\n",
       "\\item '7'\n",
       "\\item '8'\n",
       "\\item '9'\n",
       "\\item '10'\n",
       "\\item '11'\n",
       "\\item '12'\n",
       "\\item '13'\n",
       "\\item '14'\n",
       "\\item '15'\n",
       "\\item '16'\n",
       "\\item '17'\n",
       "\\item '18'\n",
       "\\item '19'\n",
       "\\item '20'\n",
       "\\item '21'\n",
       "\\item '22'\n",
       "\\item '23'\n",
       "\\item '24'\n",
       "\\item '25'\n",
       "\\item '26'\n",
       "\\item '27'\n",
       "\\item '28'\n",
       "\\item '29'\n",
       "\\item '30'\n",
       "\\end{enumerate*}\n"
      ],
      "text/markdown": [
       "1. '1'\n",
       "2. '2'\n",
       "3. '3'\n",
       "4. '4'\n",
       "5. '5'\n",
       "6. '6'\n",
       "7. '7'\n",
       "8. '8'\n",
       "9. '9'\n",
       "10. '10'\n",
       "11. '11'\n",
       "12. '12'\n",
       "13. '13'\n",
       "14. '14'\n",
       "15. '15'\n",
       "16. '16'\n",
       "17. '17'\n",
       "18. '18'\n",
       "19. '19'\n",
       "20. '20'\n",
       "21. '21'\n",
       "22. '22'\n",
       "23. '23'\n",
       "24. '24'\n",
       "25. '25'\n",
       "26. '26'\n",
       "27. '27'\n",
       "28. '28'\n",
       "29. '29'\n",
       "30. '30'\n",
       "\n",
       "\n"
      ],
      "text/plain": [
       " [1] \"1\"  \"2\"  \"3\"  \"4\"  \"5\"  \"6\"  \"7\"  \"8\"  \"9\"  \"10\" \"11\" \"12\" \"13\" \"14\" \"15\"\n",
       "[16] \"16\" \"17\" \"18\" \"19\" \"20\" \"21\" \"22\" \"23\" \"24\" \"25\" \"26\" \"27\" \"28\" \"29\" \"30\""
      ]
     },
     "metadata": {},
     "output_type": "display_data"
    }
   ],
   "source": [
    "data %>%\n",
    "row.names()"
   ]
  },
  {
   "cell_type": "markdown",
   "metadata": {},
   "source": [
    "### Number of columns"
   ]
  },
  {
   "cell_type": "code",
   "execution_count": 14,
   "metadata": {},
   "outputs": [
    {
     "data": {
      "text/html": [
       "4"
      ],
      "text/latex": [
       "4"
      ],
      "text/markdown": [
       "4"
      ],
      "text/plain": [
       "[1] 4"
      ]
     },
     "metadata": {},
     "output_type": "display_data"
    }
   ],
   "source": [
    "length(data)"
   ]
  },
  {
   "cell_type": "markdown",
   "metadata": {},
   "source": [
    "### Number of Rows"
   ]
  },
  {
   "cell_type": "code",
   "execution_count": 16,
   "metadata": {},
   "outputs": [
    {
     "data": {
      "text/html": [
       "30"
      ],
      "text/latex": [
       "30"
      ],
      "text/markdown": [
       "30"
      ],
      "text/plain": [
       "[1] 30"
      ]
     },
     "metadata": {},
     "output_type": "display_data"
    }
   ],
   "source": [
    "nrow(data)"
   ]
  },
  {
   "cell_type": "markdown",
   "metadata": {},
   "source": [
    "### Dataframe shape or dimensions"
   ]
  },
  {
   "cell_type": "code",
   "execution_count": 17,
   "metadata": {},
   "outputs": [
    {
     "data": {
      "text/html": [
       "<style>\n",
       ".list-inline {list-style: none; margin:0; padding: 0}\n",
       ".list-inline>li {display: inline-block}\n",
       ".list-inline>li:not(:last-child)::after {content: \"\\00b7\"; padding: 0 .5ex}\n",
       "</style>\n",
       "<ol class=list-inline><li>30</li><li>4</li></ol>\n"
      ],
      "text/latex": [
       "\\begin{enumerate*}\n",
       "\\item 30\n",
       "\\item 4\n",
       "\\end{enumerate*}\n"
      ],
      "text/markdown": [
       "1. 30\n",
       "2. 4\n",
       "\n",
       "\n"
      ],
      "text/plain": [
       "[1] 30  4"
      ]
     },
     "metadata": {},
     "output_type": "display_data"
    }
   ],
   "source": [
    "dim(data)"
   ]
  },
  {
   "cell_type": "markdown",
   "metadata": {},
   "source": [
    "### data type of each column"
   ]
  },
  {
   "cell_type": "code",
   "execution_count": 18,
   "metadata": {},
   "outputs": [
    {
     "name": "stdout",
     "output_type": "stream",
     "text": [
      "tibble [30 x 4] (S3: spec_tbl_df/tbl_df/tbl/data.frame)\n",
      " $ YEARMODA: num [1:30] 20160601 20160602 20160603 20160604 20160605 ...\n",
      " $ TEMP    : num [1:30] 65.5 65.8 68.4 57.5 51.4 52.2 56.9 54.2 49.4 49.5 ...\n",
      " $ MAX     : num [1:30] 73.6 80.8 77.9 70.9 58.3 59.7 65.1 60.4 54.1 55.9 ...\n",
      " $ MIN     : num [1:30] 54.7 55 55.6 47.3 43.2 42.8 45.9 47.5 45.7 43 ...\n",
      " - attr(*, \"spec\")=\n",
      "  .. cols(\n",
      "  ..   YEARMODA = \u001b[32mcol_double()\u001b[39m,\n",
      "  ..   TEMP = \u001b[32mcol_double()\u001b[39m,\n",
      "  ..   MAX = \u001b[32mcol_double()\u001b[39m,\n",
      "  ..   MIN = \u001b[32mcol_double()\u001b[39m\n",
      "  .. )\n"
     ]
    }
   ],
   "source": [
    "str(data)"
   ]
  },
  {
   "cell_type": "markdown",
   "metadata": {},
   "source": [
    "### printing specific column"
   ]
  },
  {
   "cell_type": "code",
   "execution_count": 19,
   "metadata": {},
   "outputs": [
    {
     "data": {
      "text/html": [
       "<style>\n",
       ".list-inline {list-style: none; margin:0; padding: 0}\n",
       ".list-inline>li {display: inline-block}\n",
       ".list-inline>li:not(:last-child)::after {content: \"\\00b7\"; padding: 0 .5ex}\n",
       "</style>\n",
       "<ol class=list-inline><li>65.5</li><li>65.8</li><li>68.4</li><li>57.5</li><li>51.4</li><li>52.2</li><li>56.9</li><li>54.2</li><li>49.4</li><li>49.5</li><li>54</li><li>55.4</li><li>58.3</li><li>59.7</li><li>63.4</li><li>57.8</li><li>60.4</li><li>57.3</li><li>56.3</li><li>59.3</li><li>62.6</li><li>61.7</li><li>60.9</li><li>61.1</li><li>65.7</li><li>69.6</li><li>60.7</li><li>65.4</li><li>65.8</li><li>65.7</li></ol>\n"
      ],
      "text/latex": [
       "\\begin{enumerate*}\n",
       "\\item 65.5\n",
       "\\item 65.8\n",
       "\\item 68.4\n",
       "\\item 57.5\n",
       "\\item 51.4\n",
       "\\item 52.2\n",
       "\\item 56.9\n",
       "\\item 54.2\n",
       "\\item 49.4\n",
       "\\item 49.5\n",
       "\\item 54\n",
       "\\item 55.4\n",
       "\\item 58.3\n",
       "\\item 59.7\n",
       "\\item 63.4\n",
       "\\item 57.8\n",
       "\\item 60.4\n",
       "\\item 57.3\n",
       "\\item 56.3\n",
       "\\item 59.3\n",
       "\\item 62.6\n",
       "\\item 61.7\n",
       "\\item 60.9\n",
       "\\item 61.1\n",
       "\\item 65.7\n",
       "\\item 69.6\n",
       "\\item 60.7\n",
       "\\item 65.4\n",
       "\\item 65.8\n",
       "\\item 65.7\n",
       "\\end{enumerate*}\n"
      ],
      "text/markdown": [
       "1. 65.5\n",
       "2. 65.8\n",
       "3. 68.4\n",
       "4. 57.5\n",
       "5. 51.4\n",
       "6. 52.2\n",
       "7. 56.9\n",
       "8. 54.2\n",
       "9. 49.4\n",
       "10. 49.5\n",
       "11. 54\n",
       "12. 55.4\n",
       "13. 58.3\n",
       "14. 59.7\n",
       "15. 63.4\n",
       "16. 57.8\n",
       "17. 60.4\n",
       "18. 57.3\n",
       "19. 56.3\n",
       "20. 59.3\n",
       "21. 62.6\n",
       "22. 61.7\n",
       "23. 60.9\n",
       "24. 61.1\n",
       "25. 65.7\n",
       "26. 69.6\n",
       "27. 60.7\n",
       "28. 65.4\n",
       "29. 65.8\n",
       "30. 65.7\n",
       "\n",
       "\n"
      ],
      "text/plain": [
       " [1] 65.5 65.8 68.4 57.5 51.4 52.2 56.9 54.2 49.4 49.5 54.0 55.4 58.3 59.7 63.4\n",
       "[16] 57.8 60.4 57.3 56.3 59.3 62.6 61.7 60.9 61.1 65.7 69.6 60.7 65.4 65.8 65.7"
      ]
     },
     "metadata": {},
     "output_type": "display_data"
    }
   ],
   "source": [
    "data$TEMP"
   ]
  },
  {
   "cell_type": "markdown",
   "metadata": {},
   "source": [
    "### Adding new column"
   ]
  },
  {
   "cell_type": "code",
   "execution_count": 23,
   "metadata": {},
   "outputs": [
    {
     "data": {
      "text/html": [
       "<table>\n",
       "<caption>A spec_tbl_df: 30 × 5</caption>\n",
       "<thead>\n",
       "\t<tr><th scope=col>YEARMODA</th><th scope=col>TEMP</th><th scope=col>MAX</th><th scope=col>MIN</th><th scope=col>MaxMin</th></tr>\n",
       "\t<tr><th scope=col>&lt;dbl&gt;</th><th scope=col>&lt;dbl&gt;</th><th scope=col>&lt;dbl&gt;</th><th scope=col>&lt;dbl&gt;</th><th scope=col>&lt;dbl&gt;</th></tr>\n",
       "</thead>\n",
       "<tbody>\n",
       "\t<tr><td>20160601</td><td>65.5</td><td>73.6</td><td>54.7</td><td>4025.92</td></tr>\n",
       "\t<tr><td>20160602</td><td>65.8</td><td>80.8</td><td>55.0</td><td>4444.00</td></tr>\n",
       "\t<tr><td>20160603</td><td>68.4</td><td>77.9</td><td>55.6</td><td>4331.24</td></tr>\n",
       "\t<tr><td>20160604</td><td>57.5</td><td>70.9</td><td>47.3</td><td>3353.57</td></tr>\n",
       "\t<tr><td>20160605</td><td>51.4</td><td>58.3</td><td>43.2</td><td>2518.56</td></tr>\n",
       "\t<tr><td>20160606</td><td>52.2</td><td>59.7</td><td>42.8</td><td>2555.16</td></tr>\n",
       "\t<tr><td>20160607</td><td>56.9</td><td>65.1</td><td>45.9</td><td>2988.09</td></tr>\n",
       "\t<tr><td>20160608</td><td>54.2</td><td>60.4</td><td>47.5</td><td>2869.00</td></tr>\n",
       "\t<tr><td>20160609</td><td>49.4</td><td>54.1</td><td>45.7</td><td>2472.37</td></tr>\n",
       "\t<tr><td>20160610</td><td>49.5</td><td>55.9</td><td>43.0</td><td>2403.70</td></tr>\n",
       "\t<tr><td>20160611</td><td>54.0</td><td>62.1</td><td>41.7</td><td>2589.57</td></tr>\n",
       "\t<tr><td>20160612</td><td>55.4</td><td>64.2</td><td>46.0</td><td>2953.20</td></tr>\n",
       "\t<tr><td>20160613</td><td>58.3</td><td>68.2</td><td>47.3</td><td>3225.86</td></tr>\n",
       "\t<tr><td>20160614</td><td>59.7</td><td>67.8</td><td>47.8</td><td>3240.84</td></tr>\n",
       "\t<tr><td>20160615</td><td>63.4</td><td>70.3</td><td>49.3</td><td>3465.79</td></tr>\n",
       "\t<tr><td>20160616</td><td>57.8</td><td>67.5</td><td>55.6</td><td>3753.00</td></tr>\n",
       "\t<tr><td>20160617</td><td>60.4</td><td>70.7</td><td>55.9</td><td>3952.13</td></tr>\n",
       "\t<tr><td>20160618</td><td>57.3</td><td>62.8</td><td>54.0</td><td>3391.20</td></tr>\n",
       "\t<tr><td>20160619</td><td>56.3</td><td>59.2</td><td>54.1</td><td>3202.72</td></tr>\n",
       "\t<tr><td>20160620</td><td>59.3</td><td>69.1</td><td>52.2</td><td>3607.02</td></tr>\n",
       "\t<tr><td>20160621</td><td>62.6</td><td>71.4</td><td>50.4</td><td>3598.56</td></tr>\n",
       "\t<tr><td>20160622</td><td>61.7</td><td>70.2</td><td>55.4</td><td>3889.08</td></tr>\n",
       "\t<tr><td>20160623</td><td>60.9</td><td>67.1</td><td>54.9</td><td>3683.79</td></tr>\n",
       "\t<tr><td>20160624</td><td>61.1</td><td>68.9</td><td>56.7</td><td>3906.63</td></tr>\n",
       "\t<tr><td>20160625</td><td>65.7</td><td>75.4</td><td>57.9</td><td>4365.66</td></tr>\n",
       "\t<tr><td>20160626</td><td>69.6</td><td>77.7</td><td>60.3</td><td>4685.31</td></tr>\n",
       "\t<tr><td>20160627</td><td>60.7</td><td>70.0</td><td>57.6</td><td>4032.00</td></tr>\n",
       "\t<tr><td>20160628</td><td>65.4</td><td>73.0</td><td>55.8</td><td>4073.40</td></tr>\n",
       "\t<tr><td>20160629</td><td>65.8</td><td>73.2</td><td>59.7</td><td>4370.04</td></tr>\n",
       "\t<tr><td>20160630</td><td>65.7</td><td>72.7</td><td>59.2</td><td>4303.84</td></tr>\n",
       "</tbody>\n",
       "</table>\n"
      ],
      "text/latex": [
       "A spec\\_tbl\\_df: 30 × 5\n",
       "\\begin{tabular}{lllll}\n",
       " YEARMODA & TEMP & MAX & MIN & MaxMin\\\\\n",
       " <dbl> & <dbl> & <dbl> & <dbl> & <dbl>\\\\\n",
       "\\hline\n",
       "\t 20160601 & 65.5 & 73.6 & 54.7 & 4025.92\\\\\n",
       "\t 20160602 & 65.8 & 80.8 & 55.0 & 4444.00\\\\\n",
       "\t 20160603 & 68.4 & 77.9 & 55.6 & 4331.24\\\\\n",
       "\t 20160604 & 57.5 & 70.9 & 47.3 & 3353.57\\\\\n",
       "\t 20160605 & 51.4 & 58.3 & 43.2 & 2518.56\\\\\n",
       "\t 20160606 & 52.2 & 59.7 & 42.8 & 2555.16\\\\\n",
       "\t 20160607 & 56.9 & 65.1 & 45.9 & 2988.09\\\\\n",
       "\t 20160608 & 54.2 & 60.4 & 47.5 & 2869.00\\\\\n",
       "\t 20160609 & 49.4 & 54.1 & 45.7 & 2472.37\\\\\n",
       "\t 20160610 & 49.5 & 55.9 & 43.0 & 2403.70\\\\\n",
       "\t 20160611 & 54.0 & 62.1 & 41.7 & 2589.57\\\\\n",
       "\t 20160612 & 55.4 & 64.2 & 46.0 & 2953.20\\\\\n",
       "\t 20160613 & 58.3 & 68.2 & 47.3 & 3225.86\\\\\n",
       "\t 20160614 & 59.7 & 67.8 & 47.8 & 3240.84\\\\\n",
       "\t 20160615 & 63.4 & 70.3 & 49.3 & 3465.79\\\\\n",
       "\t 20160616 & 57.8 & 67.5 & 55.6 & 3753.00\\\\\n",
       "\t 20160617 & 60.4 & 70.7 & 55.9 & 3952.13\\\\\n",
       "\t 20160618 & 57.3 & 62.8 & 54.0 & 3391.20\\\\\n",
       "\t 20160619 & 56.3 & 59.2 & 54.1 & 3202.72\\\\\n",
       "\t 20160620 & 59.3 & 69.1 & 52.2 & 3607.02\\\\\n",
       "\t 20160621 & 62.6 & 71.4 & 50.4 & 3598.56\\\\\n",
       "\t 20160622 & 61.7 & 70.2 & 55.4 & 3889.08\\\\\n",
       "\t 20160623 & 60.9 & 67.1 & 54.9 & 3683.79\\\\\n",
       "\t 20160624 & 61.1 & 68.9 & 56.7 & 3906.63\\\\\n",
       "\t 20160625 & 65.7 & 75.4 & 57.9 & 4365.66\\\\\n",
       "\t 20160626 & 69.6 & 77.7 & 60.3 & 4685.31\\\\\n",
       "\t 20160627 & 60.7 & 70.0 & 57.6 & 4032.00\\\\\n",
       "\t 20160628 & 65.4 & 73.0 & 55.8 & 4073.40\\\\\n",
       "\t 20160629 & 65.8 & 73.2 & 59.7 & 4370.04\\\\\n",
       "\t 20160630 & 65.7 & 72.7 & 59.2 & 4303.84\\\\\n",
       "\\end{tabular}\n"
      ],
      "text/markdown": [
       "\n",
       "A spec_tbl_df: 30 × 5\n",
       "\n",
       "| YEARMODA &lt;dbl&gt; | TEMP &lt;dbl&gt; | MAX &lt;dbl&gt; | MIN &lt;dbl&gt; | MaxMin &lt;dbl&gt; |\n",
       "|---|---|---|---|---|\n",
       "| 20160601 | 65.5 | 73.6 | 54.7 | 4025.92 |\n",
       "| 20160602 | 65.8 | 80.8 | 55.0 | 4444.00 |\n",
       "| 20160603 | 68.4 | 77.9 | 55.6 | 4331.24 |\n",
       "| 20160604 | 57.5 | 70.9 | 47.3 | 3353.57 |\n",
       "| 20160605 | 51.4 | 58.3 | 43.2 | 2518.56 |\n",
       "| 20160606 | 52.2 | 59.7 | 42.8 | 2555.16 |\n",
       "| 20160607 | 56.9 | 65.1 | 45.9 | 2988.09 |\n",
       "| 20160608 | 54.2 | 60.4 | 47.5 | 2869.00 |\n",
       "| 20160609 | 49.4 | 54.1 | 45.7 | 2472.37 |\n",
       "| 20160610 | 49.5 | 55.9 | 43.0 | 2403.70 |\n",
       "| 20160611 | 54.0 | 62.1 | 41.7 | 2589.57 |\n",
       "| 20160612 | 55.4 | 64.2 | 46.0 | 2953.20 |\n",
       "| 20160613 | 58.3 | 68.2 | 47.3 | 3225.86 |\n",
       "| 20160614 | 59.7 | 67.8 | 47.8 | 3240.84 |\n",
       "| 20160615 | 63.4 | 70.3 | 49.3 | 3465.79 |\n",
       "| 20160616 | 57.8 | 67.5 | 55.6 | 3753.00 |\n",
       "| 20160617 | 60.4 | 70.7 | 55.9 | 3952.13 |\n",
       "| 20160618 | 57.3 | 62.8 | 54.0 | 3391.20 |\n",
       "| 20160619 | 56.3 | 59.2 | 54.1 | 3202.72 |\n",
       "| 20160620 | 59.3 | 69.1 | 52.2 | 3607.02 |\n",
       "| 20160621 | 62.6 | 71.4 | 50.4 | 3598.56 |\n",
       "| 20160622 | 61.7 | 70.2 | 55.4 | 3889.08 |\n",
       "| 20160623 | 60.9 | 67.1 | 54.9 | 3683.79 |\n",
       "| 20160624 | 61.1 | 68.9 | 56.7 | 3906.63 |\n",
       "| 20160625 | 65.7 | 75.4 | 57.9 | 4365.66 |\n",
       "| 20160626 | 69.6 | 77.7 | 60.3 | 4685.31 |\n",
       "| 20160627 | 60.7 | 70.0 | 57.6 | 4032.00 |\n",
       "| 20160628 | 65.4 | 73.0 | 55.8 | 4073.40 |\n",
       "| 20160629 | 65.8 | 73.2 | 59.7 | 4370.04 |\n",
       "| 20160630 | 65.7 | 72.7 | 59.2 | 4303.84 |\n",
       "\n"
      ],
      "text/plain": [
       "   YEARMODA TEMP MAX  MIN  MaxMin \n",
       "1  20160601 65.5 73.6 54.7 4025.92\n",
       "2  20160602 65.8 80.8 55.0 4444.00\n",
       "3  20160603 68.4 77.9 55.6 4331.24\n",
       "4  20160604 57.5 70.9 47.3 3353.57\n",
       "5  20160605 51.4 58.3 43.2 2518.56\n",
       "6  20160606 52.2 59.7 42.8 2555.16\n",
       "7  20160607 56.9 65.1 45.9 2988.09\n",
       "8  20160608 54.2 60.4 47.5 2869.00\n",
       "9  20160609 49.4 54.1 45.7 2472.37\n",
       "10 20160610 49.5 55.9 43.0 2403.70\n",
       "11 20160611 54.0 62.1 41.7 2589.57\n",
       "12 20160612 55.4 64.2 46.0 2953.20\n",
       "13 20160613 58.3 68.2 47.3 3225.86\n",
       "14 20160614 59.7 67.8 47.8 3240.84\n",
       "15 20160615 63.4 70.3 49.3 3465.79\n",
       "16 20160616 57.8 67.5 55.6 3753.00\n",
       "17 20160617 60.4 70.7 55.9 3952.13\n",
       "18 20160618 57.3 62.8 54.0 3391.20\n",
       "19 20160619 56.3 59.2 54.1 3202.72\n",
       "20 20160620 59.3 69.1 52.2 3607.02\n",
       "21 20160621 62.6 71.4 50.4 3598.56\n",
       "22 20160622 61.7 70.2 55.4 3889.08\n",
       "23 20160623 60.9 67.1 54.9 3683.79\n",
       "24 20160624 61.1 68.9 56.7 3906.63\n",
       "25 20160625 65.7 75.4 57.9 4365.66\n",
       "26 20160626 69.6 77.7 60.3 4685.31\n",
       "27 20160627 60.7 70.0 57.6 4032.00\n",
       "28 20160628 65.4 73.0 55.8 4073.40\n",
       "29 20160629 65.8 73.2 59.7 4370.04\n",
       "30 20160630 65.7 72.7 59.2 4303.84"
      ]
     },
     "metadata": {},
     "output_type": "display_data"
    }
   ],
   "source": [
    "data$MaxMin = data$MAX * data$MIN\n",
    "data"
   ]
  },
  {
   "cell_type": "markdown",
   "metadata": {},
   "source": [
    "### Transforming data type of a column"
   ]
  },
  {
   "cell_type": "code",
   "execution_count": 28,
   "metadata": {},
   "outputs": [
    {
     "data": {
      "text/html": [
       "<table>\n",
       "<caption>A spec_tbl_df: 30 × 5</caption>\n",
       "<thead>\n",
       "\t<tr><th scope=col>YEARMODA</th><th scope=col>TEMP</th><th scope=col>MAX</th><th scope=col>MIN</th><th scope=col>MaxMin</th></tr>\n",
       "\t<tr><th scope=col>&lt;dbl&gt;</th><th scope=col>&lt;dbl&gt;</th><th scope=col>&lt;chr&gt;</th><th scope=col>&lt;int&gt;</th><th scope=col>&lt;dbl&gt;</th></tr>\n",
       "</thead>\n",
       "<tbody>\n",
       "\t<tr><td>20160601</td><td>65.5</td><td>73.6</td><td>54</td><td>4025.92</td></tr>\n",
       "\t<tr><td>20160602</td><td>65.8</td><td>80.8</td><td>55</td><td>4444.00</td></tr>\n",
       "\t<tr><td>20160603</td><td>68.4</td><td>77.9</td><td>55</td><td>4331.24</td></tr>\n",
       "\t<tr><td>20160604</td><td>57.5</td><td>70.9</td><td>47</td><td>3353.57</td></tr>\n",
       "\t<tr><td>20160605</td><td>51.4</td><td>58.3</td><td>43</td><td>2518.56</td></tr>\n",
       "\t<tr><td>20160606</td><td>52.2</td><td>59.7</td><td>42</td><td>2555.16</td></tr>\n",
       "\t<tr><td>20160607</td><td>56.9</td><td>65.1</td><td>45</td><td>2988.09</td></tr>\n",
       "\t<tr><td>20160608</td><td>54.2</td><td>60.4</td><td>47</td><td>2869.00</td></tr>\n",
       "\t<tr><td>20160609</td><td>49.4</td><td>54.1</td><td>45</td><td>2472.37</td></tr>\n",
       "\t<tr><td>20160610</td><td>49.5</td><td>55.9</td><td>43</td><td>2403.70</td></tr>\n",
       "\t<tr><td>20160611</td><td>54.0</td><td>62.1</td><td>41</td><td>2589.57</td></tr>\n",
       "\t<tr><td>20160612</td><td>55.4</td><td>64.2</td><td>46</td><td>2953.20</td></tr>\n",
       "\t<tr><td>20160613</td><td>58.3</td><td>68.2</td><td>47</td><td>3225.86</td></tr>\n",
       "\t<tr><td>20160614</td><td>59.7</td><td>67.8</td><td>47</td><td>3240.84</td></tr>\n",
       "\t<tr><td>20160615</td><td>63.4</td><td>70.3</td><td>49</td><td>3465.79</td></tr>\n",
       "\t<tr><td>20160616</td><td>57.8</td><td>67.5</td><td>55</td><td>3753.00</td></tr>\n",
       "\t<tr><td>20160617</td><td>60.4</td><td>70.7</td><td>55</td><td>3952.13</td></tr>\n",
       "\t<tr><td>20160618</td><td>57.3</td><td>62.8</td><td>54</td><td>3391.20</td></tr>\n",
       "\t<tr><td>20160619</td><td>56.3</td><td>59.2</td><td>54</td><td>3202.72</td></tr>\n",
       "\t<tr><td>20160620</td><td>59.3</td><td>69.1</td><td>52</td><td>3607.02</td></tr>\n",
       "\t<tr><td>20160621</td><td>62.6</td><td>71.4</td><td>50</td><td>3598.56</td></tr>\n",
       "\t<tr><td>20160622</td><td>61.7</td><td>70.2</td><td>55</td><td>3889.08</td></tr>\n",
       "\t<tr><td>20160623</td><td>60.9</td><td>67.1</td><td>54</td><td>3683.79</td></tr>\n",
       "\t<tr><td>20160624</td><td>61.1</td><td>68.9</td><td>56</td><td>3906.63</td></tr>\n",
       "\t<tr><td>20160625</td><td>65.7</td><td>75.4</td><td>57</td><td>4365.66</td></tr>\n",
       "\t<tr><td>20160626</td><td>69.6</td><td>77.7</td><td>60</td><td>4685.31</td></tr>\n",
       "\t<tr><td>20160627</td><td>60.7</td><td>70  </td><td>57</td><td>4032.00</td></tr>\n",
       "\t<tr><td>20160628</td><td>65.4</td><td>73  </td><td>55</td><td>4073.40</td></tr>\n",
       "\t<tr><td>20160629</td><td>65.8</td><td>73.2</td><td>59</td><td>4370.04</td></tr>\n",
       "\t<tr><td>20160630</td><td>65.7</td><td>72.7</td><td>59</td><td>4303.84</td></tr>\n",
       "</tbody>\n",
       "</table>\n"
      ],
      "text/latex": [
       "A spec\\_tbl\\_df: 30 × 5\n",
       "\\begin{tabular}{lllll}\n",
       " YEARMODA & TEMP & MAX & MIN & MaxMin\\\\\n",
       " <dbl> & <dbl> & <chr> & <int> & <dbl>\\\\\n",
       "\\hline\n",
       "\t 20160601 & 65.5 & 73.6 & 54 & 4025.92\\\\\n",
       "\t 20160602 & 65.8 & 80.8 & 55 & 4444.00\\\\\n",
       "\t 20160603 & 68.4 & 77.9 & 55 & 4331.24\\\\\n",
       "\t 20160604 & 57.5 & 70.9 & 47 & 3353.57\\\\\n",
       "\t 20160605 & 51.4 & 58.3 & 43 & 2518.56\\\\\n",
       "\t 20160606 & 52.2 & 59.7 & 42 & 2555.16\\\\\n",
       "\t 20160607 & 56.9 & 65.1 & 45 & 2988.09\\\\\n",
       "\t 20160608 & 54.2 & 60.4 & 47 & 2869.00\\\\\n",
       "\t 20160609 & 49.4 & 54.1 & 45 & 2472.37\\\\\n",
       "\t 20160610 & 49.5 & 55.9 & 43 & 2403.70\\\\\n",
       "\t 20160611 & 54.0 & 62.1 & 41 & 2589.57\\\\\n",
       "\t 20160612 & 55.4 & 64.2 & 46 & 2953.20\\\\\n",
       "\t 20160613 & 58.3 & 68.2 & 47 & 3225.86\\\\\n",
       "\t 20160614 & 59.7 & 67.8 & 47 & 3240.84\\\\\n",
       "\t 20160615 & 63.4 & 70.3 & 49 & 3465.79\\\\\n",
       "\t 20160616 & 57.8 & 67.5 & 55 & 3753.00\\\\\n",
       "\t 20160617 & 60.4 & 70.7 & 55 & 3952.13\\\\\n",
       "\t 20160618 & 57.3 & 62.8 & 54 & 3391.20\\\\\n",
       "\t 20160619 & 56.3 & 59.2 & 54 & 3202.72\\\\\n",
       "\t 20160620 & 59.3 & 69.1 & 52 & 3607.02\\\\\n",
       "\t 20160621 & 62.6 & 71.4 & 50 & 3598.56\\\\\n",
       "\t 20160622 & 61.7 & 70.2 & 55 & 3889.08\\\\\n",
       "\t 20160623 & 60.9 & 67.1 & 54 & 3683.79\\\\\n",
       "\t 20160624 & 61.1 & 68.9 & 56 & 3906.63\\\\\n",
       "\t 20160625 & 65.7 & 75.4 & 57 & 4365.66\\\\\n",
       "\t 20160626 & 69.6 & 77.7 & 60 & 4685.31\\\\\n",
       "\t 20160627 & 60.7 & 70   & 57 & 4032.00\\\\\n",
       "\t 20160628 & 65.4 & 73   & 55 & 4073.40\\\\\n",
       "\t 20160629 & 65.8 & 73.2 & 59 & 4370.04\\\\\n",
       "\t 20160630 & 65.7 & 72.7 & 59 & 4303.84\\\\\n",
       "\\end{tabular}\n"
      ],
      "text/markdown": [
       "\n",
       "A spec_tbl_df: 30 × 5\n",
       "\n",
       "| YEARMODA &lt;dbl&gt; | TEMP &lt;dbl&gt; | MAX &lt;chr&gt; | MIN &lt;int&gt; | MaxMin &lt;dbl&gt; |\n",
       "|---|---|---|---|---|\n",
       "| 20160601 | 65.5 | 73.6 | 54 | 4025.92 |\n",
       "| 20160602 | 65.8 | 80.8 | 55 | 4444.00 |\n",
       "| 20160603 | 68.4 | 77.9 | 55 | 4331.24 |\n",
       "| 20160604 | 57.5 | 70.9 | 47 | 3353.57 |\n",
       "| 20160605 | 51.4 | 58.3 | 43 | 2518.56 |\n",
       "| 20160606 | 52.2 | 59.7 | 42 | 2555.16 |\n",
       "| 20160607 | 56.9 | 65.1 | 45 | 2988.09 |\n",
       "| 20160608 | 54.2 | 60.4 | 47 | 2869.00 |\n",
       "| 20160609 | 49.4 | 54.1 | 45 | 2472.37 |\n",
       "| 20160610 | 49.5 | 55.9 | 43 | 2403.70 |\n",
       "| 20160611 | 54.0 | 62.1 | 41 | 2589.57 |\n",
       "| 20160612 | 55.4 | 64.2 | 46 | 2953.20 |\n",
       "| 20160613 | 58.3 | 68.2 | 47 | 3225.86 |\n",
       "| 20160614 | 59.7 | 67.8 | 47 | 3240.84 |\n",
       "| 20160615 | 63.4 | 70.3 | 49 | 3465.79 |\n",
       "| 20160616 | 57.8 | 67.5 | 55 | 3753.00 |\n",
       "| 20160617 | 60.4 | 70.7 | 55 | 3952.13 |\n",
       "| 20160618 | 57.3 | 62.8 | 54 | 3391.20 |\n",
       "| 20160619 | 56.3 | 59.2 | 54 | 3202.72 |\n",
       "| 20160620 | 59.3 | 69.1 | 52 | 3607.02 |\n",
       "| 20160621 | 62.6 | 71.4 | 50 | 3598.56 |\n",
       "| 20160622 | 61.7 | 70.2 | 55 | 3889.08 |\n",
       "| 20160623 | 60.9 | 67.1 | 54 | 3683.79 |\n",
       "| 20160624 | 61.1 | 68.9 | 56 | 3906.63 |\n",
       "| 20160625 | 65.7 | 75.4 | 57 | 4365.66 |\n",
       "| 20160626 | 69.6 | 77.7 | 60 | 4685.31 |\n",
       "| 20160627 | 60.7 | 70   | 57 | 4032.00 |\n",
       "| 20160628 | 65.4 | 73   | 55 | 4073.40 |\n",
       "| 20160629 | 65.8 | 73.2 | 59 | 4370.04 |\n",
       "| 20160630 | 65.7 | 72.7 | 59 | 4303.84 |\n",
       "\n"
      ],
      "text/plain": [
       "   YEARMODA TEMP MAX  MIN MaxMin \n",
       "1  20160601 65.5 73.6 54  4025.92\n",
       "2  20160602 65.8 80.8 55  4444.00\n",
       "3  20160603 68.4 77.9 55  4331.24\n",
       "4  20160604 57.5 70.9 47  3353.57\n",
       "5  20160605 51.4 58.3 43  2518.56\n",
       "6  20160606 52.2 59.7 42  2555.16\n",
       "7  20160607 56.9 65.1 45  2988.09\n",
       "8  20160608 54.2 60.4 47  2869.00\n",
       "9  20160609 49.4 54.1 45  2472.37\n",
       "10 20160610 49.5 55.9 43  2403.70\n",
       "11 20160611 54.0 62.1 41  2589.57\n",
       "12 20160612 55.4 64.2 46  2953.20\n",
       "13 20160613 58.3 68.2 47  3225.86\n",
       "14 20160614 59.7 67.8 47  3240.84\n",
       "15 20160615 63.4 70.3 49  3465.79\n",
       "16 20160616 57.8 67.5 55  3753.00\n",
       "17 20160617 60.4 70.7 55  3952.13\n",
       "18 20160618 57.3 62.8 54  3391.20\n",
       "19 20160619 56.3 59.2 54  3202.72\n",
       "20 20160620 59.3 69.1 52  3607.02\n",
       "21 20160621 62.6 71.4 50  3598.56\n",
       "22 20160622 61.7 70.2 55  3889.08\n",
       "23 20160623 60.9 67.1 54  3683.79\n",
       "24 20160624 61.1 68.9 56  3906.63\n",
       "25 20160625 65.7 75.4 57  4365.66\n",
       "26 20160626 69.6 77.7 60  4685.31\n",
       "27 20160627 60.7 70   57  4032.00\n",
       "28 20160628 65.4 73   55  4073.40\n",
       "29 20160629 65.8 73.2 59  4370.04\n",
       "30 20160630 65.7 72.7 59  4303.84"
      ]
     },
     "metadata": {},
     "output_type": "display_data"
    }
   ],
   "source": [
    "data$MAX = as.character(data$MAX)\n",
    "data$MIN = as.integer(data$MIN)\n",
    "data"
   ]
  },
  {
   "cell_type": "markdown",
   "metadata": {},
   "source": [
    "### Getting some statistical insight"
   ]
  },
  {
   "cell_type": "code",
   "execution_count": 29,
   "metadata": {},
   "outputs": [
    {
     "data": {
      "text/html": [
       "59.73"
      ],
      "text/latex": [
       "59.73"
      ],
      "text/markdown": [
       "59.73"
      ],
      "text/plain": [
       "[1] 59.73"
      ]
     },
     "metadata": {},
     "output_type": "display_data"
    }
   ],
   "source": [
    "mean(data$TEMP)"
   ]
  },
  {
   "cell_type": "code",
   "execution_count": 30,
   "metadata": {},
   "outputs": [
    {
     "data": {
      "text/html": [
       "49.4"
      ],
      "text/latex": [
       "49.4"
      ],
      "text/markdown": [
       "49.4"
      ],
      "text/plain": [
       "[1] 49.4"
      ]
     },
     "metadata": {},
     "output_type": "display_data"
    }
   ],
   "source": [
    "min(data$TEMP)"
   ]
  },
  {
   "cell_type": "code",
   "execution_count": 31,
   "metadata": {},
   "outputs": [
    {
     "data": {
      "text/html": [
       "69.6"
      ],
      "text/latex": [
       "69.6"
      ],
      "text/markdown": [
       "69.6"
      ],
      "text/plain": [
       "[1] 69.6"
      ]
     },
     "metadata": {},
     "output_type": "display_data"
    }
   ],
   "source": [
    "max(data$TEMP)"
   ]
  },
  {
   "cell_type": "code",
   "execution_count": 33,
   "metadata": {},
   "outputs": [
    {
     "data": {
      "text/html": [
       "5.47547195257617"
      ],
      "text/latex": [
       "5.47547195257617"
      ],
      "text/markdown": [
       "5.47547195257617"
      ],
      "text/plain": [
       "[1] 5.475472"
      ]
     },
     "metadata": {},
     "output_type": "display_data"
    }
   ],
   "source": [
    "sd(data$TEMP)"
   ]
  },
  {
   "cell_type": "markdown",
   "metadata": {},
   "source": [
    "#### Statistical data for each column"
   ]
  },
  {
   "cell_type": "code",
   "execution_count": 34,
   "metadata": {},
   "outputs": [
    {
     "data": {
      "text/plain": [
       "    YEARMODA             TEMP           MAX                 MIN       \n",
       " Min.   :20160601   Min.   :49.40   Length:30          Min.   :41.00  \n",
       " 1st Qu.:20160608   1st Qu.:56.45   Class :character   1st Qu.:47.00  \n",
       " Median :20160616   Median :60.05   Mode  :character   Median :54.00  \n",
       " Mean   :20160616   Mean   :59.73                      Mean   :51.27  \n",
       " 3rd Qu.:20160623   3rd Qu.:64.90                      3rd Qu.:55.00  \n",
       " Max.   :20160630   Max.   :69.60                      Max.   :60.00  \n",
       "     MaxMin    \n",
       " Min.   :2404  \n",
       " 1st Qu.:3042  \n",
       " Median :3603  \n",
       " Mean   :3542  \n",
       " 3rd Qu.:4030  \n",
       " Max.   :4685  "
      ]
     },
     "metadata": {},
     "output_type": "display_data"
    }
   ],
   "source": [
    "summary(data)"
   ]
  },
  {
   "cell_type": "code",
   "execution_count": null,
   "metadata": {},
   "outputs": [],
   "source": []
  }
 ],
 "metadata": {
  "kernelspec": {
   "display_name": "R",
   "language": "R",
   "name": "ir"
  },
  "language_info": {
   "codemirror_mode": "r",
   "file_extension": ".r",
   "mimetype": "text/x-r-source",
   "name": "R",
   "pygments_lexer": "r",
   "version": "4.0.3"
  }
 },
 "nbformat": 4,
 "nbformat_minor": 4
}
